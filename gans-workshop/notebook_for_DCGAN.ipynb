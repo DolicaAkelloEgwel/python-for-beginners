{
 "cells": [
  {
   "attachments": {},
   "cell_type": "markdown",
   "metadata": {
    "id": "oSzDBnupFBJg"
   },
   "source": [
    "# Deep Convolutional Generative Adversarial Network (DCGAN)"
   ]
  },
  {
   "attachments": {},
   "cell_type": "markdown",
   "metadata": {
    "id": "9aEZvd6vRwOM"
   },
   "source": [
    "A tutorial for GAN image generation with DCGAN architecture. Adapting https://github.com/ravasconcelos/flowers_dcgan"
   ]
  },
  {
   "attachments": {},
   "cell_type": "markdown",
   "metadata": {
    "id": "f7Og7sDZQBmr"
   },
   "source": [
    "### Mounting Google Drive"
   ]
  },
  {
   "cell_type": "code",
   "execution_count": null,
   "metadata": {
    "id": "b3sKmfFJuC0D"
   },
   "outputs": [],
   "source": [
    "from google.colab import drive  # Mount Drive to access our images\n",
    "\n",
    "drive.mount(\"/content/gdrive\", force_remount=True)"
   ]
  },
  {
   "attachments": {},
   "cell_type": "markdown",
   "metadata": {
    "id": "jFDtb-HBFSHD"
   },
   "source": [
    "### Configuration\n",
    "\n",
    "Settings for our project. \n",
    "\n",
    "- Image size is 256px X 256px\n",
    "- Epochs = the number of \"rounds\" this dataset is being studied by the model\n",
    "- Batch size = number of samples processed before model gets updated\n",
    "- Noise size = parameter for the image generator, needs random noise as input to produce new samples\n",
    "- Number of new images created is 1000\n",
    "- Path to our dataset folder"
   ]
  },
  {
   "cell_type": "code",
   "execution_count": null,
   "metadata": {
    "id": "6aLDb5yKuZmS"
   },
   "outputs": [],
   "source": [
    "IMAGE_SIZE = 256\n",
    "EPOCHS = 200\n",
    "BATCH_SIZE = 64\n",
    "NOISE_SIZE = 100\n",
    "NUM_NEW_IMAGES = 1000\n",
    "DATASET_FOLDER = \"/content/gdrive/My Drive/Colab Notebooks/CTL_DCGAN/cats/\""
   ]
  },
  {
   "attachments": {},
   "cell_type": "markdown",
   "metadata": {
    "id": "CbtunS4kFlHo"
   },
   "source": [
    "### Importing libraries."
   ]
  },
  {
   "cell_type": "code",
   "execution_count": null,
   "metadata": {
    "id": "hpQpeL4ZFvt3"
   },
   "outputs": [],
   "source": [
    "from datetime import datetime\n",
    "import os\n",
    "from glob import glob\n",
    "from IPython import display\n",
    "import imageio\n",
    "import matplotlib.pyplot as plt\n",
    "\n",
    "%matplotlib inline\n",
    "import numpy as np\n",
    "import PIL\n",
    "from PIL import Image\n",
    "import pytz\n",
    "\n",
    "tz_NY = pytz.timezone(\"America/New_York\")\n",
    "import random\n",
    "from scipy import ndarray\n",
    "import skimage as sk\n",
    "from skimage import io\n",
    "from skimage import util\n",
    "from skimage import transform\n",
    "import tensorflow as tf\n",
    "from tensorflow.keras import layers\n",
    "import time"
   ]
  },
  {
   "attachments": {},
   "cell_type": "markdown",
   "metadata": {
    "id": "THY-sZMiQ4UV"
   },
   "source": [
    "### Defining models\n",
    "\n",
    "Both the generator and discriminator are defined using the [Keras Sequential API](https://www.tensorflow.org/guide/keras#sequential_model)."
   ]
  },
  {
   "attachments": {},
   "cell_type": "markdown",
   "metadata": {
    "id": "-tEyxE-GMC48"
   },
   "source": [
    "### Generator"
   ]
  },
  {
   "cell_type": "code",
   "execution_count": null,
   "metadata": {
    "colab": {
     "base_uri": "https://localhost:8080/",
     "height": 286
    },
    "executionInfo": {
     "elapsed": 5587,
     "status": "ok",
     "timestamp": 1667306625100,
     "user": {
      "displayName": "Veera",
      "userId": "08236981852998902750"
     },
     "user_tz": 0
    },
    "id": "6bpTcDqoLWjY",
    "outputId": "66e65540-6702-48a4-dff9-9aa00d0c49de"
   },
   "outputs": [],
   "source": [
    "def make_generator_model():\n",
    "    model = tf.keras.Sequential()\n",
    "    model.add(layers.Dense(64 * 64 * 256, use_bias=False, input_shape=(100,)))\n",
    "    model.add(layers.BatchNormalization())\n",
    "    model.add(layers.LeakyReLU())\n",
    "\n",
    "    model.add(layers.Reshape((64, 64, 256)))\n",
    "    assert model.output_shape == (None, 64, 64, 256)  # Note: None is the batch size\n",
    "\n",
    "    model.add(\n",
    "        layers.Conv2DTranspose(\n",
    "            128, (5, 5), strides=(1, 1), padding=\"same\", use_bias=False\n",
    "        )\n",
    "    )\n",
    "    assert model.output_shape == (None, 64, 64, 128)\n",
    "    model.add(layers.BatchNormalization())\n",
    "    model.add(layers.LeakyReLU())\n",
    "\n",
    "    model.add(\n",
    "        layers.Conv2DTranspose(\n",
    "            64, (5, 5), strides=(2, 2), padding=\"same\", use_bias=False\n",
    "        )\n",
    "    )\n",
    "    assert model.output_shape == (None, 128, 128, 64)\n",
    "    model.add(layers.BatchNormalization())\n",
    "    model.add(layers.LeakyReLU())\n",
    "\n",
    "    model.add(\n",
    "        layers.Conv2DTranspose(\n",
    "            3, (5, 5), strides=(2, 2), padding=\"same\", use_bias=False, activation=\"tanh\"\n",
    "        )\n",
    "    )\n",
    "    assert model.output_shape == (None, 256, 256, 3)\n",
    "\n",
    "    return model\n",
    "\n",
    "\n",
    "generator = make_generator_model()\n",
    "\n",
    "# Use the (as yet untrained) generator to create an image.\n",
    "noise = tf.random.normal([1, NOISE_SIZE])\n",
    "generated_image = generator(noise, training=False)\n",
    "\n",
    "generated_image2 = generated_image[0].numpy() * 127.5 + 127.5\n",
    "\n",
    "plt.imshow(generated_image2.astype(\"uint8\"))"
   ]
  },
  {
   "attachments": {},
   "cell_type": "markdown",
   "metadata": {
    "id": "D0IKnaCtg6WE"
   },
   "source": [
    "### Discriminator"
   ]
  },
  {
   "cell_type": "code",
   "execution_count": null,
   "metadata": {
    "colab": {
     "base_uri": "https://localhost:8080/"
    },
    "executionInfo": {
     "elapsed": 255,
     "status": "ok",
     "timestamp": 1667306629548,
     "user": {
      "displayName": "Veera",
      "userId": "08236981852998902750"
     },
     "user_tz": 0
    },
    "id": "dw2tPLmk2pEP",
    "outputId": "0240db6c-f324-4f6b-8e9e-9e5cf2fbc1c6"
   },
   "outputs": [],
   "source": [
    "def make_discriminator_model():\n",
    "    model = tf.keras.Sequential()\n",
    "    model.add(\n",
    "        layers.Conv2D(\n",
    "            64, (5, 5), strides=(2, 2), padding=\"same\", input_shape=[256, 256, 3]\n",
    "        )\n",
    "    )\n",
    "    model.add(layers.LeakyReLU())\n",
    "    model.add(layers.Dropout(0.3))\n",
    "\n",
    "    model.add(layers.Conv2D(128, (5, 5), strides=(2, 2), padding=\"same\"))\n",
    "    model.add(layers.LeakyReLU())\n",
    "    model.add(layers.Dropout(0.3))\n",
    "\n",
    "    model.add(layers.Flatten())\n",
    "    model.add(layers.Dense(1))\n",
    "\n",
    "    return model\n",
    "\n",
    "\n",
    "discriminator = make_discriminator_model()\n",
    "# Use the (as yet untrained) discriminator to classify the generated images as real or fake.\n",
    "# The model will be trained to output positive values for real images, and negative values for fake images.\n",
    "decision = discriminator(generated_image)\n",
    "print(decision)"
   ]
  },
  {
   "attachments": {},
   "cell_type": "markdown",
   "metadata": {
    "id": "NUX6W7M0n0Wg"
   },
   "source": [
    "### Data Preparation"
   ]
  },
  {
   "attachments": {},
   "cell_type": "markdown",
   "metadata": {
    "id": "D9EcQFsUKzeM"
   },
   "source": [
    "Here we make some functions for displaying our images and learning progress. These will be used later in the notebook."
   ]
  },
  {
   "cell_type": "code",
   "execution_count": null,
   "metadata": {
    "id": "fGfK0sPio0Bq"
   },
   "outputs": [],
   "source": [
    "def show_samples(sample_images):\n",
    "    print(\"len(sample_images): \", len(sample_images))\n",
    "    print(\"len(sample_images): \", sample_images[0].shape)\n",
    "\n",
    "    figure, axes = plt.subplots(1, len(sample_images), figsize=(50, 50))\n",
    "\n",
    "    print(\"figure: \", figure)\n",
    "    print(\"axes: \", axes)\n",
    "\n",
    "    for index, axis in enumerate(axes):\n",
    "        axis.axis(\"off\")\n",
    "        image_array = sample_images[index]\n",
    "        axis.imshow(image_array)\n",
    "\n",
    "    plt.show()\n",
    "    plt.close()"
   ]
  },
  {
   "cell_type": "code",
   "execution_count": null,
   "metadata": {
    "id": "uT0kRsVZyG52"
   },
   "outputs": [],
   "source": [
    "def show_image_custom(input_image):\n",
    "    fig = plt.figure(figsize=(4, 4))\n",
    "\n",
    "    plt.imshow(input_image)\n",
    "\n",
    "    plt.axis(\"off\")\n",
    "\n",
    "    plt.show()"
   ]
  },
  {
   "cell_type": "code",
   "execution_count": null,
   "metadata": {
    "id": "ZX6rFDPeA8mk"
   },
   "outputs": [],
   "source": [
    "def summarize_epoch(epoch, d_losses, g_losses, save_image=True):\n",
    "    fig, ax = plt.subplots()\n",
    "    plt.plot(d_losses, label=\"Discriminator\", alpha=0.6)\n",
    "    plt.plot(g_losses, label=\"Generator\", alpha=0.6)\n",
    "    plt.title(\"Losses\")\n",
    "    plt.legend()\n",
    "    if save_image:\n",
    "        plt.savefig(\"losses_\" + str(epoch) + \".png\")\n",
    "    plt.show()\n",
    "    plt.close()"
   ]
  },
  {
   "cell_type": "code",
   "execution_count": null,
   "metadata": {
    "id": "RmdVsmvhPxyy"
   },
   "outputs": [],
   "source": [
    "def generate_and_save_images(model, epoch, test_input, save_image=True):\n",
    "    # Notice `training` is set to False.\n",
    "    # This is so all layers run in inference mode (batchnorm).\n",
    "    predictions = model(test_input, training=False)\n",
    "\n",
    "    fig = plt.figure(figsize=(4, 4))\n",
    "\n",
    "    for i in range(predictions.shape[0]):\n",
    "        plt.subplot(4, 4, i + 1)\n",
    "        generated_image2 = predictions[i].numpy() * 127.5 + 127.5\n",
    "        plt.imshow(generated_image2.astype(\"uint8\"))\n",
    "\n",
    "        plt.axis(\"off\")\n",
    "\n",
    "    if save_image:\n",
    "        plt.savefig(\"image_at_epoch_{:04d}.png\".format(epoch))\n",
    "    plt.show()"
   ]
  },
  {
   "cell_type": "code",
   "execution_count": null,
   "metadata": {
    "id": "YgwgHAwKbA7g"
   },
   "outputs": [],
   "source": [
    "def show_samples2(sample_images):\n",
    "    figure, axes = plt.subplots(1, len(sample_images), figsize=(50, 50))\n",
    "\n",
    "    for index, axis in enumerate(axes):\n",
    "        axis.axis(\"off\")\n",
    "        image_array = sample_images[index]\n",
    "        image_array = image_array.numpy() * 127.5 + 127.5\n",
    "        axis.imshow(image_array.astype(np.uint8))\n",
    "\n",
    "    plt.show()\n",
    "    plt.close()"
   ]
  },
  {
   "attachments": {},
   "cell_type": "markdown",
   "metadata": {
    "id": "40CxidI1IBpm"
   },
   "source": [
    "### Data Augmentation"
   ]
  },
  {
   "attachments": {},
   "cell_type": "markdown",
   "metadata": {
    "id": "qYP62OBlIL9q"
   },
   "source": [
    "Image transformation methods. These are functions that we use later to our images. The goal is to \"see\" our dataset from different angles: imagine that the ML model is walking around the cat and closer to it instead of just watching from one distance and angle :)"
   ]
  },
  {
   "cell_type": "code",
   "execution_count": null,
   "metadata": {
    "id": "OjJtLwKqwsUU"
   },
   "outputs": [],
   "source": [
    "def random_rotation(image_array: ndarray):\n",
    "    # pick a random degree of rotation between 20% on the left and 20% on the right\n",
    "    random_degree = random.uniform(-20, 20)\n",
    "    return sk.transform.rotate(image_array, random_degree)\n",
    "\n",
    "\n",
    "def horizontal_flip(image_array: ndarray):\n",
    "    # horizontal flip doesn't need skimage, it's easy as flipping the image array of pixels !\n",
    "    return image_array[:, ::-1]\n",
    "\n",
    "\n",
    "def vertical_flip(image_array: ndarray):\n",
    "    return image_array[::-1, :]\n",
    "\n",
    "\n",
    "def vertical_and_horizontal_flip(image_array: ndarray):\n",
    "    h_flip_image = vertical_flip(image_array)\n",
    "    return horizontal_flip(h_flip_image)\n",
    "\n",
    "\n",
    "def TF_crop_pad(x, n_pixels=20, pad_mode=\"edge\"):\n",
    "    \"\"\"Pad image by n_pixels on each size, then take random crop of same\n",
    "    original size.\n",
    "    \"\"\"\n",
    "    assert len(x.shape) == 3\n",
    "    h, w, nc = x.shape\n",
    "\n",
    "    # First pad image by n_pixels on each side\n",
    "    padded = sk.util.pad(\n",
    "        x, [(n_pixels, n_pixels) for _ in range(2)] + [(0, 0)], mode=pad_mode\n",
    "    )\n",
    "\n",
    "    # Then take a random crop of the original size\n",
    "    crops = [(c, 2 * n_pixels - c) for c in np.random.randint(0, 2 * n_pixels + 1, [2])]\n",
    "    # For channel dimension don't do any cropping\n",
    "    crops += [(0, 0)]\n",
    "    return sk.transform.resize(\n",
    "        sk.util.crop(padded, crops, copy=True), (IMAGE_SIZE, IMAGE_SIZE)\n",
    "    )"
   ]
  },
  {
   "attachments": {},
   "cell_type": "markdown",
   "metadata": {
    "id": "PNnixXQxIVQE"
   },
   "source": [
    "Create these new images for better learning. We do this by doing random transformation on random images."
   ]
  },
  {
   "cell_type": "code",
   "execution_count": null,
   "metadata": {
    "id": "GbdAWEZKwsRn"
   },
   "outputs": [],
   "source": [
    "# dictionary of the transformations we defined earlier\n",
    "available_transformations = {\n",
    "    \"rotate\": random_rotation,\n",
    "    \"vertical_flip\": vertical_flip,\n",
    "    \"horizontal_flip\": horizontal_flip,\n",
    "    \"vertical_and_horizontal_flip\": vertical_and_horizontal_flip,\n",
    "    \"TF_crop_pad\": TF_crop_pad,\n",
    "}\n",
    "\n",
    "folder_path = DATASET_FOLDER\n",
    "\n",
    "# find all files paths from the folder\n",
    "images = [\n",
    "    os.path.join(folder_path, f)\n",
    "    for f in os.listdir(folder_path)\n",
    "    if os.path.isfile(os.path.join(folder_path, f))\n",
    "]\n",
    "\n",
    "num_generated_files = 0\n",
    "while num_generated_files <= NUM_NEW_IMAGES:\n",
    "    # random image from the folder\n",
    "    image_path = random.choice(images)\n",
    "    # read image as an two dimensional array of pixels\n",
    "    image_to_transform = sk.io.imread(image_path)\n",
    "    # random num of transformation to apply\n",
    "    num_transformations_to_apply = random.randint(1, len(available_transformations))\n",
    "\n",
    "    num_transformations = 0\n",
    "    transformed_image = None\n",
    "    while num_transformations <= num_transformations_to_apply:\n",
    "        # random transformation to apply for a single image\n",
    "        key = random.choice(list(available_transformations))\n",
    "        transformed_image = available_transformations[key](image_to_transform)\n",
    "        num_transformations += 1\n",
    "\n",
    "        new_file_path = \"%s/augmented_image_%s.jpg\" % (folder_path, num_generated_files)\n",
    "\n",
    "        # write image to the disk\n",
    "        # io.imsave(new_file_path, transformed_image.astype(np.uint8))\n",
    "        io.imsave(new_file_path, transformed_image)\n",
    "        num_generated_files += 1"
   ]
  },
  {
   "attachments": {},
   "cell_type": "markdown",
   "metadata": {
    "id": "iYn4MdZnKCey"
   },
   "source": [
    "### Load and prepare your custom dataset + show samples of it."
   ]
  },
  {
   "cell_type": "code",
   "execution_count": null,
   "metadata": {
    "id": "2nWJfwVmmQjL"
   },
   "outputs": [],
   "source": [
    "input_images = np.asarray(\n",
    "    [\n",
    "        np.asarray(Image.open(file).resize((IMAGE_SIZE, IMAGE_SIZE)))\n",
    "        for file in glob(DATASET_FOLDER + \"*\")\n",
    "    ]\n",
    ")\n",
    "print(\"Input: \" + str(input_images.shape))\n",
    "\n",
    "np.random.shuffle(input_images)\n",
    "\n",
    "train_images = input_images.reshape(input_images.shape[0], 256, 256, 3).astype(\n",
    "    \"float32\"\n",
    ")\n",
    "train_images = (train_images - 127.5) / 127.5\n",
    "\n",
    "BUFFER_SIZE = input_images.shape[0]\n",
    "# Batch and shuffle the data\n",
    "train_dataset = (\n",
    "    tf.data.Dataset.from_tensor_slices(train_images)\n",
    "    .shuffle(BUFFER_SIZE)\n",
    "    .batch(BATCH_SIZE)\n",
    ")\n",
    "\n",
    "sample_images = input_images[:5]\n",
    "show_samples(sample_images)"
   ]
  },
  {
   "attachments": {},
   "cell_type": "markdown",
   "metadata": {
    "id": "aM1maRmF-IIB"
   },
   "source": [
    "Show one image and the transformations - remember, this is just preparation, for the model to see the dataset from different angles."
   ]
  },
  {
   "cell_type": "code",
   "execution_count": null,
   "metadata": {
    "colab": {
     "base_uri": "https://localhost:8080/",
     "height": 248
    },
    "executionInfo": {
     "elapsed": 333,
     "status": "ok",
     "timestamp": 1667306733343,
     "user": {
      "displayName": "Veera",
      "userId": "08236981852998902750"
     },
     "user_tz": 0
    },
    "id": "hgYH0lzSt6jj",
    "outputId": "da055f51-177a-4d9d-9916-11acf28d5598"
   },
   "outputs": [],
   "source": [
    "show_image_custom(input_images[0])"
   ]
  },
  {
   "cell_type": "code",
   "execution_count": null,
   "metadata": {
    "colab": {
     "base_uri": "https://localhost:8080/",
     "height": 248
    },
    "executionInfo": {
     "elapsed": 335,
     "status": "ok",
     "timestamp": 1667306736207,
     "user": {
      "displayName": "Veera",
      "userId": "08236981852998902750"
     },
     "user_tz": 0
    },
    "id": "81_8Pm3Wt65I",
    "outputId": "f09b35cf-1924-4eea-a0b1-055785b4ed16"
   },
   "outputs": [],
   "source": [
    "show_image_custom(vertical_flip(input_images[0]))"
   ]
  },
  {
   "cell_type": "code",
   "execution_count": null,
   "metadata": {
    "colab": {
     "base_uri": "https://localhost:8080/",
     "height": 248
    },
    "executionInfo": {
     "elapsed": 529,
     "status": "ok",
     "timestamp": 1667306739084,
     "user": {
      "displayName": "Veera",
      "userId": "08236981852998902750"
     },
     "user_tz": 0
    },
    "id": "Hz7-J9Vpt7R4",
    "outputId": "82975364-b265-4ada-fd8f-1c1aa60828a1"
   },
   "outputs": [],
   "source": [
    "show_image_custom(horizontal_flip(input_images[0]))"
   ]
  },
  {
   "cell_type": "code",
   "execution_count": null,
   "metadata": {
    "colab": {
     "base_uri": "https://localhost:8080/",
     "height": 248
    },
    "executionInfo": {
     "elapsed": 353,
     "status": "ok",
     "timestamp": 1667306741402,
     "user": {
      "displayName": "Veera",
      "userId": "08236981852998902750"
     },
     "user_tz": 0
    },
    "id": "57cJF8kiuZXV",
    "outputId": "da5330af-0c85-433c-afa3-5726d14a3c6e"
   },
   "outputs": [],
   "source": [
    "show_image_custom(random_rotation(input_images[0]))"
   ]
  },
  {
   "cell_type": "code",
   "execution_count": null,
   "metadata": {
    "colab": {
     "base_uri": "https://localhost:8080/",
     "height": 248
    },
    "executionInfo": {
     "elapsed": 392,
     "status": "ok",
     "timestamp": 1667306743885,
     "user": {
      "displayName": "Veera",
      "userId": "08236981852998902750"
     },
     "user_tz": 0
    },
    "id": "NdISbuOauchY",
    "outputId": "5f321850-d8dd-49cf-a81b-eddfbb21bfd9"
   },
   "outputs": [],
   "source": [
    "show_image_custom(vertical_and_horizontal_flip(input_images[0]))"
   ]
  },
  {
   "attachments": {},
   "cell_type": "markdown",
   "metadata": {
    "id": "0FMYgY_mPfTi"
   },
   "source": [
    "### 8) Loss and optimizers\n",
    "\n",
    "Define loss functions and optimizers for both models."
   ]
  },
  {
   "cell_type": "code",
   "execution_count": null,
   "metadata": {
    "id": "psQfmXxYKU3X"
   },
   "outputs": [],
   "source": [
    "# This method returns a helper function to compute cross entropy loss\n",
    "cross_entropy = tf.keras.losses.BinaryCrossentropy(from_logits=True)"
   ]
  },
  {
   "attachments": {},
   "cell_type": "markdown",
   "metadata": {
    "id": "PKY_iPSPNWoj"
   },
   "source": [
    "**Discriminator loss**. This method quantifies how well the discriminator is able to distinguish real images from fakes. It compares the discriminator's predictions on real images to an array of 1s, and the discriminator's predictions on fake (generated) images to an array of 0s."
   ]
  },
  {
   "cell_type": "code",
   "execution_count": null,
   "metadata": {
    "id": "wkMNfBWlT-PV"
   },
   "outputs": [],
   "source": [
    "def discriminator_loss(real_output, fake_output):\n",
    "    real_loss = cross_entropy(tf.ones_like(real_output), real_output)\n",
    "    fake_loss = cross_entropy(tf.zeros_like(fake_output), fake_output)\n",
    "    total_loss = real_loss + fake_loss\n",
    "    return total_loss"
   ]
  },
  {
   "attachments": {},
   "cell_type": "markdown",
   "metadata": {
    "id": "Jd-3GCUEiKtv"
   },
   "source": [
    "**Generator loss**. The generator's loss quantifies how well it was able to trick the discriminator. Intuitively, if the generator is performing well, the discriminator will classify the fake images as real (or 1). Here, we will compare the discriminators decisions on the generated images to an array of 1s."
   ]
  },
  {
   "cell_type": "code",
   "execution_count": null,
   "metadata": {
    "id": "90BIcCKcDMxz"
   },
   "outputs": [],
   "source": [
    "def generator_loss(fake_output):\n",
    "    return cross_entropy(tf.ones_like(fake_output), fake_output)"
   ]
  },
  {
   "attachments": {},
   "cell_type": "markdown",
   "metadata": {
    "id": "MgIc7i0th_Iu"
   },
   "source": [
    "The discriminator and the generator optimizers are different since we will train two networks separately."
   ]
  },
  {
   "cell_type": "code",
   "execution_count": null,
   "metadata": {
    "id": "iWCn_PVdEJZ7"
   },
   "outputs": [],
   "source": [
    "generator_optimizer = tf.keras.optimizers.Adam(1e-4)\n",
    "discriminator_optimizer = tf.keras.optimizers.Adam(1e-4)"
   ]
  },
  {
   "attachments": {},
   "cell_type": "markdown",
   "metadata": {
    "id": "Rw1fkAczTQYh"
   },
   "source": [
    "### Training functions\n"
   ]
  },
  {
   "attachments": {},
   "cell_type": "markdown",
   "metadata": {
    "id": "mWtinsGDPJlV"
   },
   "source": [
    "**Save checkpoints**. This means saving the current status of the training. Can be helpful in case a long running training task is interrupted."
   ]
  },
  {
   "cell_type": "code",
   "execution_count": null,
   "metadata": {
    "id": "CA1w-7s2POEy"
   },
   "outputs": [],
   "source": [
    "checkpoint_dir = \"./training_checkpoints\"\n",
    "checkpoint_prefix = os.path.join(checkpoint_dir, \"ckpt\")\n",
    "checkpoint = tf.train.Checkpoint(\n",
    "    generator_optimizer=generator_optimizer,\n",
    "    discriminator_optimizer=discriminator_optimizer,\n",
    "    generator=generator,\n",
    "    discriminator=discriminator,\n",
    ")"
   ]
  },
  {
   "attachments": {},
   "cell_type": "markdown",
   "metadata": {
    "id": "VXJrtFXWBIEC"
   },
   "source": [
    "**Noise sample array** - preparations for giving the generator model some random noise as input."
   ]
  },
  {
   "cell_type": "code",
   "execution_count": null,
   "metadata": {
    "id": "NS2GWywBbAWo"
   },
   "outputs": [],
   "source": [
    "noise_dim = NOISE_SIZE\n",
    "num_examples_to_generate = 16\n",
    "\n",
    "# We will reuse this seed overtime (so it's easier)\n",
    "# to visualize progress in the animated GIF)\n",
    "seed = tf.random.normal([num_examples_to_generate, noise_dim])"
   ]
  },
  {
   "attachments": {},
   "cell_type": "markdown",
   "metadata": {
    "id": "jylSonrqSWfi"
   },
   "source": [
    "**The training loop** begins with generator receiving a random seed as input. That seed is used to produce an image. The discriminator is then used to classify real images (drawn from the training set) and fakes images (produced by the generator). The loss is calculated for each of these models, and the gradients are used to update the generator and discriminator."
   ]
  },
  {
   "cell_type": "code",
   "execution_count": null,
   "metadata": {
    "id": "3t5ibNo05jCB"
   },
   "outputs": [],
   "source": [
    "# Notice the use of `tf.function`\n",
    "# This annotation causes the function to be \"compiled\".\n",
    "@tf.function\n",
    "def train_step(images):\n",
    "    noise = tf.random.normal([BATCH_SIZE, noise_dim])\n",
    "\n",
    "    with tf.GradientTape() as gen_tape, tf.GradientTape() as disc_tape:\n",
    "        generated_images = generator(noise, training=True)\n",
    "\n",
    "        real_output = discriminator(images, training=True)\n",
    "        fake_output = discriminator(generated_images, training=True)\n",
    "\n",
    "        gen_loss = generator_loss(fake_output)\n",
    "        disc_loss = discriminator_loss(real_output, fake_output)\n",
    "\n",
    "    gradients_of_generator = gen_tape.gradient(gen_loss, generator.trainable_variables)\n",
    "    gradients_of_discriminator = disc_tape.gradient(\n",
    "        disc_loss, discriminator.trainable_variables\n",
    "    )\n",
    "\n",
    "    generator_optimizer.apply_gradients(\n",
    "        zip(gradients_of_generator, generator.trainable_variables)\n",
    "    )\n",
    "    discriminator_optimizer.apply_gradients(\n",
    "        zip(gradients_of_discriminator, discriminator.trainable_variables)\n",
    "    )\n",
    "\n",
    "    return gen_loss, disc_loss"
   ]
  },
  {
   "cell_type": "code",
   "execution_count": null,
   "metadata": {
    "id": "2M7LmLtGEMQJ"
   },
   "outputs": [],
   "source": [
    "def train(dataset, epochs):\n",
    "    print(\"Training started at: \", datetime.now(tz_NY))\n",
    "    save_image = False\n",
    "    d_losses = []\n",
    "    g_losses = []\n",
    "    for epoch in range(epochs):\n",
    "        start = time.time()\n",
    "\n",
    "        for image_batch in dataset:\n",
    "            d_loss, g_loss = train_step(image_batch)\n",
    "            d_losses.append(d_loss)\n",
    "            g_losses.append(g_loss)\n",
    "\n",
    "        # Produce images for the GIF as we go\n",
    "        display.clear_output(wait=True)\n",
    "\n",
    "        # Save the model every 20 epochs\n",
    "        if (epoch + 1) % 20 == 0:\n",
    "            checkpoint.save(file_prefix=checkpoint_prefix)\n",
    "            save_image = True\n",
    "\n",
    "        generate_and_save_images(generator, epoch + 1, seed, save_image)\n",
    "        summarize_epoch(epoch, d_losses, g_losses, save_image)\n",
    "        save_image = False\n",
    "        print(\"Time for epoch {} is {} sec\".format(epoch + 1, time.time() - start))\n",
    "\n",
    "    # Generate after the final epoch\n",
    "    display.clear_output(wait=True)\n",
    "    generate_and_save_images(generator, epochs, seed)\n",
    "    summarize_epoch(epoch, d_losses, g_losses)"
   ]
  },
  {
   "attachments": {},
   "cell_type": "markdown",
   "metadata": {
    "id": "dZrd4CdjR-Fp"
   },
   "source": [
    "### Finally, training the model!\n",
    "Call the `train()` method defined above to train the generator and discriminator simultaneously. How long this takes depends on many things - mainly your dataset size and number of epochs."
   ]
  },
  {
   "cell_type": "code",
   "execution_count": null,
   "metadata": {
    "colab": {
     "base_uri": "https://localhost:8080/",
     "height": 529
    },
    "id": "Ly3UN0SLLY2l",
    "outputId": "95d05663-62d9-4eec-f67f-30e6c768fc93"
   },
   "outputs": [],
   "source": [
    "train(train_dataset, EPOCHS)"
   ]
  },
  {
   "cell_type": "code",
   "execution_count": null,
   "metadata": {
    "colab": {
     "base_uri": "https://localhost:8080/",
     "height": 35
    },
    "id": "yhJAoyv9aq4-",
    "outputId": "e08db1d9-09b4-442e-d8b8-96c1af70ba50"
   },
   "outputs": [],
   "source": [
    "checkpoint.save(file_prefix=checkpoint_prefix)"
   ]
  },
  {
   "attachments": {},
   "cell_type": "markdown",
   "metadata": {
    "id": "rfM4YcPVPkNO"
   },
   "source": [
    "To restore a checkpoint upload a the ckpt files into training_checkpoints folder."
   ]
  },
  {
   "cell_type": "code",
   "execution_count": null,
   "metadata": {
    "id": "XhXsd0srPo8c"
   },
   "outputs": [],
   "source": [
    "# upload the files (checkpoint, ckpt-xxx.index, ckpt-xxx.data-*) into training_checkpoints folder\n",
    "RESTORE_CHECKPOINT = True\n",
    "if RESTORE_CHECKPOINT:\n",
    "    checkpoint.restore(tf.train.latest_checkpoint(checkpoint_dir))"
   ]
  },
  {
   "attachments": {},
   "cell_type": "markdown",
   "metadata": {
    "id": "pWzPsiScIsPz"
   },
   "source": [
    "### Generate some images!"
   ]
  },
  {
   "cell_type": "code",
   "execution_count": null,
   "metadata": {
    "colab": {
     "base_uri": "https://localhost:8080/",
     "height": 699
    },
    "id": "2F_nmw0FyeAW",
    "outputId": "049ba176-c884-4247-c58c-f1cd07e80e53"
   },
   "outputs": [],
   "source": [
    "noise = tf.random.normal([2, NOISE_SIZE])\n",
    "generated_image = generator(noise, training=False)\n",
    "show_samples2(generated_image)"
   ]
  },
  {
   "cell_type": "code",
   "execution_count": null,
   "metadata": {
    "colab": {
     "base_uri": "https://localhost:8080/",
     "height": 280
    },
    "id": "pJo1bXQ803WW",
    "outputId": "0f885932-9bb2-419c-fa99-cb143f6a9f7d"
   },
   "outputs": [],
   "source": [
    "noise = tf.random.normal([5, NOISE_SIZE])\n",
    "generated_image = generator(noise, training=False)\n",
    "show_samples2(generated_image)"
   ]
  },
  {
   "attachments": {},
   "cell_type": "markdown",
   "metadata": {
    "id": "P4M_vIbUi7c0"
   },
   "source": [
    "### Create a GIF\n"
   ]
  },
  {
   "attachments": {},
   "cell_type": "markdown",
   "metadata": {
    "id": "QPLAKWZVBPFo"
   },
   "source": [
    "The GIF uses images from different steps in the training. Thus, it visualises how the model has learned."
   ]
  },
  {
   "cell_type": "code",
   "execution_count": null,
   "metadata": {
    "id": "WfO5wCdclHGL"
   },
   "outputs": [],
   "source": [
    "# Display a single image using the epoch number\n",
    "def display_image(epoch_no):\n",
    "    return PIL.Image.open(\"image_at_epoch_{:04d}.png\".format(epoch_no))"
   ]
  },
  {
   "cell_type": "code",
   "execution_count": null,
   "metadata": {
    "colab": {
     "base_uri": "https://localhost:8080/",
     "height": 305
    },
    "id": "5x3q9_Oe5q0A",
    "outputId": "5d186f05-2cb9-4039-aeb5-499707b56e2e"
   },
   "outputs": [],
   "source": [
    "display_image(EPOCHS)"
   ]
  },
  {
   "attachments": {},
   "cell_type": "markdown",
   "metadata": {
    "id": "NywiH3nL8guF"
   },
   "source": [
    "Create an animated gif using the images saved during training."
   ]
  },
  {
   "cell_type": "code",
   "execution_count": null,
   "metadata": {
    "id": "IGKQgENQ8lEI"
   },
   "outputs": [],
   "source": [
    "anim_file = \"dcgan.gif\"\n",
    "\n",
    "with imageio.get_writer(anim_file, mode=\"I\") as writer:\n",
    "    filenames = glob(\"image*.png\")\n",
    "    filenames = sorted(filenames)\n",
    "    last = -1\n",
    "    for i, filename in enumerate(filenames):\n",
    "        frame = 2 * (i**0.5)\n",
    "        if round(frame) > round(last):\n",
    "            last = frame\n",
    "        else:\n",
    "            continue\n",
    "        image = imageio.imread(filename)\n",
    "        writer.append_data(image)\n",
    "    image = imageio.imread(filename)\n",
    "    writer.append_data(image)\n",
    "\n",
    "import IPython\n",
    "\n",
    "if IPython.version_info > (6, 2, 0, \"\"):\n",
    "    display.Image(filename=anim_file)"
   ]
  },
  {
   "attachments": {},
   "cell_type": "markdown",
   "metadata": {
    "id": "cGhC3-fMWSwl"
   },
   "source": [
    "You can download the animation with the code below:"
   ]
  },
  {
   "cell_type": "code",
   "execution_count": null,
   "metadata": {
    "colab": {
     "base_uri": "https://localhost:8080/",
     "height": 17
    },
    "id": "uV0yiKpzNP1b",
    "outputId": "af819b62-64dc-4d7d-c676-eef028079f49"
   },
   "outputs": [],
   "source": [
    "try:\n",
    "    from google.colab import files\n",
    "except ImportError:\n",
    "    pass\n",
    "else:\n",
    "    files.download(anim_file)"
   ]
  }
 ],
 "metadata": {
  "accelerator": "GPU",
  "colab": {
   "collapsed_sections": [],
   "machine_shape": "hm",
   "provenance": [],
   "toc_visible": true
  },
  "kernelspec": {
   "display_name": "",
   "language": "python",
   "name": ""
  },
  "language_info": {
   "codemirror_mode": {
    "name": "ipython",
    "version": 3
   },
   "file_extension": ".py",
   "mimetype": "text/x-python",
   "name": "python",
   "nbconvert_exporter": "python",
   "pygments_lexer": "ipython3",
   "version": "3.10.11"
  }
 },
 "nbformat": 4,
 "nbformat_minor": 0
}
