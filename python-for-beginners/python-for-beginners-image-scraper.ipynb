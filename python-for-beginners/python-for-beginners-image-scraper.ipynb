{
 "cells": [
  {
   "cell_type": "markdown",
   "id": "c4340206",
   "metadata": {},
   "source": [
    "# Python For Beginners\n",
    "## Image Scraper Tutorial"
   ]
  },
  {
   "cell_type": "markdown",
   "id": "e3d9caf1",
   "metadata": {},
   "source": [
    "### Some Python Basics"
   ]
  },
  {
   "cell_type": "markdown",
   "id": "e763092e",
   "metadata": {},
   "source": [
    "### Hello World"
   ]
  },
  {
   "cell_type": "code",
   "execution_count": null,
   "id": "894a730c",
   "metadata": {},
   "outputs": [],
   "source": [
    "my_text = \"Hello World!\"\n",
    "print(my_text)"
   ]
  },
  {
   "cell_type": "markdown",
   "id": "4ca1dc3c",
   "metadata": {},
   "source": [
    "Try it yourself:"
   ]
  },
  {
   "cell_type": "code",
   "execution_count": null,
   "id": "1ce7c6f9",
   "metadata": {},
   "outputs": [],
   "source": [
    "# live-coding goes here"
   ]
  },
  {
   "cell_type": "markdown",
   "id": "5fcacef5",
   "metadata": {},
   "source": [
    "### Lists"
   ]
  },
  {
   "cell_type": "markdown",
   "id": "f1817e6c",
   "metadata": {},
   "source": [
    "### Using Libraries"
   ]
  },
  {
   "cell_type": "code",
   "execution_count": null,
   "id": "4714d9ba",
   "metadata": {},
   "outputs": [],
   "source": [
    "%pip install emoji\n",
    "import emoji\n",
    "\n",
    "emojified = emoji.emojize(\"There is a :snake: in my boot !\")\n",
    "print(emojified)"
   ]
  },
  {
   "cell_type": "markdown",
   "id": "1f9b3bc4",
   "metadata": {},
   "source": [
    "First things first, we need to download some libraries in order to get our code working. Libraries are code that have been written by other developers. A lot of the time, certain common tasks have already been attempted by others. Using libraries saves a lot of time."
   ]
  },
  {
   "cell_type": "code",
   "execution_count": null,
   "id": "41206980",
   "metadata": {},
   "outputs": [],
   "source": [
    "%pip install requests\n",
    "%pip install beautifulsoup4\n",
    "\n",
    "import requests\n",
    "from bs4 import BeautifulSoup"
   ]
  },
  {
   "cell_type": "markdown",
   "id": "faf7d03e",
   "metadata": {},
   "source": [
    "[Unsplash](https://unsplash.com) is a website that provides a lot of free images. The code below is capable of downloading images from Unsplash."
   ]
  },
  {
   "cell_type": "code",
   "execution_count": null,
   "id": "e98494eb",
   "metadata": {},
   "outputs": [],
   "source": [
    "from PIL import Image\n",
    "import io\n",
    "\n",
    "\n",
    "def _bytes_to_image(image_data):\n",
    "    return Image.open(io.BytesIO(image_data))"
   ]
  },
  {
   "cell_type": "code",
   "execution_count": null,
   "id": "4fd376cd",
   "metadata": {},
   "outputs": [],
   "source": [
    "def photo_downloader(theme: str):\n",
    "    # Create a url for unsplash based on our theme\n",
    "    source_url = \"https://unsplash.com/s/photos/\" + theme\n",
    "\n",
    "    # Download the website with the imagesT\n",
    "    request = requests.get(source_url, allow_redirects=True)\n",
    "\n",
    "    # Tell BeautifulSoup to process this as HTML\n",
    "    data = BeautifulSoup(request.text, \"html.parser\")\n",
    "\n",
    "    # Retrieve the chunks of the HTML that contain images\n",
    "    all_found_images = data.find_all(\"figure\", itemprop=\"image\")\n",
    "\n",
    "    image_urls = [image.find(\"a\", rel=\"nofollow\") for image in all_found_images]\n",
    "    image_urls = filter(None, image_urls)\n",
    "\n",
    "    photo_bytes = [\n",
    "        requests.get(image_url[\"href\"], allow_redirects=True).content\n",
    "        for image_url in image_urls\n",
    "    ]\n",
    "\n",
    "    print(f\"Downloaded {len(photo_bytes)} images.\")\n",
    "\n",
    "    return [_bytes_to_image(single_bytes) for single_bytes in photo_bytes]"
   ]
  },
  {
   "cell_type": "code",
   "execution_count": null,
   "id": "b8f72c8e",
   "metadata": {},
   "outputs": [],
   "source": [
    "downloaded_photos = photo_downloader(\"robots\")\n",
    "downloaded_photos[0].show()"
   ]
  },
  {
   "cell_type": "code",
   "execution_count": null,
   "id": "7a424363",
   "metadata": {},
   "outputs": [],
   "source": [
    "import os\n",
    "import shutil"
   ]
  },
  {
   "cell_type": "code",
   "execution_count": null,
   "id": "a69bc964",
   "metadata": {},
   "outputs": [],
   "source": [
    "def photo_saver(downloaded_images):\n",
    "    # Get rid of the \"scrapper-pictures\" folder if it already exists\n",
    "    if os.path.exists(picture_folder_name):\n",
    "        shutil.rmtree(picture_folder_name)\n",
    "\n",
    "    # Create a new \"scrapper-pictures\" folder and move to it\n",
    "    os.makedirs(picture_folder_name)\n",
    "    os.chdir(picture_folder_name)\n",
    "\n",
    "    # Create a filename for the image\n",
    "    img_name = f\"{theme}-{count:02d}.jpg\"\n",
    "\n",
    "    # Use Python's built-in open function to create an empty file in write mode\n",
    "    with open(img_name, \"wb\") as photo:\n",
    "        # Write the data in our photo_bytes variable to the file\n",
    "        photo.write(photo_bytes.content)\n",
    "        # Increase the counter so that we don't use the same filename more than once\n",
    "        count += 1\n",
    "        # Print a message saying that an image has been saved successfully\n",
    "        print(\"Saved image \" + img_name)"
   ]
  }
 ],
 "metadata": {
  "kernelspec": {
   "display_name": "",
   "language": "python",
   "name": ""
  },
  "language_info": {
   "codemirror_mode": {
    "name": "ipython",
    "version": 3
   },
   "file_extension": ".py",
   "mimetype": "text/x-python",
   "name": "python",
   "nbconvert_exporter": "python",
   "pygments_lexer": "ipython3",
   "version": "3.11.3"
  }
 },
 "nbformat": 4,
 "nbformat_minor": 5
}
