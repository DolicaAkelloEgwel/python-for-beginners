{
 "cells": [
  {
   "cell_type": "markdown",
   "metadata": {
    "colab_type": "text",
    "id": "DpII-qgno6EX"
   },
   "source": [
    "# Convolutional GAN - CelebA With GELU Refinement\n",
    "\n",
    "Make Your First GAN With PyTorch, 2020"
   ]
  },
  {
   "cell_type": "code",
   "execution_count": null,
   "metadata": {
    "colab": {},
    "colab_type": "code",
    "id": "7bkrfSHHAPUB"
   },
   "outputs": [],
   "source": [
    "# import libraries\n",
    "\n",
    "import torch\n",
    "import torch.nn as nn\n",
    "from torch.utils.data import Dataset\n",
    "\n",
    "import h5py\n",
    "import pandas, numpy, random\n",
    "import matplotlib.pyplot as plt"
   ]
  },
  {
   "cell_type": "markdown",
   "metadata": {
    "colab_type": "text",
    "id": "Yz2Rsj32bsAA"
   },
   "source": [
    "## Standard CUDA Check And Set Up"
   ]
  },
  {
   "cell_type": "code",
   "execution_count": null,
   "metadata": {
    "colab": {
     "base_uri": "https://localhost:8080/",
     "height": 51
    },
    "colab_type": "code",
    "id": "GVWcKqW6bwSS",
    "outputId": "6173742a-1e5f-4373-d556-0a1d49976b18"
   },
   "outputs": [],
   "source": [
    "# check if CUDA is available\n",
    "# if yes, set default tensor type to cuda\n",
    "\n",
    "if torch.cuda.is_available():\n",
    "    torch.set_default_tensor_type(torch.cuda.FloatTensor)\n",
    "    print(\"using cuda:\", torch.cuda.get_device_name(0))\n",
    "    pass\n",
    "\n",
    "device = torch.device(\"cuda\" if torch.cuda.is_available() else \"cpu\")\n",
    "\n",
    "device"
   ]
  },
  {
   "cell_type": "markdown",
   "metadata": {
    "colab_type": "text",
    "id": "KWIiynblQJ4o"
   },
   "source": [
    "# Helper Functions"
   ]
  },
  {
   "cell_type": "code",
   "execution_count": null,
   "metadata": {
    "colab": {},
    "colab_type": "code",
    "id": "px_g8nYPBD3A"
   },
   "outputs": [],
   "source": [
    "# functions to generate random data\n",
    "\n",
    "\n",
    "def generate_random_image(size):\n",
    "    random_data = torch.rand(size)\n",
    "    return random_data\n",
    "\n",
    "\n",
    "def generate_random_seed(size):\n",
    "    random_data = torch.randn(size)\n",
    "    return random_data"
   ]
  },
  {
   "cell_type": "code",
   "execution_count": null,
   "metadata": {
    "colab": {},
    "colab_type": "code",
    "id": "OOdjz5EkROsQ"
   },
   "outputs": [],
   "source": [
    "# modified from https://github.com/pytorch/vision/issues/720\n",
    "\n",
    "\n",
    "class View(nn.Module):\n",
    "    def __init__(self, shape):\n",
    "        super().__init__()\n",
    "        self.shape = (shape,)\n",
    "\n",
    "    def forward(self, x):\n",
    "        return x.view(*self.shape)"
   ]
  },
  {
   "cell_type": "code",
   "execution_count": null,
   "metadata": {
    "colab": {},
    "colab_type": "code",
    "id": "atacm0OBJ505"
   },
   "outputs": [],
   "source": [
    "# crop (numpy array) image to given width and height\n",
    "\n",
    "\n",
    "def crop_centre(img, new_width, new_height):\n",
    "    height, width, _ = img.shape\n",
    "    startx = width // 2 - new_width // 2\n",
    "    starty = height // 2 - new_height // 2\n",
    "    return img[starty : starty + new_height, startx : startx + new_width, :]"
   ]
  },
  {
   "cell_type": "markdown",
   "metadata": {
    "colab_type": "text",
    "id": "o91c-ALVmw0n"
   },
   "source": [
    "## Dataset Class"
   ]
  },
  {
   "cell_type": "code",
   "execution_count": null,
   "metadata": {
    "colab": {},
    "colab_type": "code",
    "id": "hS9SJ5JI5rIW"
   },
   "outputs": [],
   "source": [
    "# dataset class\n",
    "\n",
    "\n",
    "class CelebADataset(Dataset):\n",
    "    def __init__(self, file):\n",
    "        self.file_object = h5py.File(file, \"r\")\n",
    "        self.dataset = self.file_object[\"img_align_celeba\"]\n",
    "        pass\n",
    "\n",
    "    def __len__(self):\n",
    "        return len(self.dataset)\n",
    "\n",
    "    def __getitem__(self, index):\n",
    "        if index >= len(self.dataset):\n",
    "            raise IndexError()\n",
    "        img = numpy.array(self.dataset[str(index) + \".jpg\"])\n",
    "        # crop to 128x128 square\n",
    "        img = crop_centre(img, 128, 128)\n",
    "        return torch.cuda.FloatTensor(img).permute(2, 0, 1).view(1, 3, 128, 128) / 255.0\n",
    "\n",
    "    def plot_image(self, index):\n",
    "        img = numpy.array(self.dataset[str(index) + \".jpg\"])\n",
    "        # crop to 128x128 square\n",
    "        img = crop_centre(img, 128, 128)\n",
    "        plt.imshow(img, interpolation=\"nearest\")\n",
    "        pass\n",
    "\n",
    "    pass"
   ]
  },
  {
   "cell_type": "code",
   "execution_count": null,
   "metadata": {
    "colab": {},
    "colab_type": "code",
    "id": "4xznLd7Cke2r"
   },
   "outputs": [],
   "source": [
    "path = \"celeba_aligned_small.h5py\"\n",
    "\n",
    "if torch.cuda.is_available() and \"Tesla\" in torch.cuda.get_device_name(0):\n",
    "    from google.colab import drive\n",
    "\n",
    "    drive.mount(\"/content/gdrive\")\n",
    "    path = \"/content/gdrive/MyDrive/Colab Notebooks/\" + path\n",
    "else:\n",
    "    torch.cuda.FloatTensor = torch.FloatTensor\n",
    "    path = \"./\" + path\n",
    "\n",
    "celeba_dataset = CelebADataset(path)"
   ]
  },
  {
   "cell_type": "code",
   "execution_count": null,
   "metadata": {
    "colab": {},
    "colab_type": "code",
    "id": "CKMHzHy7ltUR"
   },
   "outputs": [],
   "source": [
    "# check data contains images\n",
    "\n",
    "celeba_dataset.plot_image(43)"
   ]
  },
  {
   "cell_type": "markdown",
   "metadata": {
    "colab_type": "text",
    "id": "AJ_E9wgYQybx"
   },
   "source": [
    "## Discriminator Network"
   ]
  },
  {
   "cell_type": "code",
   "execution_count": null,
   "metadata": {
    "colab": {},
    "colab_type": "code",
    "id": "MrgKlTsRAfSk"
   },
   "outputs": [],
   "source": [
    "# discriminator class\n",
    "\n",
    "\n",
    "class Discriminator(nn.Module):\n",
    "    def __init__(self):\n",
    "        # initialise parent pytorch class\n",
    "        super().__init__()\n",
    "\n",
    "        # define neural network layers\n",
    "        self.model = nn.Sequential(\n",
    "            # expect input of shape (1,3,128,128)\n",
    "            nn.Conv2d(3, 256, kernel_size=8, stride=2),\n",
    "            nn.BatchNorm2d(256),\n",
    "            # nn.LeakyReLU(0.2),\n",
    "            nn.GELU(),\n",
    "            nn.Conv2d(256, 256, kernel_size=8, stride=2),\n",
    "            nn.BatchNorm2d(256),\n",
    "            # nn.LeakyReLU(0.2),\n",
    "            nn.GELU(),\n",
    "            nn.Conv2d(256, 3, kernel_size=8, stride=2),\n",
    "            # nn.LeakyReLU(0.2),\n",
    "            nn.GELU(),\n",
    "            View(3 * 10 * 10),\n",
    "            nn.Linear(3 * 10 * 10, 1),\n",
    "            nn.Sigmoid(),\n",
    "        )\n",
    "\n",
    "        # create loss function\n",
    "        self.loss_function = nn.BCELoss()\n",
    "\n",
    "        # create optimiser, simple stochastic gradient descent\n",
    "        self.optimiser = torch.optim.Adam(self.parameters(), lr=0.0001)\n",
    "\n",
    "        # counter and accumulator for progress\n",
    "        self.counter = 0\n",
    "        self.progress = []\n",
    "\n",
    "        pass\n",
    "\n",
    "    def forward(self, inputs):\n",
    "        # simply run model\n",
    "        return self.model(inputs)\n",
    "\n",
    "    def train(self, inputs, targets):\n",
    "        # calculate the output of the network\n",
    "        outputs = self.forward(inputs)\n",
    "\n",
    "        # calculate loss\n",
    "        loss = self.loss_function(outputs, targets)\n",
    "\n",
    "        # increase counter and accumulate error every 10\n",
    "        self.counter += 1\n",
    "        if self.counter % 10 == 0:\n",
    "            self.progress.append(loss.item())\n",
    "            pass\n",
    "        if self.counter % 1000 == 0:\n",
    "            print(\"counter = \", self.counter)\n",
    "            pass\n",
    "\n",
    "        # zero gradients, perform a backward pass, update weights\n",
    "        self.optimiser.zero_grad()\n",
    "        loss.backward()\n",
    "        self.optimiser.step()\n",
    "\n",
    "        pass\n",
    "\n",
    "    def plot_progress(self):\n",
    "        df = pandas.DataFrame(self.progress, columns=[\"loss\"])\n",
    "        df.plot(\n",
    "            ylim=(0),\n",
    "            figsize=(16, 8),\n",
    "            alpha=0.1,\n",
    "            marker=\".\",\n",
    "            grid=True,\n",
    "            yticks=(0, 0.25, 0.5, 1.0, 5.0),\n",
    "        )\n",
    "        pass\n",
    "\n",
    "    pass"
   ]
  },
  {
   "cell_type": "markdown",
   "metadata": {
    "colab_type": "text",
    "id": "IFajrD3xCgsb"
   },
   "source": [
    "## Test Discriminator"
   ]
  },
  {
   "cell_type": "code",
   "execution_count": null,
   "metadata": {
    "colab": {
     "base_uri": "https://localhost:8080/",
     "height": 731
    },
    "colab_type": "code",
    "id": "AXgCZ9DiCl3A",
    "outputId": "7f16b9ea-7be2-45cb-9ab7-415b27082e1a"
   },
   "outputs": [],
   "source": [
    "%%time\n",
    "# test discriminator can separate real data from random noise\n",
    "\n",
    "D = Discriminator()\n",
    "# move model to cuda device\n",
    "D.to(device)\n",
    "\n",
    "for image_data_tensor in celeba_dataset:\n",
    "    # real data\n",
    "    D.train(image_data_tensor, torch.cuda.FloatTensor([1.0]))\n",
    "    # fake data\n",
    "    D.train(generate_random_image((1, 3, 128, 128)), torch.cuda.FloatTensor([0.0]))\n",
    "    pass"
   ]
  },
  {
   "cell_type": "code",
   "execution_count": null,
   "metadata": {
    "colab": {
     "base_uri": "https://localhost:8080/",
     "height": 487
    },
    "colab_type": "code",
    "id": "aBh8AGJFDhcU",
    "outputId": "b2ccd8d7-c777-4d94-e7e0-e036140cff91"
   },
   "outputs": [],
   "source": [
    "# plot discriminator loss\n",
    "\n",
    "D.plot_progress()"
   ]
  },
  {
   "cell_type": "code",
   "execution_count": null,
   "metadata": {
    "colab": {
     "base_uri": "https://localhost:8080/",
     "height": 153
    },
    "colab_type": "code",
    "id": "MUMJn6efDkH5",
    "outputId": "ebdefb56-cacc-4e7c-884a-7a477b352925"
   },
   "outputs": [],
   "source": [
    "# manually run discriminator to check it can tell real data from fake\n",
    "\n",
    "for i in range(4):\n",
    "    image_data_tensor = celeba_dataset[random.randint(0, 20000)]\n",
    "    print(D.forward(image_data_tensor).item())\n",
    "    pass\n",
    "\n",
    "for i in range(4):\n",
    "    print(D.forward(generate_random_image((1, 3, 128, 128))).item())\n",
    "    pass"
   ]
  },
  {
   "cell_type": "markdown",
   "metadata": {
    "colab_type": "text",
    "id": "SsE9-KrguowG"
   },
   "source": [
    "## Generator Network"
   ]
  },
  {
   "cell_type": "code",
   "execution_count": null,
   "metadata": {
    "colab": {},
    "colab_type": "code",
    "id": "j-JwJlKDh_Ej"
   },
   "outputs": [],
   "source": [
    "# generator class\n",
    "\n",
    "\n",
    "class Generator(nn.Module):\n",
    "    def __init__(self):\n",
    "        # initialise parent pytorch class\n",
    "        super().__init__()\n",
    "\n",
    "        # define neural network layers\n",
    "        self.model = nn.Sequential(\n",
    "            # input is a 1d array\n",
    "            nn.Linear(100, 3 * 11 * 11),\n",
    "            # nn.LeakyReLU(0.2),\n",
    "            nn.GELU(),\n",
    "            # reshape to 4d\n",
    "            View((1, 3, 11, 11)),\n",
    "            nn.ConvTranspose2d(3, 256, kernel_size=8, stride=2),\n",
    "            nn.BatchNorm2d(256),\n",
    "            # nn.LeakyReLU(0.2),\n",
    "            nn.GELU(),\n",
    "            nn.ConvTranspose2d(256, 256, kernel_size=8, stride=2),\n",
    "            nn.BatchNorm2d(256),\n",
    "            # nn.LeakyReLU(0.2),\n",
    "            nn.GELU(),\n",
    "            nn.ConvTranspose2d(256, 3, kernel_size=8, stride=2, padding=1),\n",
    "            nn.BatchNorm2d(3),\n",
    "            # output should be (1,3,128,128)\n",
    "            nn.Sigmoid(),\n",
    "        )\n",
    "\n",
    "        # create optimiser, simple stochastic gradient descent\n",
    "        self.optimiser = torch.optim.Adam(self.parameters(), lr=0.0001)\n",
    "\n",
    "        # counter and accumulator for progress\n",
    "        self.counter = 0\n",
    "        self.progress = []\n",
    "\n",
    "        pass\n",
    "\n",
    "    def forward(self, inputs):\n",
    "        # simply run model\n",
    "        return self.model(inputs)\n",
    "\n",
    "    def train(self, D, inputs, targets):\n",
    "        # calculate the output of the network\n",
    "        g_output = self.forward(inputs)\n",
    "\n",
    "        # pass onto Discriminator\n",
    "        d_output = D.forward(g_output)\n",
    "\n",
    "        # calculate error\n",
    "        loss = D.loss_function(d_output, targets)\n",
    "\n",
    "        # increase counter and accumulate error every 10\n",
    "        self.counter += 1\n",
    "        if self.counter % 10 == 0:\n",
    "            self.progress.append(loss.item())\n",
    "            pass\n",
    "\n",
    "        # zero gradients, perform a backward pass, update weights\n",
    "        self.optimiser.zero_grad()\n",
    "        loss.backward()\n",
    "        self.optimiser.step()\n",
    "\n",
    "        pass\n",
    "\n",
    "    def plot_progress(self):\n",
    "        df = pandas.DataFrame(self.progress, columns=[\"loss\"])\n",
    "        df.plot(\n",
    "            ylim=(0),\n",
    "            figsize=(16, 8),\n",
    "            alpha=0.1,\n",
    "            marker=\".\",\n",
    "            grid=True,\n",
    "            yticks=(0, 0.25, 0.5, 1.0, 5.0),\n",
    "        )\n",
    "        pass\n",
    "\n",
    "    pass"
   ]
  },
  {
   "cell_type": "markdown",
   "metadata": {
    "colab_type": "text",
    "id": "SwjycPNXxF7G"
   },
   "source": [
    "## Test Generator Output"
   ]
  },
  {
   "cell_type": "code",
   "execution_count": null,
   "metadata": {
    "colab": {
     "base_uri": "https://localhost:8080/",
     "height": 285
    },
    "colab_type": "code",
    "id": "84vbfjGRwodN",
    "outputId": "de9d1837-f28f-4a27-a21f-adf4eda54bf9"
   },
   "outputs": [],
   "source": [
    "# check the generator output is of the right type and shape\n",
    "\n",
    "G = Generator()\n",
    "# move model to cuda device\n",
    "G.to(device)\n",
    "\n",
    "output = G.forward(generate_random_seed(100))\n",
    "\n",
    "img = output.detach().permute(0, 2, 3, 1).view(128, 128, 3).cpu().numpy()\n",
    "\n",
    "plt.imshow(img, interpolation=\"none\", cmap=\"Blues\")"
   ]
  },
  {
   "cell_type": "markdown",
   "metadata": {
    "colab_type": "text",
    "id": "5k9SRwIkxTLi"
   },
   "source": [
    "## Train GAN"
   ]
  },
  {
   "cell_type": "code",
   "execution_count": null,
   "metadata": {
    "colab": {
     "base_uri": "https://localhost:8080/",
     "height": 289
    },
    "colab_type": "code",
    "id": "HJeqivH8dTNz",
    "outputId": "00a4f957-a651-4e55-9bad-122a952cb0be"
   },
   "outputs": [],
   "source": [
    "# create Discriminator and Generator\n",
    "\n",
    "D = Discriminator()\n",
    "G = Generator()\n",
    "D.to(device)\n",
    "G.to(device)"
   ]
  },
  {
   "cell_type": "code",
   "execution_count": null,
   "metadata": {
    "colab": {
     "base_uri": "https://localhost:8080/",
     "height": 1000
    },
    "colab_type": "code",
    "id": "radA76P9xWr1",
    "outputId": "7610a1ab-2291-467c-cbef-0c5d16003780"
   },
   "outputs": [],
   "source": [
    "%%time\n",
    "\n",
    "# train Discriminator and Generator\n",
    "\n",
    "epochs = 2\n",
    "\n",
    "for epoch in range(epochs):\n",
    "    print(\"epoch = \", epoch + 1)\n",
    "\n",
    "    # train Discriminator and Generator\n",
    "\n",
    "    for image_data_tensor in celeba_dataset:\n",
    "        # train discriminator on true\n",
    "        D.train(image_data_tensor, torch.cuda.FloatTensor([1.0]))\n",
    "\n",
    "        # train discriminator on false\n",
    "        # use detach() so gradients in G are not calculated\n",
    "        D.train(\n",
    "            G.forward(generate_random_seed(100)).detach(), torch.cuda.FloatTensor([0.0])\n",
    "        )\n",
    "\n",
    "        # train generator\n",
    "        G.train(D, generate_random_seed(100), torch.cuda.FloatTensor([1.0]))\n",
    "\n",
    "        pass\n",
    "\n",
    "    pass"
   ]
  },
  {
   "cell_type": "code",
   "execution_count": null,
   "metadata": {
    "colab": {
     "base_uri": "https://localhost:8080/",
     "height": 483
    },
    "colab_type": "code",
    "id": "WfGwR21QxYtV",
    "outputId": "97d6e0a4-0f83-4c47-bfb3-7599f30d0e76"
   },
   "outputs": [],
   "source": [
    "# plot discriminator error\n",
    "\n",
    "D.plot_progress()"
   ]
  },
  {
   "cell_type": "code",
   "execution_count": null,
   "metadata": {
    "colab": {
     "base_uri": "https://localhost:8080/",
     "height": 483
    },
    "colab_type": "code",
    "id": "SIx0tJBixbGM",
    "outputId": "2846eab2-f458-4473-bdaa-514d72a6dd27"
   },
   "outputs": [],
   "source": [
    "# plot generator error\n",
    "\n",
    "G.plot_progress()"
   ]
  },
  {
   "cell_type": "markdown",
   "metadata": {
    "colab_type": "text",
    "id": "vddYtD84xkmI"
   },
   "source": [
    "## Run Generator"
   ]
  },
  {
   "cell_type": "code",
   "execution_count": null,
   "metadata": {
    "colab": {
     "base_uri": "https://localhost:8080/",
     "height": 486
    },
    "colab_type": "code",
    "id": "mePLPy3Yxj9A",
    "outputId": "fe1c25d7-1adb-4d15-da9e-8510a3b57eff"
   },
   "outputs": [],
   "source": [
    "# plot several outputs from the trained generator\n",
    "\n",
    "# plot a 3 column, 2 row array of generated images\n",
    "f, axarr = plt.subplots(2, 3, figsize=(16, 8))\n",
    "for i in range(2):\n",
    "    for j in range(3):\n",
    "        output = G.forward(generate_random_seed(100))\n",
    "        img = output.detach().permute(0, 2, 3, 1).view(128, 128, 3).cpu().numpy()\n",
    "        axarr[i, j].imshow(img, interpolation=\"none\", cmap=\"Blues\")\n",
    "        pass\n",
    "    pass"
   ]
  },
  {
   "cell_type": "markdown",
   "metadata": {
    "colab_type": "text",
    "id": "TwenX1Nqc0m4"
   },
   "source": [
    "# Memory Consumption"
   ]
  },
  {
   "cell_type": "code",
   "execution_count": null,
   "metadata": {
    "colab": {
     "base_uri": "https://localhost:8080/",
     "height": 34
    },
    "colab_type": "code",
    "id": "Byshag0WEduh",
    "outputId": "07aa6048-38cc-4206-c846-d684ae1adcdf"
   },
   "outputs": [],
   "source": [
    "# current memory allocated to tensors (in Gb)\n",
    "\n",
    "torch.cuda.memory_allocated(device) / (1024 * 1024 * 1024)"
   ]
  },
  {
   "cell_type": "code",
   "execution_count": null,
   "metadata": {
    "colab": {
     "base_uri": "https://localhost:8080/",
     "height": 34
    },
    "colab_type": "code",
    "id": "Q_xKcrXZc3_p",
    "outputId": "cf6b0ca0-caf7-4b1b-d3c5-2071bb4bd4d1"
   },
   "outputs": [],
   "source": [
    "# total memory allocated to tensors during program (in Gb)\n",
    "\n",
    "torch.cuda.max_memory_allocated(device) / (1024 * 1024 * 1024)"
   ]
  },
  {
   "cell_type": "code",
   "execution_count": null,
   "metadata": {
    "colab": {},
    "colab_type": "code",
    "id": "QZA4_oNEeP7M"
   },
   "outputs": [],
   "source": []
  }
 ],
 "metadata": {
  "accelerator": "GPU",
  "colab": {
   "collapsed_sections": [],
   "name": "15_gan_cnn_celeba_refinements.ipynb",
   "provenance": []
  },
  "kernelspec": {
   "display_name": "",
   "name": ""
  }
 },
 "nbformat": 4,
 "nbformat_minor": 0
}
