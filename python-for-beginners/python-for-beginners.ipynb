{
 "cells": [
  {
   "attachments": {},
   "cell_type": "markdown",
   "metadata": {
    "colab_type": "text",
    "id": "view-in-github",
    "slideshow": {
     "slide_type": "skip"
    }
   },
   "source": [
    "<a href=\"https://colab.research.google.com/github/DolicaAkelloEgwel/python-slides/blob/main/python-for-beginners/python-for-beginners.ipynb\" target=\"_parent\"><img src=\"https://colab.research.google.com/assets/colab-badge.svg\" alt=\"Open In Colab\"/></a>"
   ]
  },
  {
   "attachments": {},
   "cell_type": "markdown",
   "metadata": {
    "id": "rDUdDn1zUQdP",
    "slideshow": {
     "slide_type": "slide"
    }
   },
   "source": [
    "# Python for Beginners"
   ]
  },
  {
   "attachments": {},
   "cell_type": "markdown",
   "metadata": {
    "slideshow": {
     "slide_type": "slide"
    }
   },
   "source": [
    "# Overview"
   ]
  },
  {
   "attachments": {},
   "cell_type": "markdown",
   "metadata": {
    "slideshow": {
     "slide_type": "subslide"
    }
   },
   "source": [
    "## What's covered:\n",
    "+ Variables\n",
    "+ Data types\n",
    "+ For loops\n",
    "+ Operations\n",
    "+ Comments\n",
    "+ If statements\n",
    "+ Functions\n",
    "+ Reserved Words / Keywords\n",
    "+ Libraries"
   ]
  },
  {
   "attachments": {},
   "cell_type": "markdown",
   "metadata": {
    "slideshow": {
     "slide_type": "subslide"
    }
   },
   "source": [
    "## What's not covered:\n",
    "+ Installation\n",
    "+ Testing\n",
    "+ Version Control\n",
    "+ Code Hygiene"
   ]
  },
  {
   "attachments": {},
   "cell_type": "markdown",
   "metadata": {
    "id": "rDUdDn1zUQdP",
    "slideshow": {
     "slide_type": "slide"
    }
   },
   "source": [
    "## Jupyter Notebooks\n",
    "\n",
    "Notebooks are comprised of code blocks that can be executed \"immediately.\""
   ]
  },
  {
   "attachments": {},
   "cell_type": "markdown",
   "metadata": {
    "id": "rDUdDn1zUQdP",
    "slideshow": {
     "slide_type": "notes"
    }
   },
   "source": [
    "Jupyter Notebooks offer a user-friendly and interactive environment for Python coding. I have chosen to use them for this workshop because they can be used as a kind of interactive textbook that bring together both explanations and examples.They also allow you to get an idea of how Python works without necessarily installing it on your system. However, should you wish to go forward with using Python in your projects, you will likely want to employ version control (for the sake of your own sanity), which Jupyter Notebooks aren't very suited for. Debugging and creating more modular code within Jupyter Notebooks can also pose challenges. Understanding these trade-offs will help you leverage Jupyter effectively while being aware of its limitations."
   ]
  },
  {
   "attachments": {},
   "cell_type": "markdown",
   "metadata": {
    "slideshow": {
     "slide_type": "subslide"
    }
   },
   "source": [
    "### Pros:\n",
    "+ user-friendy and interactive\n",
    "+ handy for teaching\n",
    "+ installation not essential"
   ]
  },
  {
   "attachments": {},
   "cell_type": "markdown",
   "metadata": {
    "slideshow": {
     "slide_type": "subslide"
    }
   },
   "source": [
    "### Cons:\n",
    "+ not good for serious development\n",
    "+ debugging\n",
    "+ version-control\n",
    "+ difficult to write modular code\n",
    "+ out-of-order execution / reproducibility"
   ]
  },
  {
   "attachments": {},
   "cell_type": "markdown",
   "metadata": {
    "id": "rDUdDn1zUQdP",
    "slideshow": {
     "slide_type": "slide"
    }
   },
   "source": [
    "## Part 1: Getting To Know Python"
   ]
  },
  {
   "attachments": {},
   "cell_type": "markdown",
   "metadata": {
    "id": "rDUdDn1zUQdP",
    "slideshow": {
     "slide_type": "slide"
    }
   },
   "source": [
    "### Variables\n",
    "\n",
    "The Python interpreter can be used as a calculator:"
   ]
  },
  {
   "cell_type": "code",
   "execution_count": null,
   "metadata": {
    "slideshow": {
     "slide_type": "fragment"
    }
   },
   "outputs": [],
   "source": [
    "2 + 3"
   ]
  },
  {
   "attachments": {},
   "cell_type": "markdown",
   "metadata": {
    "slideshow": {
     "slide_type": "fragment"
    }
   },
   "source": [
    "You might have noticed that this isn't very helpful or interesting by itself. There are times when we want to keep data so we can use it again or make changes later on. That's where **variables** come into play."
   ]
  },
  {
   "attachments": {},
   "cell_type": "markdown",
   "metadata": {
    "slideshow": {
     "slide_type": "subslide"
    }
   },
   "source": [
    "Variables can be thought of as labeled boxes that hold different types of information, such as numbers, text, or even complex data structures. In short, **a variable is a name for a value.**\n",
    "\n",
    "![](variable-box.png)"
   ]
  },
  {
   "attachments": {},
   "cell_type": "markdown",
   "metadata": {
    "slideshow": {
     "slide_type": "subslide"
    }
   },
   "source": [
    "To create a variable, you simply choose a name for it and _assign_ a value using the equals sign (=). For example, you can create a variable called \"message\" and assign it the value \"Hello, World!\":"
   ]
  },
  {
   "cell_type": "code",
   "execution_count": null,
   "metadata": {
    "colab": {
     "base_uri": "https://localhost:8080/",
     "height": 35
    },
    "id": "_6dBQShdUPpy",
    "outputId": "a2b33d6a-451e-4ab3-99f0-ae4a9008ef6e",
    "slideshow": {
     "slide_type": "fragment"
    }
   },
   "outputs": [],
   "source": [
    "# live coding goes here"
   ]
  },
  {
   "attachments": {},
   "cell_type": "markdown",
   "metadata": {
    "slideshow": {
     "slide_type": "skip"
    }
   },
   "source": [
    "**Code Example - Hello World:**\n",
    "\n",
    "<details>\n",
    "\n",
    "```python\n",
    "message = \"Hello, World!\"\n",
    "message\n",
    "```\n",
    "\n",
    "</details>"
   ]
  },
  {
   "attachments": {},
   "cell_type": "markdown",
   "metadata": {
    "id": "2kpBfSpjUgk-",
    "slideshow": {
     "slide_type": "subslide"
    }
   },
   "source": [
    "You can then use the variable in your code by referencing its name. Variables are useful because they allow you to reuse and update values without having to repeat the actual data."
   ]
  },
  {
   "attachments": {},
   "cell_type": "markdown",
   "metadata": {
    "id": "2kpBfSpjUgk-",
    "slideshow": {
     "slide_type": "subslide"
    }
   },
   "source": [
    "Be aware that there are rules about naming variables in Python. Variable names are case-sensitive. They may contain letters, numbers, and underscores but cannot _start_ with numbers."
   ]
  },
  {
   "attachments": {},
   "cell_type": "markdown",
   "metadata": {
    "id": "2kpBfSpjUgk-",
    "slideshow": {
     "slide_type": "skip"
    }
   },
   "source": [
    "You can read more about the dos and don'ts of naming variables in Python [here](https://www.w3schools.com/python/gloss_python_variable_names.asp)."
   ]
  },
  {
   "attachments": {},
   "cell_type": "markdown",
   "metadata": {
    "id": "2kpBfSpjUgk-",
    "slideshow": {
     "slide_type": "slide"
    }
   },
   "source": [
    "### Data Types\n",
    "\n",
    "Variables can hold different types of data, including \n",
    "\n",
    "- integers (whole numbers), \n",
    "- floating-point numbers (numbers with decimals), \n",
    "- strings (text), \n",
    "- booleans (True or False), \n",
    "- lists (a collection of multiple items in a single variable), \n",
    "\n",
    "...and more!"
   ]
  },
  {
   "attachments": {},
   "cell_type": "markdown",
   "metadata": {
    "id": "2kpBfSpjUgk-",
    "slideshow": {
     "slide_type": "subslide"
    }
   },
   "source": [
    "To illustrate this, here are some variables that have different types. In a moment, you'll see that Python is what is known as a **dynamically typed** language."
   ]
  },
  {
   "cell_type": "code",
   "execution_count": null,
   "metadata": {
    "colab": {
     "base_uri": "https://localhost:8080/"
    },
    "id": "kf-WGCoIUj1z",
    "outputId": "6248f42e-bede-43fa-aa22-cb2e07ec59c9",
    "slideshow": {
     "slide_type": "fragment"
    }
   },
   "outputs": [],
   "source": [
    "num = 10\n",
    "pi = 3.14\n",
    "name = \"John\"\n",
    "is_true = True\n",
    "my_list = [1, 2, 3]"
   ]
  },
  {
   "attachments": {},
   "cell_type": "markdown",
   "metadata": {
    "slideshow": {
     "slide_type": "fragment"
    }
   },
   "source": [
    "Now that we have different variables with different data in them, we may want to display their values. In order to do this, we can use a Python command called `print()`.\n",
    "\n",
    "<!-- Instruct everyone to run cell. -->"
   ]
  },
  {
   "cell_type": "code",
   "execution_count": null,
   "metadata": {
    "colab": {
     "base_uri": "https://localhost:8080/"
    },
    "id": "kf-WGCoIUj1z",
    "outputId": "6248f42e-bede-43fa-aa22-cb2e07ec59c9",
    "slideshow": {
     "slide_type": "fragment"
    }
   },
   "outputs": [],
   "source": [
    "print(pi)\n",
    "print(num, pi, name, is_true, my_list)"
   ]
  },
  {
   "attachments": {},
   "cell_type": "markdown",
   "metadata": {
    "slideshow": {
     "slide_type": "subslide"
    }
   },
   "source": [
    "As we saw earlier in the \"Hello, World!\" example, it's possible to display what's in a variable without `print()` but this only works when you are using Python _interactively_ (like we are now in this notebook). This will also only display the _last_ result/variable in the block.\n",
    "\n",
    "<!-- Tell students to run next cell. -->"
   ]
  },
  {
   "cell_type": "code",
   "execution_count": null,
   "metadata": {
    "colab": {
     "base_uri": "https://localhost:8080/"
    },
    "id": "kf-WGCoIUj1z",
    "outputId": "6248f42e-bede-43fa-aa22-cb2e07ec59c9",
    "slideshow": {
     "slide_type": "fragment"
    }
   },
   "outputs": [],
   "source": [
    "num\n",
    "name\n",
    "my_list\n",
    "is_true"
   ]
  },
  {
   "attachments": {},
   "cell_type": "markdown",
   "metadata": {
    "slideshow": {
     "slide_type": "slide"
    }
   },
   "source": [
    "### Dynamic Typing\n",
    "\n",
    "In Python we can use something called `type()` to determine the type of our data. \n",
    "\n",
    "<!-- Go through next cell then tell students to run it. -->"
   ]
  },
  {
   "cell_type": "code",
   "execution_count": null,
   "metadata": {
    "slideshow": {
     "slide_type": "fragment"
    }
   },
   "outputs": [],
   "source": [
    "my_var = 5\n",
    "print(type(my_var))\n",
    "my_var = \"Hello\"\n",
    "print(type(my_var))"
   ]
  },
  {
   "attachments": {},
   "cell_type": "markdown",
   "metadata": {
    "slideshow": {
     "slide_type": "subslide"
    }
   },
   "source": [
    "Going back to the box example, we have just carried out what is known as a **reassignment** with our data. We have taken out the number that was previously in the `my_var` box and replaced it with some text. Python is fine when the something else happens to be a different data type from what was stored there originally, whereas *statically typed* languages are not."
   ]
  },
  {
   "attachments": {},
   "cell_type": "markdown",
   "metadata": {
    "slideshow": {
     "slide_type": "slide"
    }
   },
   "source": [
    "### For Loops\n",
    "\n",
    "There are times when we want to repeat an action several times, or apply the same action to a collection of data.\n",
    "\n",
    "Take the example of displaying every item in a list:"
   ]
  },
  {
   "cell_type": "code",
   "execution_count": null,
   "metadata": {
    "slideshow": {
     "slide_type": "fragment"
    }
   },
   "outputs": [],
   "source": [
    "my_list = [\"a\", \"b\", \"c\", \"d\", \"e\"]\n",
    "\n",
    "# live coding goes here"
   ]
  },
  {
   "attachments": {},
   "cell_type": "markdown",
   "metadata": {
    "slideshow": {
     "slide_type": "skip"
    }
   },
   "source": [
    "**Code Example - printing things in a list the difficult way:**\n",
    "\n",
    "<details>\n",
    "\n",
    "This is the most irritating way of doing it:\n",
    "\n",
    "```python\n",
    "print(my_list[0])\n",
    "print(my_list[1])\n",
    "print(my_list[2])\n",
    "print(my_list[3])\n",
    "print(my_list[4])\n",
    "```\n",
    "\n",
    "I'm sure you can see that things would get difficult if the list had 200 items in it. It's quite likely a typo would get in somethere. I might also decide that I don't only want to print the items, but do something else as well such as print a bit of text alongside it.\n",
    "    \n",
    "```python\n",
    "print(\"Your number is\", my_list[0])\n",
    "print(\"Your number is\", my_list[1])\n",
    "print(\"Your number is\", my_list[2])\n",
    "print(\"Your number is\", my_list[3])\n",
    "print(\"Your number is\", my_list[4])\n",
    "```\n",
    "\n",
    "I could also decide that the list only needs to have three elements in it rather than five. I would then have to delete those two extra lines of code.\n",
    "    \n",
    "But if I screw up and have a list with only three elements in it, but still leave in a statement like `my_list[4]` then I will get an `IndexError`. \n",
    "    \n",
    "    \n",
    "I could also _later_ decide that actually five elements are needed in the list after all. I think you get the idea here...\n",
    "</details>"
   ]
  },
  {
   "attachments": {},
   "cell_type": "markdown",
   "metadata": {
    "slideshow": {
     "slide_type": "fragment"
    }
   },
   "source": [
    "This may have worked but the approach isn't scable, it's difficult to maintain, and it's fragile. But there's a better way..."
   ]
  },
  {
   "cell_type": "code",
   "execution_count": null,
   "metadata": {
    "slideshow": {
     "slide_type": "subslide"
    }
   },
   "outputs": [],
   "source": [
    "# live coding goes here"
   ]
  },
  {
   "attachments": {},
   "cell_type": "markdown",
   "metadata": {
    "slideshow": {
     "slide_type": "skip"
    }
   },
   "source": [
    "**Code Example - Printing things in a list with loops**\n",
    "\n",
    "<details>\n",
    "    \n",
    "This works...\n",
    "```python\n",
    "for i in range(len(my_list)):\n",
    "    print(my_list[i])\n",
    "```\n",
    "    \n",
    "Here we take the length of the list by using the command `len(my_list)` and then pass this information to something called `range()`. Both of these are tools that come as part of the Python language. `range()` generates a sequence of numbers, so in this case it is generating numbers starting from 0 that correpond with the incices or \"addresses\" of the different items in the list. \n",
    "    \n",
    "This also works, and is easier to read...\n",
    "    \n",
    "```python\n",
    "for num in my_list:\n",
    "    print(num)\n",
    "```\n",
    "    \n",
    "</details>"
   ]
  },
  {
   "attachments": {},
   "cell_type": "markdown",
   "metadata": {
    "slideshow": {
     "slide_type": "notes"
    }
   },
   "source": [
    "A for loop in Python is like a conveyor belt in a factory. Just as a conveyor belt moves items one by one, a for loop iterates over a collection of elements, processing each one in sequence. With each iteration, an element moves along the loop, and a set of instructions is applied to it. The loop continues until all elements have been processed, similar to how a conveyor belt transports items until the entire batch has been handled."
   ]
  },
  {
   "attachments": {},
   "cell_type": "markdown",
   "metadata": {
    "slideshow": {
     "slide_type": "subslide"
    }
   },
   "source": [
    "![](cake-factory.jpg)\n",
    "\n",
    "Use loops for handling repetitive actions without having to repeat your code."
   ]
  },
  {
   "attachments": {},
   "cell_type": "markdown",
   "metadata": {
    "slideshow": {
     "slide_type": "slide"
    }
   },
   "source": [
    "### Operations\n",
    "\n",
    "You can perform operations on variables, such as mathematical calculations, combining strings, or comparisons. For example:"
   ]
  },
  {
   "cell_type": "code",
   "execution_count": null,
   "metadata": {
    "colab": {
     "base_uri": "https://localhost:8080/"
    },
    "id": "T0IU96uXVEVy",
    "outputId": "4a9a1b91-41cd-441e-9c93-56008b0485f8",
    "slideshow": {
     "slide_type": "fragment"
    }
   },
   "outputs": [],
   "source": [
    "larger_number = 5\n",
    "smaller_number = 3\n",
    "summed = larger_number + smaller_number"
   ]
  },
  {
   "cell_type": "code",
   "execution_count": null,
   "metadata": {
    "colab": {
     "base_uri": "https://localhost:8080/"
    },
    "id": "T0IU96uXVEVy",
    "outputId": "4a9a1b91-41cd-441e-9c93-56008b0485f8",
    "slideshow": {
     "slide_type": "fragment"
    }
   },
   "outputs": [],
   "source": [
    "greeting = \"Hello, \" + \"World!\"\n",
    "combined_list = [1, True, \"text\", [1, 2]] + [summed]"
   ]
  },
  {
   "attachments": {},
   "cell_type": "markdown",
   "metadata": {
    "slideshow": {
     "slide_type": "notes"
    }
   },
   "source": [
    "<!-- Tell students to execute cell with print statements in it after executing the first two. -->"
   ]
  },
  {
   "cell_type": "code",
   "execution_count": null,
   "metadata": {
    "colab": {
     "base_uri": "https://localhost:8080/"
    },
    "id": "T0IU96uXVEVy",
    "outputId": "4a9a1b91-41cd-441e-9c93-56008b0485f8",
    "slideshow": {
     "slide_type": "fragment"
    }
   },
   "outputs": [],
   "source": [
    "print(summed)\n",
    "print(greeting)\n",
    "print(combined_list)"
   ]
  },
  {
   "attachments": {},
   "cell_type": "markdown",
   "metadata": {
    "slideshow": {
     "slide_type": "subslide"
    }
   },
   "source": [
    "Here we have created a new variable called `summed` by adding two existing numbers. Likewise, the `+` operator can be used to combine strings and create a larger list from multiple smaller lists. And we're not limited to `+`. Some of the arithmetic operators include\n",
    "\n",
    "- Subtraction `-`,\n",
    "- Multiplication `*`,\n",
    "- Division `/`."
   ]
  },
  {
   "attachments": {},
   "cell_type": "markdown",
   "metadata": {
    "slideshow": {
     "slide_type": "skip"
    }
   },
   "source": [
    "There are many other Python operators that you can learn about [here](https://www.w3schools.com/python/python_operators.asp)."
   ]
  },
  {
   "attachments": {},
   "cell_type": "markdown",
   "metadata": {
    "slideshow": {
     "slide_type": "skip"
    }
   },
   "source": [
    "<p style=\"border-width:3px; border-style:solid; border-color:#074983; padding: 1em;\"><b>Bonus</b>: What happens when you try to \"add\" two <em>different</em> data types? Try doing it with text and a whole number (integer), then a floating point number and a whole number. What if you try other operators such as <code>*</code> or <code>-</code>?</p>"
   ]
  },
  {
   "attachments": {},
   "cell_type": "markdown",
   "metadata": {
    "slideshow": {
     "slide_type": "subslide"
    }
   },
   "source": [
    "The name `summed` was chosen for a specific reason. When naming variables, it is generally a good idea to choose names that reflect the information they contain and the purpose they serve. This practice enhances code readability. When your code is more readable, your future self or someone you're collaborating with can understand what the code is doing with less effort."
   ]
  },
  {
   "attachments": {},
   "cell_type": "markdown",
   "metadata": {
    "slideshow": {
     "slide_type": "subslide"
    }
   },
   "source": [
    "Let's remind ourselves what the values of `larger_number` and `smaller_number` are:"
   ]
  },
  {
   "cell_type": "code",
   "execution_count": null,
   "metadata": {
    "slideshow": {
     "slide_type": "-"
    }
   },
   "outputs": [],
   "source": [
    "print(\"larger_number =\", larger_number)\n",
    "print(\"smaller_number =\", smaller_number)"
   ]
  },
  {
   "attachments": {},
   "cell_type": "markdown",
   "metadata": {
    "slideshow": {
     "slide_type": "fragment"
    }
   },
   "source": [
    "<p style=\"border-width:3px; border-style:solid; border-color:#2A7A47; padding: 1em;\"><b>Question</b>: What will happen when we print the values of <code>is_greater</code>, <code>is_equal</code> and <code>is_greater_or_equal</code>?</p>"
   ]
  },
  {
   "cell_type": "code",
   "execution_count": null,
   "metadata": {
    "colab": {
     "base_uri": "https://localhost:8080/"
    },
    "id": "T0IU96uXVEVy",
    "outputId": "4a9a1b91-41cd-441e-9c93-56008b0485f8",
    "slideshow": {
     "slide_type": "-"
    }
   },
   "outputs": [],
   "source": [
    "is_greater = larger_number > smaller_number\n",
    "is_equal = larger_number == smaller_number\n",
    "is_greater_or_equal = larger_number >= smaller_number\n",
    "\n",
    "# live coding goes here"
   ]
  },
  {
   "attachments": {},
   "cell_type": "markdown",
   "metadata": {
    "slideshow": {
     "slide_type": "skip"
    }
   },
   "source": [
    "**Explanation:**\n",
    "\n",
    "<details>\n",
    "    \n",
    "`is_greater` is `True` because 5 is larger than 3.  \n",
    "`is_equal` is `False` because 5 is not equal to 3.  \n",
    "`is_greater_or_equal` is `True` because 5 is greater than 3.\n",
    "    \n",
    "We could also use `is_greater` and `is_equal` to get `is_greater_or_equal` without having to use the `>=` operator. This could be done with the code below:\n",
    "    \n",
    "```python\n",
    "is_greater_or_equal = is_greater or is_equal\n",
    "```\n",
    "    \n",
    "</details>"
   ]
  },
  {
   "attachments": {},
   "cell_type": "markdown",
   "metadata": {
    "slideshow": {
     "slide_type": "notes"
    }
   },
   "source": [
    "Note that a single equals sign (=) is used for assignments, while two equals signs (==) is used for _equality comparisons_."
   ]
  },
  {
   "attachments": {},
   "cell_type": "markdown",
   "metadata": {
    "slideshow": {
     "slide_type": "subslide"
    }
   },
   "source": [
    "### Comments"
   ]
  },
  {
   "attachments": {},
   "cell_type": "markdown",
   "metadata": {
    "slideshow": {
     "slide_type": "notes"
    }
   },
   "source": [
    "Earlier it was mentioned that descriptive variable names improve code readability. We can also improve code readability by using **comments**. "
   ]
  },
  {
   "attachments": {},
   "cell_type": "markdown",
   "metadata": {
    "slideshow": {
     "slide_type": "fragment"
    }
   },
   "source": [
    "Comments are lines of text that are ignored by the Python interpreter and are meant for human readsrs. Comments can be used as notes about the code for another programmer or your future self. In Python, comments are created using the `#` symbol.\n",
    "\n",
    "<!-- Tell students to run following cell and explain. -->"
   ]
  },
  {
   "cell_type": "code",
   "execution_count": null,
   "metadata": {
    "slideshow": {
     "slide_type": "-"
    }
   },
   "outputs": [],
   "source": [
    "# this is a comment\n",
    "2 * 2\n",
    "# this is another comment"
   ]
  },
  {
   "attachments": {},
   "cell_type": "markdown",
   "metadata": {
    "slideshow": {
     "slide_type": "slide"
    }
   },
   "source": [
    "### If Statements\n",
    "\n",
    "![](target-steps.jpg)"
   ]
  },
  {
   "attachments": {},
   "cell_type": "markdown",
   "metadata": {
    "slideshow": {
     "slide_type": "notes"
    }
   },
   "source": [
    "Sometimes you may want to make programs behave differently depending on data values. Take the example of a step tracker program on a smart watch that stores a `steps_taken` value and a `target_steps` value. If our steps taken that day is below the target steps, then the program might display a message encouraging us to go on a walk. If, on the other hand, the we've reached the target steps, then the program might show a congratulations message."
   ]
  },
  {
   "attachments": {},
   "cell_type": "markdown",
   "metadata": {
    "slideshow": {
     "slide_type": "notes"
    }
   },
   "source": [
    "The program would have to be capable of showing both a congratulations message and a \"take a walk\" message. But we need a way of saying which one will execute."
   ]
  },
  {
   "attachments": {},
   "cell_type": "markdown",
   "metadata": {
    "slideshow": {
     "slide_type": "fragment"
    }
   },
   "source": [
    "Making programs behave differently depending on whether or not something is true can be achieved through the use of **if statements**. This allows us to run certain parts of the code only when certain conditions have been met."
   ]
  },
  {
   "attachments": {},
   "cell_type": "markdown",
   "metadata": {
    "slideshow": {
     "slide_type": "subslide"
    }
   },
   "source": [
    "Run the code below and see what happens."
   ]
  },
  {
   "cell_type": "code",
   "execution_count": null,
   "metadata": {
    "slideshow": {
     "slide_type": "-"
    }
   },
   "outputs": [],
   "source": [
    "if True:\n",
    "    print(\"This part of the code will be run.\")\n",
    "if False:\n",
    "    print(\"This part of the code will not be run.\")"
   ]
  },
  {
   "attachments": {},
   "cell_type": "markdown",
   "metadata": {
    "slideshow": {
     "slide_type": "fragment"
    }
   },
   "source": [
    "This is not too useful because the first print statement will always run, and the second print statement will always be ignored. What we typically want to do is run a certain block of code depending on the values in our variables or the output of a _function_ (more on that later...)."
   ]
  },
  {
   "attachments": {},
   "cell_type": "markdown",
   "metadata": {
    "slideshow": {
     "slide_type": "subslide"
    }
   },
   "source": [
    "<p style=\"border-width:3px; border-style:solid; border-color:#2A7A47; padding: 1em;\"><b>Question</b>: What should we do to make the success message in the code below print <em>only</em> when the target has been met, and the more steps message to print <em>only</em> when the target has not been met?</p>"
   ]
  },
  {
   "cell_type": "code",
   "execution_count": null,
   "metadata": {
    "slideshow": {
     "slide_type": "-"
    }
   },
   "outputs": [],
   "source": [
    "steps_taken = 5500\n",
    "target_steps = 10000\n",
    "\n",
    "success_message = \"Congratulations! You've reached your step goal.\"\n",
    "more_steps_message = \"You need to make some extra steps today.\"\n",
    "\n",
    "# group activity goes here...\n",
    "print(success_message)\n",
    "print(more_steps_message)"
   ]
  },
  {
   "attachments": {},
   "cell_type": "markdown",
   "metadata": {
    "slideshow": {
     "slide_type": "skip"
    }
   },
   "source": [
    "**Solution:**\n",
    "\n",
    "<details>\n",
    "    \n",
    "```python\n",
    "if steps_taken >= target_steps:\n",
    "    print(success_message)\n",
    "if steps_taken < target_steps:\n",
    "    print(more_steps_message)\n",
    "```\n",
    "    \n",
    "Be aware that for the second if statement, the greater than or equal to operator `>=` is used. We don't want the program to say congratualtions _only_ when someone has exceeded the target steps, we also want it to be shown when they react the target exactly. We could also do this another slightly different way.\n",
    "    \n",
    "```python\n",
    "if steps_taken > target_steps or steps_taken == target_steps:\n",
    "    print(success_message)\n",
    "if steps_taken < target_steps:\n",
    "    print(more_steps_message)\n",
    "```\n",
    "    \n",
    "The `>=` operator does the same thing, but makes it a little bit tidier. However, you may find the second way more readable.\n",
    "    \n",
    "    \n",
    "Remeber that the greedy crocodile wants to eat the bigger number...\n",
    "</details>"
   ]
  },
  {
   "attachments": {},
   "cell_type": "markdown",
   "metadata": {
    "id": "XFGmZNDmg-Xw",
    "slideshow": {
     "slide_type": "slide"
    }
   },
   "source": [
    "### Functions\n",
    "\n",
    "Functions are blocks of code used for performing specific tasks. They are used to break down complex programs into smaller and more manageable pieces. "
   ]
  },
  {
   "attachments": {},
   "cell_type": "markdown",
   "metadata": {
    "id": "XFGmZNDmg-Xw",
    "slideshow": {
     "slide_type": "notes"
    }
   },
   "source": [
    "Imagine a function as a smoothie recipe: You gather your berries, banana, yogurt, and milk and carefully follow a set of instructions, resulting in a drink. Ideally, if everyone uses the same ingredients and follows the instructions precisely, they should end up with a same-ish result.\n",
    "\n",
    "However, some people are lactose intolerant or vegan. So, rather than cow's milk, they might use soy or almond as a substitue. Nevertheless, they would still roughly follow the same instructions and achieve a similar outcome, albeit with a slight variation.\n",
    "\n",
    "This reflects how functions operate. The ingredients in our recipe correspond to the function's _arguments_ or _parameters_. The steps of the recipe represent the actual code inside the function, and the finished dish is what the function returns as its output.\n",
    "\n",
    "While we might swap one ingredient for another, the actual steps we follow to prepare the smoothie are more or less the same. This is also how functions work -- we may give it different inputs, but what happens to those inputs is the same with every execution of our function."
   ]
  },
  {
   "attachments": {},
   "cell_type": "markdown",
   "metadata": {
    "id": "XFGmZNDmg-Xw",
    "slideshow": {
     "slide_type": "subslide"
    }
   },
   "source": [
    "In Python, a function is defined by using the `def` keyword followed by a function name and some brackets. The brackets contain the name of any **arguments** or **parameters** we wish to use in our function, which is then followed by a colon.\n",
    "\n",
    "The subsequent code is then _indented_ to let the Python interpreter know that it is part of our function. "
   ]
  },
  {
   "cell_type": "code",
   "execution_count": null,
   "metadata": {
    "colab": {
     "base_uri": "https://localhost:8080/"
    },
    "id": "6vRHkMwEg_FW",
    "outputId": "7de75c2b-1678-4d25-8eb5-2945999118d8",
    "slideshow": {
     "slide_type": "subslide"
    }
   },
   "outputs": [],
   "source": [
    "# Generate a signature given a name and an occupation\n",
    "def generate_signature(name, occupation):\n",
    "    signature = \"Best regards,\\n\" + name + \"\\n\" + occupation"
   ]
  },
  {
   "attachments": {},
   "cell_type": "markdown",
   "metadata": {
    "slideshow": {
     "slide_type": "fragment"
    }
   },
   "source": [
    "In the example above, the function `generate_signature` is using the arguments `name` and `occupation` to create the text for an email signature. "
   ]
  },
  {
   "attachments": {},
   "cell_type": "markdown",
   "metadata": {
    "slideshow": {
     "slide_type": "subslide"
    }
   },
   "source": [
    "To use or _call_ our function, we give its name followed by parethesis.\n",
    "\n",
    "As explained earlier, this function needs some information in order to run. But what happens if we run the function without providing that information?"
   ]
  },
  {
   "cell_type": "code",
   "execution_count": null,
   "metadata": {
    "slideshow": {
     "slide_type": "fragment"
    }
   },
   "outputs": [],
   "source": [
    "generate_signature()"
   ]
  },
  {
   "attachments": {},
   "cell_type": "markdown",
   "metadata": {
    "slideshow": {
     "slide_type": "subslide"
    }
   },
   "source": [
    "**Explanation:**\n",
    "<details>\n",
    "The function failed to execute because we didn't give it the information it needed. We told the computer to prepare the recipe but didn't give it the ingredients. By the same token, we could also cause trouble by giving it too few or too many ingredients. So let's try again, but with the right number of arguments this time.\n",
    "<br>\n",
    "</details>"
   ]
  },
  {
   "attachments": {},
   "cell_type": "markdown",
   "metadata": {
    "slideshow": {
     "slide_type": "skip"
    }
   },
   "source": [
    "<p style=\"border-width:3px; border-style:solid; border-color:#074983; padding: 1em;\"><b>Bonus</b>: Run the function and give one argument. Run the function again and give three arguments. What results do you get?</p>"
   ]
  },
  {
   "cell_type": "code",
   "execution_count": null,
   "metadata": {
    "slideshow": {
     "slide_type": "subslide"
    }
   },
   "outputs": [],
   "source": [
    "generate_signature(\"Dolica\", \"Technician\")"
   ]
  },
  {
   "attachments": {},
   "cell_type": "markdown",
   "metadata": {
    "slideshow": {
     "slide_type": "fragment"
    }
   },
   "source": [
    "**Explanation:**\n",
    "<details>\n",
    "Some text _was_ generated, but we didn't inform the function to pass the result back to us, so the information has become \"lost\" and will be deleted at some point. Essentially we created some data but didn't place it in a labelled box that can be accessed outside of the function's scope, so now we have no way of getting it back. In order to fix this we we need to modify the function by adding a `return` statement to the end of it.\n",
    "\n",
    "The `return` statement tells Python that <b>something should be sent back when a function is done.</b>    \n",
    "</details>"
   ]
  },
  {
   "attachments": {},
   "cell_type": "markdown",
   "metadata": {
    "slideshow": {
     "slide_type": "skip"
    }
   },
   "source": [
    "<p style=\"border-width:3px; border-style:solid; border-color:#074983; padding: 1em;\"><b>Bonus</b>: If you are curious about why the data is unrecoverable, look into <em>variable scope</em> and <em>garbage collection.</em></p>"
   ]
  },
  {
   "cell_type": "code",
   "execution_count": null,
   "metadata": {
    "slideshow": {
     "slide_type": "subslide"
    }
   },
   "outputs": [],
   "source": [
    "# Generate a signature given a name and an occupation and RETURN the result\n",
    "def generate_signature(name, occupation):\n",
    "    signature = \"Best regards,\\n\" + name + \"\\n\" + occupation\n",
    "    return signature"
   ]
  },
  {
   "attachments": {},
   "cell_type": "markdown",
   "metadata": {
    "slideshow": {
     "slide_type": "-"
    }
   },
   "source": [
    "Now we can run it again, and we'll be able to store the result."
   ]
  },
  {
   "attachments": {},
   "cell_type": "markdown",
   "metadata": {
    "slideshow": {
     "slide_type": "skip"
    }
   },
   "source": [
    "<p style=\"border-width:3px; border-style:solid; border-color:#074983; padding: 1em;\"><b>Bonus</b>: What happens when you write a function that has some code <em>after</em> the <code>return</code> statement?</p>"
   ]
  },
  {
   "cell_type": "code",
   "execution_count": null,
   "metadata": {
    "colab": {
     "base_uri": "https://localhost:8080/"
    },
    "id": "6vRHkMwEg_FW",
    "outputId": "7de75c2b-1678-4d25-8eb5-2945999118d8",
    "slideshow": {
     "slide_type": "fragment"
    }
   },
   "outputs": [],
   "source": [
    "# Call the generate_signature function with the user's input\n",
    "email_signature = generate_signature(\"Dolica\", \"Technician\")\n",
    "\n",
    "# Display the email signature to the user\n",
    "print(\"Your email signature:\\n\")\n",
    "print(email_signature)"
   ]
  },
  {
   "attachments": {},
   "cell_type": "markdown",
   "metadata": {
    "slideshow": {
     "slide_type": "notes"
    }
   },
   "source": [
    "Sometimes we don't want functions to return anything. And sometimes we don't need to pass information to a function in order for it to perform the task that we want."
   ]
  },
  {
   "attachments": {},
   "cell_type": "markdown",
   "metadata": {
    "slideshow": {
     "slide_type": "subslide"
    }
   },
   "source": [
    "Like with variables, it's best to give functions clear and descriptive names that reflect their purpose.\n",
    "\n",
    "![](javascript-sandwich.png)"
   ]
  },
  {
   "attachments": {},
   "cell_type": "markdown",
   "metadata": {
    "id": "R3OqivhvFV1v",
    "slideshow": {
     "slide_type": "slide"
    }
   },
   "source": [
    "### Built-In Functions\n",
    "\n",
    "Built-in functions in Python are ready-to-use functions that are already available in the Python programming language. "
   ]
  },
  {
   "attachments": {},
   "cell_type": "markdown",
   "metadata": {
    "id": "R3OqivhvFV1v",
    "slideshow": {
     "slide_type": "notes"
    }
   },
   "source": [
    "They are like handy tools that come with Python and can perform various tasks such as doing math calculations, changing data types, working with files, and more. You don't have to create these functions yourself, you can simply use them by calling their names. \n",
    "\n",
    "They are helpful for beginners because they provide ready-made solutions for common programming tasks, saving you time and effort in writing code from scratch."
   ]
  },
  {
   "attachments": {},
   "cell_type": "markdown",
   "metadata": {
    "id": "R3OqivhvFV1v",
    "slideshow": {
     "slide_type": "subslide"
    }
   },
   "source": [
    "Let's look at what the sum function does:"
   ]
  },
  {
   "cell_type": "code",
   "execution_count": null,
   "metadata": {
    "colab": {
     "base_uri": "https://localhost:8080/"
    },
    "id": "L1HCw5dW8dFv",
    "outputId": "678a71df-9d23-4b57-b807-c36c7093d015",
    "slideshow": {
     "slide_type": "-"
    }
   },
   "outputs": [],
   "source": [
    "list_of_numbers = [1, 1, 1]\n",
    "sum(list_of_numbers)"
   ]
  },
  {
   "attachments": {},
   "cell_type": "markdown",
   "metadata": {
    "slideshow": {
     "slide_type": "subslide"
    }
   },
   "source": [
    "We used the `type()` method earlier to see how dynamic typing worked. Let's use it to see what `sum()` is."
   ]
  },
  {
   "cell_type": "code",
   "execution_count": null,
   "metadata": {
    "slideshow": {
     "slide_type": "-"
    }
   },
   "outputs": [],
   "source": [
    "type(sum)"
   ]
  },
  {
   "attachments": {},
   "cell_type": "markdown",
   "metadata": {
    "id": "Yc75Qe-BFcPL",
    "slideshow": {
     "slide_type": "slide"
    }
   },
   "source": [
    "### Keywords / Reserved Words\n",
    "\n",
    "![](reserved.jpeg)"
   ]
  },
  {
   "attachments": {},
   "cell_type": "markdown",
   "metadata": {
    "id": "Yc75Qe-BFcPL",
    "slideshow": {
     "slide_type": "subslide"
    }
   },
   "source": [
    "Keywords in Python are reserved words that have special meanings and purposes within the Python language. These words are part of the Python syntax and **should not be used as variable or function names.**"
   ]
  },
  {
   "attachments": {},
   "cell_type": "markdown",
   "metadata": {
    "id": "Yc75Qe-BFcPL",
    "slideshow": {
     "slide_type": "subslide"
    }
   },
   "source": [
    "Look at what happens when we use the keyword `sum` and use it to store an int:"
   ]
  },
  {
   "cell_type": "code",
   "execution_count": null,
   "metadata": {
    "colab": {
     "base_uri": "https://localhost:8080/"
    },
    "id": "EbVb7lsv8jm7",
    "outputId": "6007daa8-d9e7-4103-a890-60b351207549",
    "slideshow": {
     "slide_type": "-"
    }
   },
   "outputs": [],
   "source": [
    "_proper_sum = sum\n",
    "# This is something you shouldn't do\n",
    "sum = 3 + 4\n",
    "print(sum)"
   ]
  },
  {
   "attachments": {},
   "cell_type": "markdown",
   "metadata": {
    "slideshow": {
     "slide_type": "subslide"
    }
   },
   "source": [
    "Now let's try and sum a collection of numbers in a list again...\n",
    "\n",
    "<p style=\"border-width:3px; border-style:solid; border-color:#2A7A47; padding: 1em;\"><b>Question</b>: What will happen next? Why does this happen?</p>"
   ]
  },
  {
   "cell_type": "code",
   "execution_count": null,
   "metadata": {
    "colab": {
     "base_uri": "https://localhost:8080/",
     "height": 166
    },
    "id": "gRECccH8lx3j",
    "outputId": "49c7e58f-8757-4fbc-8559-00ca7ca63bf3",
    "slideshow": {
     "slide_type": "fragment"
    }
   },
   "outputs": [],
   "source": [
    "sum([1, 2, 3])"
   ]
  },
  {
   "attachments": {},
   "cell_type": "markdown",
   "metadata": {
    "slideshow": {
     "slide_type": "fragment"
    }
   },
   "source": [
    "Let's fix it."
   ]
  },
  {
   "cell_type": "code",
   "execution_count": null,
   "metadata": {
    "colab": {
     "base_uri": "https://localhost:8080/"
    },
    "id": "Gn1z40kdluyN",
    "outputId": "08b3c3de-8bc4-46e7-f226-309c2b024ad0",
    "slideshow": {
     "slide_type": "subslide"
    }
   },
   "outputs": [],
   "source": [
    "sum = _proper_sum\n",
    "sum([1, 2, 3])"
   ]
  },
  {
   "attachments": {},
   "cell_type": "markdown",
   "metadata": {
    "slideshow": {
     "slide_type": "fragment"
    }
   },
   "source": [
    "This also highlights some of the dangers of Jupyter notebooks. Because the cells can be run out of order it can lead to some unxpected behaviour. This can make it hard to produce consistent results."
   ]
  },
  {
   "attachments": {},
   "cell_type": "markdown",
   "metadata": {
    "slideshow": {
     "slide_type": "slide"
    }
   },
   "source": [
    "### Libraries\n",
    "\n",
    "In Python, libraries are collections of pre-existing code modules or packages that provide additional functionality to Python programs. A library is a reusable set of code that contains functions, classes, and other resources designed to perform specific tasks or provide specific capabilities."
   ]
  },
  {
   "attachments": {},
   "cell_type": "markdown",
   "metadata": {
    "slideshow": {
     "slide_type": "skip"
    }
   },
   "source": [
    "By utilising libraries, developers can leverage existing code and avoid reinventing the wheel. This saves time and effort in the development process. Libraries enhance the capabilities of Python by providing additional tools and resources that can be imported and used in your own programs."
   ]
  },
  {
   "attachments": {},
   "cell_type": "markdown",
   "metadata": {
    "slideshow": {
     "slide_type": "subslide"
    }
   },
   "source": [
    "Chances are, you'll want to make your program do something that someone else has previously wanted their program to do. And this other person may have writen a library for this task. You can use tools like `conda` and `pip` to install libraries to use with your programs."
   ]
  },
  {
   "attachments": {},
   "cell_type": "markdown",
   "metadata": {
    "id": "AnkfCmWNHe7a",
    "slideshow": {
     "slide_type": "slide"
    }
   },
   "source": [
    "## Part 2: Making an Image Scraper"
   ]
  },
  {
   "cell_type": "code",
   "execution_count": null,
   "metadata": {
    "id": "FYNn6cAWHibG",
    "slideshow": {
     "slide_type": "slide"
    }
   },
   "outputs": [],
   "source": [
    "%pip install requests\n",
    "import requests\n",
    "from bs4 import BeautifulSoup\n",
    "import os\n",
    "import shutil"
   ]
  },
  {
   "cell_type": "code",
   "execution_count": null,
   "metadata": {
    "id": "6T5Lm-6MH0a0",
    "slideshow": {
     "slide_type": "subslide"
    }
   },
   "outputs": [],
   "source": [
    "picture_folder_name = \"scrapper-pictures\"\n",
    "\n",
    "\n",
    "def photo_downloader(theme):\n",
    "    # Create a url for unsplash based on our theme\n",
    "    url = \"https://unsplash.com/s/photos/\" + theme\n",
    "\n",
    "    # Create a request for the URL\n",
    "    request = requests.get(url, allow_redirects=True)\n",
    "\n",
    "    # Send the request text to BeautifulSoup\n",
    "    data = BeautifulSoup(request.text, \"html.parser\")\n",
    "\n",
    "    # Get a list of the images found at that URL\n",
    "    all_found_images = data.find_all(\"figure\", itemprop=\"image\")\n",
    "\n",
    "    # Get rid of the \"scrapper-pictures\" folder if it already exists\n",
    "    if os.path.exists(picture_folder_name):\n",
    "        shutil.rmtree(picture_folder_name)\n",
    "\n",
    "    # Create a new \"scrapper-pictures\" folder and move to it\n",
    "    os.makedirs(picture_folder_name)\n",
    "    os.chdir(picture_folder_name)\n",
    "\n",
    "    # Set a counter to zero (this is for creating filenames)\n",
    "    count = 0\n",
    "\n",
    "    # Loop through each of the images\n",
    "    for image in all_found_images:\n",
    "        # Get the image url object\n",
    "        url = image.find(\"a\", rel=\"nofollow\")\n",
    "\n",
    "        # Check that a URL was found, if not then we can't go any further\n",
    "        if url is not None:\n",
    "            # Get the URL as text\n",
    "            image_url = url[\"href\"]\n",
    "            # Use the Requests library to get the photo data now that we have its URL\n",
    "            photo_bytes = requests.get(image_url, allow_redirects=True)\n",
    "            # Create a name for the image so we can save it\n",
    "            img_name = f\"{theme}-{count:02d}.jpg\"\n",
    "\n",
    "            # Use Python's built-in open method to create an empty file in write mode\n",
    "            with open(img_name, \"wb\") as photo:\n",
    "                # Write the data in our photo_bytes variable to the file\n",
    "                photo.write(photo_bytes.content)\n",
    "                # Increase the counter\n",
    "                count += 1\n",
    "                # Print to the console that an image has been saved successfully\n",
    "                print(\"Saved image \" + img_name)\n",
    "\n",
    "    print(\"all done\")"
   ]
  },
  {
   "attachments": {},
   "cell_type": "markdown",
   "metadata": {},
   "source": [
    "### Code Explanation"
   ]
  },
  {
   "cell_type": "code",
   "execution_count": null,
   "metadata": {
    "colab": {
     "base_uri": "https://localhost:8080/"
    },
    "id": "Tuclml0NIw-R",
    "outputId": "fcbfd124-d458-415a-f528-d4f93ec469c3",
    "slideshow": {
     "slide_type": "subslide"
    }
   },
   "outputs": [],
   "source": [
    "photo_downloader(\"robot\")"
   ]
  },
  {
   "cell_type": "code",
   "execution_count": null,
   "metadata": {
    "id": "tJfl1FqeN0c0",
    "slideshow": {
     "slide_type": "fragment"
    }
   },
   "outputs": [],
   "source": [
    "import glob"
   ]
  },
  {
   "cell_type": "code",
   "execution_count": null,
   "metadata": {
    "colab": {
     "base_uri": "https://localhost:8080/"
    },
    "id": "ZT9Iy6sgJWju",
    "outputId": "2519f350-ad32-422c-c47f-d1bc2ab211a5",
    "slideshow": {
     "slide_type": "fragment"
    }
   },
   "outputs": [],
   "source": [
    "# Ask Python to list all the images we have just downloaded\n",
    "saved_image_list = glob.glob(\"*.jpg\")\n",
    "print(saved_image_list)"
   ]
  },
  {
   "attachments": {},
   "cell_type": "markdown",
   "metadata": {
    "id": "-qL7PK3Aj33Q",
    "slideshow": {
     "slide_type": "subslide"
    }
   },
   "source": [
    "### Displaying a Random Image"
   ]
  },
  {
   "cell_type": "code",
   "execution_count": null,
   "metadata": {
    "id": "7n5wYRh8KB6_",
    "slideshow": {
     "slide_type": "fragment"
    }
   },
   "outputs": [],
   "source": [
    "%pip install matplotlib\n",
    "import matplotlib.pyplot as plt\n",
    "import matplotlib.image as mpimg\n",
    "import random"
   ]
  },
  {
   "cell_type": "code",
   "execution_count": null,
   "metadata": {
    "colab": {
     "base_uri": "https://localhost:8080/",
     "height": 470
    },
    "id": "k7phEkmYOrp3",
    "outputId": "7b1e3b56-a229-4793-bca6-5465e617092d",
    "slideshow": {
     "slide_type": "subslide"
    }
   },
   "outputs": [],
   "source": [
    "random_image_name = random.choice(saved_image_list)\n",
    "random_image = mpimg.imread(random_image_name)\n",
    "imgplot = plt.imshow(random_image)\n",
    "print(random_image.shape)\n",
    "print(random_image_name)\n",
    "plt.show()"
   ]
  },
  {
   "attachments": {},
   "cell_type": "markdown",
   "metadata": {
    "id": "6Ddyb53GjzK6",
    "slideshow": {
     "slide_type": "subslide"
    }
   },
   "source": [
    "### Using the Image to Create Glitch Art\n",
    "\n",
    "A library called `glitch-this` will be used to glitch the image. This is installed using the `pip` command. In Jupyter we can do this by placing an exclamation mark before the instruction. Once `glitch-this` has been installed then we can import it and use it like what was done with the other libraries."
   ]
  },
  {
   "cell_type": "code",
   "execution_count": null,
   "metadata": {
    "colab": {
     "base_uri": "https://localhost:8080/"
    },
    "id": "VCbfQtmLbqTB",
    "outputId": "259d7ba3-9bc1-46c6-9b86-9d799128cb94",
    "slideshow": {
     "slide_type": "fragment"
    }
   },
   "outputs": [],
   "source": [
    "%pip install glitch-this\n",
    "from glitch_this import ImageGlitcher\n",
    "from PIL import Image\n",
    "\n",
    "glitcher = ImageGlitcher()"
   ]
  },
  {
   "attachments": {},
   "cell_type": "markdown",
   "metadata": {
    "id": "ttcwlQjCkWpW",
    "slideshow": {
     "slide_type": "subslide"
    }
   },
   "source": [
    "Now the `glitch-this` library can be used. It needs an argument for an Image object as well as a `glitch_amount` that decides the level of \"glitchiness\" in the image. For this example we'll use a value of 3.5 (but you're free to mess around with this!)."
   ]
  },
  {
   "attachments": {},
   "cell_type": "markdown",
   "metadata": {
    "slideshow": {
     "slide_type": "notes"
    }
   },
   "source": [
    "If you're going to use libraries, you're going to have to start reading into **documentation** (essentially the instruction manual for the library). Some documentation is better than others. And if the documentation is truly unhelpful, it may be best to look for a different library alltogether. The documentation for the `glitch-this` library can be found [here](https://github.com/TotallyNotChase/glitch-this/wiki/Documentation:-The-glitch-this-library)."
   ]
  },
  {
   "cell_type": "code",
   "execution_count": null,
   "metadata": {
    "colab": {
     "base_uri": "https://localhost:8080/",
     "height": 435
    },
    "id": "yL5Z_IDcbxlE",
    "outputId": "0ad513d9-868b-4e6e-c44e-81b479ee85eb",
    "slideshow": {
     "slide_type": "subslide"
    }
   },
   "outputs": [],
   "source": [
    "glitched_image = glitcher.glitch_image(\n",
    "    Image.fromarray(random_image), 3.5, color_offset=True\n",
    ")\n",
    "imgplot = plt.imshow(glitched_image)\n",
    "plt.show()"
   ]
  },
  {
   "attachments": {},
   "cell_type": "markdown",
   "metadata": {
    "slideshow": {
     "slide_type": "subslide"
    }
   },
   "source": [
    "Now to make things more interesting we can take this glitched image and use the `pixelsort` library to warp the image even more."
   ]
  },
  {
   "cell_type": "code",
   "execution_count": null,
   "metadata": {
    "colab": {
     "base_uri": "https://localhost:8080/"
    },
    "id": "zmpkl60PNro-",
    "outputId": "79569cd9-04ad-44ef-9c61-80ec2f4d13cf",
    "slideshow": {
     "slide_type": "-"
    }
   },
   "outputs": [],
   "source": [
    "%pip install pixelsort\n",
    "from pixelsort import pixelsort"
   ]
  },
  {
   "cell_type": "code",
   "execution_count": null,
   "metadata": {
    "colab": {
     "base_uri": "https://localhost:8080/",
     "height": 435
    },
    "id": "UxUOAHpw5lZU",
    "outputId": "98e5b4ef-4d92-4c90-f4af-5ce0a8ae9b75",
    "slideshow": {
     "slide_type": "subslide"
    }
   },
   "outputs": [],
   "source": [
    "sort_image = pixelsort(\n",
    "    glitched_image, sorting_function=\"intensity\", interval_function=\"edges\"\n",
    ")\n",
    "imgplot = plt.imshow(sort_image)\n",
    "plt.show()"
   ]
  },
  {
   "attachments": {},
   "cell_type": "markdown",
   "metadata": {
    "slideshow": {
     "slide_type": "subslide"
    }
   },
   "source": [
    "Let's put them side-by-side."
   ]
  },
  {
   "cell_type": "code",
   "execution_count": null,
   "metadata": {
    "slideshow": {
     "slide_type": "-"
    }
   },
   "outputs": [],
   "source": [
    "fig = plt.figure()\n",
    "gs = fig.add_gridspec(ncols=3, wspace=0)\n",
    "axarr = gs.subplots(sharex=True, sharey=True)\n",
    "axarr[0].imshow(random_image)\n",
    "axarr[1].imshow(glitched_image)\n",
    "axarr[2].imshow(sort_image)"
   ]
  },
  {
   "attachments": {},
   "cell_type": "markdown",
   "metadata": {
    "slideshow": {
     "slide_type": "fragment"
    }
   },
   "source": [
    "Hope you enjoyed this..."
   ]
  }
 ],
 "metadata": {
  "accelerator": "TPU",
  "celltoolbar": "Slideshow",
  "colab": {
   "authorship_tag": "ABX9TyNNZf5fC3oZTWnNTVCCsDzB",
   "gpuType": "T4",
   "include_colab_link": true,
   "provenance": []
  },
  "gpuClass": "standard",
  "kernelspec": {
   "display_name": "",
   "language": "python",
   "name": ""
  },
  "language_info": {
   "codemirror_mode": {
    "name": "ipython",
    "version": 3
   },
   "file_extension": ".py",
   "mimetype": "text/x-python",
   "name": "python",
   "nbconvert_exporter": "python",
   "pygments_lexer": "ipython3",
   "version": "3.11.3"
  }
 },
 "nbformat": 4,
 "nbformat_minor": 1
}
