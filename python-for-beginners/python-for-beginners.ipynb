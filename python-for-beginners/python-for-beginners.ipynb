{
 "cells": [
  {
   "cell_type": "markdown",
   "metadata": {
    "colab_type": "text",
    "id": "view-in-github"
   },
   "source": [
    "<a href=\"https://colab.research.google.com/gist/DolicaAkelloEgwel/c2a81dead051c310dfcd3cde5c288672/python-for-beginners.ipynb\" target=\"_parent\"><img src=\"https://colab.research.google.com/assets/colab-badge.svg\" alt=\"Open In Colab\"/></a>"
   ]
  },
  {
   "cell_type": "markdown",
   "metadata": {
    "id": "rDUdDn1zUQdP"
   },
   "source": [
    "# Python for Beginners\n",
    "\n",
    "## Jupyter Notebooks\n",
    "\n",
    "Jupyter notebooks kinda encourage bad habits but we're using this today because it saves time and makes things simple.\n",
    "\n",
    "## Part 1: Getting To Know Python\n",
    "### Variables\n",
    "\n",
    "The Python interpreter can be used as a calculator:"
   ]
  },
  {
   "cell_type": "code",
   "execution_count": 1,
   "metadata": {},
   "outputs": [
    {
     "data": {
      "text/plain": [
       "5"
      ]
     },
     "execution_count": 1,
     "metadata": {},
     "output_type": "execute_result"
    }
   ],
   "source": [
    "2 + 3"
   ]
  },
  {
   "cell_type": "markdown",
   "metadata": {},
   "source": [
    "You might have noticed that the previous statement isn't very helpful or interesting by itself. There are times when we want to keep data so we can use it again or make changes later on. That's where **variables** come into play.\n",
    "\n",
    "![](variable-box.png)\n",
    "\n",
    "Variables can be thought of as labeled boxes that hold different types of information, such as numbers, text, or even complex data structures.\n",
    "\n",
    "To create a variable, you simply choose a name for it and _assign_ a value using the equals sign (=). For example, you can create a variable called \"message\" and assign it the value \"Hello, World!\":"
   ]
  },
  {
   "cell_type": "code",
   "execution_count": 2,
   "metadata": {
    "colab": {
     "base_uri": "https://localhost:8080/",
     "height": 35
    },
    "id": "_6dBQShdUPpy",
    "outputId": "a2b33d6a-451e-4ab3-99f0-ae4a9008ef6e"
   },
   "outputs": [
    {
     "data": {
      "text/plain": [
       "'Hello, World!'"
      ]
     },
     "execution_count": 2,
     "metadata": {},
     "output_type": "execute_result"
    }
   ],
   "source": [
    "message = \"Hello, World!\"\n",
    "message"
   ]
  },
  {
   "cell_type": "markdown",
   "metadata": {
    "id": "2kpBfSpjUgk-"
   },
   "source": [
    "You can then use the variable in your code by referencing its name. Variables are useful because they allow you to reuse and update values without having to repeat the actual data.\n",
    "\n",
    "### Data Types\n",
    "\n",
    "Variables can hold different types of data, including integers (whole numbers), floating-point numbers (numbers with decimals), strings (text), booleans (True or False), and more. To illustrate this, here are some variables that have different types. In a moment, you'll see that Python is what is known as a **dynamically typed** language."
   ]
  },
  {
   "cell_type": "code",
   "execution_count": 3,
   "metadata": {
    "colab": {
     "base_uri": "https://localhost:8080/"
    },
    "id": "kf-WGCoIUj1z",
    "outputId": "6248f42e-bede-43fa-aa22-cb2e07ec59c9"
   },
   "outputs": [],
   "source": [
    "num = 10\n",
    "pi = 3.14\n",
    "name = \"John\"\n",
    "is_true = True\n",
    "my_list = [1, 2, 3]"
   ]
  },
  {
   "cell_type": "markdown",
   "metadata": {},
   "source": [
    "Now that we have different variables with different data in them, we may want to have them outputted to our console. In order to do this, we may use a Python command called `print()`."
   ]
  },
  {
   "cell_type": "code",
   "execution_count": 5,
   "metadata": {
    "colab": {
     "base_uri": "https://localhost:8080/"
    },
    "id": "kf-WGCoIUj1z",
    "outputId": "6248f42e-bede-43fa-aa22-cb2e07ec59c9"
   },
   "outputs": [
    {
     "name": "stdout",
     "output_type": "stream",
     "text": [
      "3.14\n",
      "10 3.14 John True [1, 2, 3]\n"
     ]
    }
   ],
   "source": [
    "print(pi)\n",
    "print(num, pi, name, is_true, my_list)"
   ]
  },
  {
   "cell_type": "markdown",
   "metadata": {},
   "source": [
    "As we saw earlier, it's possible to display what's in a variable without `print()` but this only works when you are using Python _interactively_. This will also only display the _last_ result/variable in the block."
   ]
  },
  {
   "cell_type": "code",
   "execution_count": 11,
   "metadata": {
    "colab": {
     "base_uri": "https://localhost:8080/"
    },
    "id": "kf-WGCoIUj1z",
    "outputId": "6248f42e-bede-43fa-aa22-cb2e07ec59c9"
   },
   "outputs": [
    {
     "data": {
      "text/plain": [
       "True"
      ]
     },
     "execution_count": 11,
     "metadata": {},
     "output_type": "execute_result"
    }
   ],
   "source": [
    "num\n",
    "name\n",
    "my_list\n",
    "is_true"
   ]
  },
  {
   "cell_type": "markdown",
   "metadata": {},
   "source": [
    "### Dynamic Typing\n",
    "\n",
    "In Python we can use something called `type()` to determine the data type of a variable. "
   ]
  },
  {
   "cell_type": "code",
   "execution_count": 9,
   "metadata": {},
   "outputs": [
    {
     "name": "stdout",
     "output_type": "stream",
     "text": [
      "<class 'int'>\n",
      "<class 'str'>\n"
     ]
    }
   ],
   "source": [
    "my_var = 5\n",
    "print(type(my_var))\n",
    "my_var = \"Hello\"\n",
    "print(type(my_var))"
   ]
  },
  {
   "cell_type": "markdown",
   "metadata": {},
   "source": [
    "Going back to the box example, we have just performed what is known as a **reassignment** with our data. We have taken out the int that was in the `my_var` box and replaced it with a string. Python is fine when the something else happens to be a different data type from what was stored there originally, whereas *strongly typed* languages are not.\n",
    "\n",
    "### Operations\n",
    "\n",
    "You can perform operations on variables, such as mathematical calculations, combining strings, or comparisons. For example:"
   ]
  },
  {
   "cell_type": "code",
   "execution_count": 4,
   "metadata": {
    "colab": {
     "base_uri": "https://localhost:8080/"
    },
    "id": "T0IU96uXVEVy",
    "outputId": "4a9a1b91-41cd-441e-9c93-56008b0485f8"
   },
   "outputs": [
    {
     "name": "stdout",
     "output_type": "stream",
     "text": [
      "8\n",
      "Hello, World!\n",
      "[1, True, 'text', 8]\n"
     ]
    }
   ],
   "source": [
    "x = 5\n",
    "y = 3\n",
    "summed = x + y\n",
    "greeting = \"Hello, \" + \"World!\"\n",
    "combined_list = [1, True, \"text\"] + [summed]\n",
    "\n",
    "print(summed)\n",
    "print(greeting)\n",
    "print(combined_list)"
   ]
  },
  {
   "cell_type": "markdown",
   "metadata": {},
   "source": [
    "Here we have created a new variable called `summed` by adding two existing integers. Likewise, the `+` operator can be used to combine strings and create a larger list from two smaller lists.\n",
    "\n",
    "<p style=\"border-width:3px; border-style:solid; border-color:#074983; padding: 1em;\"><b>Bonus</b>: What happens when you try to \"add\" two <em>different</em> data types? Try doing it with a string and an int, then a float and an int. What if you try other operators such as <code>*</code> or <code>-</code>?</p>\n",
    "\n",
    "The name `summed` was chosen for a specific reason. When naming variables, it is generally preferred to choose names that reflect the information they contain and the purpose they serve. This practice enhances code readability. If you revisit your code after a while, a descriptive name like \"summed\" can help jog your memory and remind you of the code's purpose.\n",
    "\n",
    "When collaborating on a project, clear variable names make it easier for others to understand your code. This concept is known as writing _self-documenting_ code.\n",
    "\n",
    "Another way to improve code readability is by using **comments**. Comments are lines of text meant for human readers, and they are ignored by the Python interpreter. In Python, comments are created using the `#` symbol."
   ]
  },
  {
   "cell_type": "code",
   "execution_count": 43,
   "metadata": {},
   "outputs": [
    {
     "data": {
      "text/plain": [
       "4"
      ]
     },
     "execution_count": 43,
     "metadata": {},
     "output_type": "execute_result"
    }
   ],
   "source": [
    "# this is a comment\n",
    "2 * 2\n",
    "# this is another comment"
   ]
  },
  {
   "cell_type": "markdown",
   "metadata": {},
   "source": [
    "In the example below, what will happen when we print the values of `is_greater` and `is_equal`?"
   ]
  },
  {
   "cell_type": "code",
   "execution_count": null,
   "metadata": {
    "colab": {
     "base_uri": "https://localhost:8080/"
    },
    "id": "T0IU96uXVEVy",
    "outputId": "4a9a1b91-41cd-441e-9c93-56008b0485f8"
   },
   "outputs": [],
   "source": [
    "is_greater = x > y\n",
    "is_equal = x == y"
   ]
  },
  {
   "cell_type": "markdown",
   "metadata": {},
   "source": [
    "Note that a single equals sign (=) is used for assignments, while two equals signs (==) is used for _comparisons_."
   ]
  },
  {
   "cell_type": "markdown",
   "metadata": {},
   "source": [
    "### If Statements\n",
    "\n",
    "Sometimes you may want to make programs behave differently depending on data values. Take the example of a step tracker program on a smart watch that stores a `steps_taken` value and a `target_steps` value. If our steps taken that day is below the target steps, then the program might us a message encouraging us to go on a walk. If, on the other hand, the we've reached the target steps, then the program might show a congratulations message.\n",
    "\n",
    "Making programs behave differently depending on whether or not something true can be achieved through the use of **if statements**. We can check if something is true or false, and then do different things based on that. If the condition is true, a specific block of code is executed.\n",
    "\n",
    "Run the code below and see what happens."
   ]
  },
  {
   "cell_type": "code",
   "execution_count": null,
   "metadata": {},
   "outputs": [],
   "source": [
    "if True:\n",
    "    print(\"This part of the code will be run.\")\n",
    "if False:\n",
    "    print(\"This part of the code will not be run.\")"
   ]
  },
  {
   "cell_type": "markdown",
   "metadata": {},
   "source": [
    "This is not too useful because the first statement will always print, and the second statement will always be ignored. What we typically want to do is run a certain block of code depending on the values in our variables. \n",
    "\n",
    "Otherwise, it's skipped. We can also use \"else\" to do something else if the condition is false, and \"elif\" to check for more conditions. If statements allow us to control how our program behaves and make it more flexible."
   ]
  },
  {
   "cell_type": "markdown",
   "metadata": {
    "id": "XFGmZNDmg-Xw"
   },
   "source": [
    "### Functions\n",
    "\n",
    "Functions are blocks of code used for performing specific tasks. They are used to break down complex programs into smaller and more manageable pieces. \n",
    "\n",
    "Imagine a function as a recipe: You gather your ingredients and carefully follow a set of instructions, resulting in a delicious dish. Ideally, if everyone uses the same ingredients and follows the instructions precisely, they should end up with a fajita chicken wrap.\n",
    "\n",
    "However, not everyone eats meat or enjoys chicken. Some may choose to substitute it with jackfruit or another alternative. Nevertheless, they would still roughly follow the same instructions and achieve a similar outcome, albeit with a slight variation.\n",
    "\n",
    "This analogy reflects how functions operate. The ingredients in our recipe correspond to the function's arguments or parameters. The steps of the recipe represent the actual code inside the function, and the finished dish is what the function returns as its output.\n",
    "\n",
    "In Python, a function is defined by using the `def` keyword followed by a function name and some brackets. The brackets contain the name of any _arguments_ or _parameters_ we wish to use in our function, which is then followed by a colon.\n",
    "\n",
    "The subsequent text is then _indented_ to let the Python interpreter know that it is part of our function. "
   ]
  },
  {
   "cell_type": "code",
   "execution_count": 51,
   "metadata": {
    "colab": {
     "base_uri": "https://localhost:8080/"
    },
    "id": "6vRHkMwEg_FW",
    "outputId": "7de75c2b-1678-4d25-8eb5-2945999118d8"
   },
   "outputs": [],
   "source": [
    "# Generate a signature given a name and an occupation\n",
    "def generate_signature(name, occupation):\n",
    "    signature = \"Best regards,\\n\" + name + \"\\n\" + occupation"
   ]
  },
  {
   "cell_type": "markdown",
   "metadata": {},
   "source": [
    "In the example above, the function `generate_signature` is using the arguments `name` and `occupation` to create the text for an email signature. \n",
    "\n",
    "To use or _call_ our function, we give its name followed by parethesis.\n",
    "\n",
    "As explained earlier, this function needs some information in order to run. But what happens if we run the function without providing that information?"
   ]
  },
  {
   "cell_type": "code",
   "execution_count": 52,
   "metadata": {},
   "outputs": [
    {
     "ename": "TypeError",
     "evalue": "generate_signature() missing 2 required positional arguments: 'name' and 'occupation'",
     "output_type": "error",
     "traceback": [
      "\u001b[1;31m---------------------------------------------------------------------------\u001b[0m",
      "\u001b[1;31mTypeError\u001b[0m                                 Traceback (most recent call last)",
      "Cell \u001b[1;32mIn[52], line 1\u001b[0m\n\u001b[1;32m----> 1\u001b[0m \u001b[43mgenerate_signature\u001b[49m\u001b[43m(\u001b[49m\u001b[43m)\u001b[49m\n",
      "\u001b[1;31mTypeError\u001b[0m: generate_signature() missing 2 required positional arguments: 'name' and 'occupation'"
     ]
    }
   ],
   "source": [
    "generate_signature()"
   ]
  },
  {
   "cell_type": "markdown",
   "metadata": {},
   "source": [
    "The function failed to execute because we didn't give it the information it needed. By the same token, we could also cause trouble by giving it too few or too many arguments. So let's try again, but with the right arguments this time.\n",
    "\n",
    "<p style=\"border-width:3px; border-style:solid; border-color:#074983; padding: 1em;\"><b>Bonus</b>: Run the function and give one argument. Run the function again and give three arguments. What results do you get?</p>"
   ]
  },
  {
   "cell_type": "code",
   "execution_count": 55,
   "metadata": {},
   "outputs": [],
   "source": [
    "generate_signature(\"Dolica\", \"Technician\")"
   ]
  },
  {
   "cell_type": "markdown",
   "metadata": {},
   "source": [
    "This time we didn't get an error, but nothing seems to have happened...\n",
    "\n",
    "Some text _was_ generated, but we didn't inform the function to pass the result back to us, so the information has become \"lost\" and will be deleted at some point. Essentially we created some data but didn't place it in a labelled box, so now we have no way of getting it back. In order to fix this we we need to modify the function by adding a `return` statement to the end of it.\n",
    "\n",
    "The `return` statement tells Python that something should be sent back when a function is done.\n",
    "\n",
    "<p style=\"border-width:3px; border-style:solid; border-color:#074983; padding: 1em;\"><b>Bonus</b>: If you are curious about why the data is unrecoverable, look into a thing called <em>garbage collection.</em></p>"
   ]
  },
  {
   "cell_type": "code",
   "execution_count": 57,
   "metadata": {},
   "outputs": [],
   "source": [
    "# Generate a signature given a name and an occupation and RETURN the result\n",
    "def generate_signature(name, occupation):\n",
    "    signature = \"Best regards,\\n\" + name + \"\\n\" + occupation\n",
    "    return signature"
   ]
  },
  {
   "cell_type": "markdown",
   "metadata": {},
   "source": [
    "Now we can run it again, and we'll be able to store the result.\n",
    "\n",
    "<p style=\"border-width:3px; border-style:solid; border-color:#074983; padding: 1em;\"><b>Bonus</b>: What happens if I write a function that has some code <em>after</em> the <code>return</code> statement?</p>"
   ]
  },
  {
   "cell_type": "code",
   "execution_count": 58,
   "metadata": {
    "colab": {
     "base_uri": "https://localhost:8080/"
    },
    "id": "6vRHkMwEg_FW",
    "outputId": "7de75c2b-1678-4d25-8eb5-2945999118d8"
   },
   "outputs": [
    {
     "name": "stdout",
     "output_type": "stream",
     "text": [
      "Your email signature:\n",
      "\n",
      "Best regards,\n",
      "Dolica\n",
      "Technician\n"
     ]
    }
   ],
   "source": [
    "# Step 3: Call the generate_signature function with the user's input\n",
    "email_signature = generate_signature(\"Dolica\", \"Technician\")\n",
    "\n",
    "# Step 4: Display the email signature to the user\n",
    "print(\"Your email signature:\\n\")\n",
    "print(email_signature)"
   ]
  },
  {
   "cell_type": "markdown",
   "metadata": {},
   "source": [
    "Sometimes we don't want functions to return anything. And sometimes we don't need to pass information to a function in order for it to perform the task that we want."
   ]
  },
  {
   "cell_type": "markdown",
   "metadata": {
    "id": "R3OqivhvFV1v"
   },
   "source": [
    "### Built-In Functions"
   ]
  },
  {
   "cell_type": "code",
   "execution_count": 59,
   "metadata": {
    "colab": {
     "base_uri": "https://localhost:8080/"
    },
    "id": "L1HCw5dW8dFv",
    "outputId": "678a71df-9d23-4b57-b807-c36c7093d015"
   },
   "outputs": [
    {
     "name": "stdout",
     "output_type": "stream",
     "text": [
      "<class 'builtin_function_or_method'>\n"
     ]
    },
    {
     "data": {
      "text/plain": [
       "6"
      ]
     },
     "execution_count": 59,
     "metadata": {},
     "output_type": "execute_result"
    }
   ],
   "source": [
    "numbers = [1,2,3]\n",
    "print(type(sum))\n",
    "sum(numbers)"
   ]
  },
  {
   "cell_type": "markdown",
   "metadata": {
    "id": "Yc75Qe-BFcPL"
   },
   "source": [
    "#### Naming Variables"
   ]
  },
  {
   "cell_type": "code",
   "execution_count": null,
   "metadata": {
    "colab": {
     "base_uri": "https://localhost:8080/"
    },
    "id": "EbVb7lsv8jm7",
    "outputId": "6007daa8-d9e7-4103-a890-60b351207549"
   },
   "outputs": [],
   "source": [
    "_proper_sum = sum\n",
    "# This is something you shouldn't do\n",
    "sum = 3 + 4 \n",
    "print(sum)"
   ]
  },
  {
   "cell_type": "code",
   "execution_count": null,
   "metadata": {
    "colab": {
     "base_uri": "https://localhost:8080/",
     "height": 166
    },
    "id": "gRECccH8lx3j",
    "outputId": "49c7e58f-8757-4fbc-8559-00ca7ca63bf3"
   },
   "outputs": [],
   "source": [
    "sum(numbers)"
   ]
  },
  {
   "cell_type": "code",
   "execution_count": null,
   "metadata": {
    "colab": {
     "base_uri": "https://localhost:8080/"
    },
    "id": "Gn1z40kdluyN",
    "outputId": "08b3c3de-8bc4-46e7-f226-309c2b024ad0"
   },
   "outputs": [],
   "source": [
    "# Fixing it\n",
    "sum = _proper_sum\n",
    "sum([1,2,3])"
   ]
  },
  {
   "cell_type": "markdown",
   "metadata": {
    "id": "AnkfCmWNHe7a"
   },
   "source": [
    "## Part 2: Making an Image Scraper"
   ]
  },
  {
   "cell_type": "code",
   "execution_count": null,
   "metadata": {
    "id": "FYNn6cAWHibG"
   },
   "outputs": [],
   "source": [
    "import requests\n",
    "from bs4 import BeautifulSoup\n",
    "import os\n",
    "import shutil"
   ]
  },
  {
   "cell_type": "code",
   "execution_count": null,
   "metadata": {
    "id": "6T5Lm-6MH0a0"
   },
   "outputs": [],
   "source": [
    "def photo_downloader(theme):\n",
    "  # Create a url for unsplash based on our theme\n",
    "  url = \"https://unsplash.com/s/photos/\" + theme\n",
    "\n",
    "  # Create a request for the URL\n",
    "  request = requests.get(url, allow_redirects=True)\n",
    "\n",
    "  # Send the request text to BeautifulSoup\n",
    "  data = BeautifulSoup(request.text, \"html.parser\")\n",
    "\n",
    "  # Get a list of the images found at that URL\n",
    "  all_found_images = data.find_all(\"figure\", itemprop=\"image\")\n",
    "\n",
    "  # Get rid of the \"pictures\" folder if it already exists\n",
    "  if os.path.exists(\"pictures\"):\n",
    "    shutil.rmtree(\"pictures\")\n",
    "  \n",
    "  # Create a new \"pictures\" folder and move to it\n",
    "  os.makedirs(\"pictures\")\n",
    "  os.chdir(\"pictures\")\n",
    "\n",
    "  # Set a counter to zero\n",
    "  count = 0\n",
    "\n",
    "  # Loop through each of the images\n",
    "  for image in all_found_images:\n",
    "\n",
    "    # Get the image url object\n",
    "    url = image.find(\"a\", rel=\"nofollow\")\n",
    "\n",
    "    # Check that a URL was found, if not then we can't go any further\n",
    "    if url is not None:\n",
    "      # Get the URL as text\n",
    "      image_url = url[\"href\"]\n",
    "      # Use the Requests library to get the photo data now that we have its URL\n",
    "      photo_bytes = requests.get(image_url, allow_redirects=True)\n",
    "      # Create a name for the image so we can save it\n",
    "      img_name = f\"{theme}-{count:02d}.jpg\" \n",
    "\n",
    "      # Use Python's built-in open method to create a file\n",
    "      with open(img_name, \"wb\") as photo:\n",
    "        # Write the data in our photo_bytes variable to the file\n",
    "        photo.write(photo_bytes.content)\n",
    "        # Increase the counter\n",
    "        count += 1\n",
    "        # Print to the console that an image has been saved successfully\n",
    "        print(\"Saved image \" + img_name)\n",
    "  \n",
    "  print(\"all done\")"
   ]
  },
  {
   "cell_type": "code",
   "execution_count": null,
   "metadata": {
    "colab": {
     "base_uri": "https://localhost:8080/"
    },
    "id": "Tuclml0NIw-R",
    "outputId": "fcbfd124-d458-415a-f528-d4f93ec469c3"
   },
   "outputs": [],
   "source": [
    "photo_downloader(\"robot\")"
   ]
  },
  {
   "cell_type": "code",
   "execution_count": null,
   "metadata": {
    "id": "tJfl1FqeN0c0"
   },
   "outputs": [],
   "source": [
    "import glob"
   ]
  },
  {
   "cell_type": "code",
   "execution_count": null,
   "metadata": {
    "colab": {
     "base_uri": "https://localhost:8080/"
    },
    "id": "ZT9Iy6sgJWju",
    "outputId": "2519f350-ad32-422c-c47f-d1bc2ab211a5"
   },
   "outputs": [],
   "source": [
    "# Ask Python to list all the images we have just downloaded\n",
    "saved_image_list = glob.glob(\"*.jpg\")\n",
    "print(saved_image_list)"
   ]
  },
  {
   "cell_type": "markdown",
   "metadata": {
    "id": "-qL7PK3Aj33Q"
   },
   "source": [
    "### Displaying a Random Image"
   ]
  },
  {
   "cell_type": "code",
   "execution_count": null,
   "metadata": {
    "id": "7n5wYRh8KB6_"
   },
   "outputs": [],
   "source": [
    "import matplotlib.pyplot as plt\n",
    "import matplotlib.image as mpimg\n",
    "import random"
   ]
  },
  {
   "cell_type": "code",
   "execution_count": null,
   "metadata": {
    "colab": {
     "base_uri": "https://localhost:8080/",
     "height": 470
    },
    "id": "k7phEkmYOrp3",
    "outputId": "7b1e3b56-a229-4793-bca6-5465e617092d"
   },
   "outputs": [],
   "source": [
    "random_image_name = random.choice(saved_image_list)\n",
    "random_image = mpimg.imread(random_image_name)\n",
    "imgplot = plt.imshow(random_image)\n",
    "print(random_image.shape)\n",
    "print(random_image_name)\n",
    "plt.show()"
   ]
  },
  {
   "cell_type": "markdown",
   "metadata": {
    "id": "6Ddyb53GjzK6"
   },
   "source": [
    "### Using the Image to Create Glitch Art\n",
    "\n",
    "A library called `glitchart` will be used to glitch the image. This is installed using the `pip` command. In Jupyter we can do this by placing an exclamation mark before the instruction. Once `glitchart` has been installed then we can import it and use it like what was done with the other libraries."
   ]
  },
  {
   "cell_type": "code",
   "execution_count": null,
   "metadata": {
    "colab": {
     "base_uri": "https://localhost:8080/"
    },
    "id": "VCbfQtmLbqTB",
    "outputId": "259d7ba3-9bc1-46c6-9b86-9d799128cb94"
   },
   "outputs": [],
   "source": [
    "!pip install glitch-this\n",
    "from glitch_this import ImageGlitcher\n",
    "from PIL import Image\n",
    "glitcher = ImageGlitcher()"
   ]
  },
  {
   "cell_type": "markdown",
   "metadata": {
    "id": "ttcwlQjCkWpW"
   },
   "source": [
    "Now the glitchart library can be used. It needs an argument for an image path as well as a `max_amount` that decides the level of \"glitchiness\" in the image. For this example we'll use a value of 50.\n",
    "\n",
    "The result is that we get a `glitched_image_path` that tells us where the glitched image has been saved on the disk. This can then be given to the `imread` method so that it knows where to look.\n",
    "\n",
    "Once an Image object has been created, we can then use it to create an ImagePlot object. Finally, we call the `show()` method to cause it to appear."
   ]
  },
  {
   "cell_type": "code",
   "execution_count": null,
   "metadata": {
    "colab": {
     "base_uri": "https://localhost:8080/",
     "height": 435
    },
    "id": "yL5Z_IDcbxlE",
    "outputId": "0ad513d9-868b-4e6e-c44e-81b479ee85eb"
   },
   "outputs": [],
   "source": [
    "glitched_image = glitcher.glitch_image(Image.fromarray(random_image), 3.5, color_offset=True)\n",
    "imgplot = plt.imshow(glitched_image)\n",
    "plt.show()"
   ]
  },
  {
   "cell_type": "code",
   "execution_count": null,
   "metadata": {
    "colab": {
     "base_uri": "https://localhost:8080/"
    },
    "id": "zmpkl60PNro-",
    "outputId": "79569cd9-04ad-44ef-9c61-80ec2f4d13cf"
   },
   "outputs": [],
   "source": [
    "!pip install pixelsort\n",
    "from pixelsort import pixelsort"
   ]
  },
  {
   "cell_type": "code",
   "execution_count": null,
   "metadata": {
    "colab": {
     "base_uri": "https://localhost:8080/",
     "height": 435
    },
    "id": "UxUOAHpw5lZU",
    "outputId": "98e5b4ef-4d92-4c90-f4af-5ce0a8ae9b75"
   },
   "outputs": [],
   "source": [
    "sort_image = pixelsort(glitched_image, sorting_function=\"intensity\", interval_function=\"edges\")\n",
    "imgplot = plt.imshow(sort_image)\n",
    "plt.show()"
   ]
  }
 ],
 "metadata": {
  "accelerator": "TPU",
  "colab": {
   "authorship_tag": "ABX9TyNNZf5fC3oZTWnNTVCCsDzB",
   "gpuType": "T4",
   "include_colab_link": true,
   "provenance": []
  },
  "gpuClass": "standard",
  "kernelspec": {
   "display_name": "Python 3 (ipykernel)",
   "language": "python",
   "name": "python3"
  },
  "language_info": {
   "codemirror_mode": {
    "name": "ipython",
    "version": 3
   },
   "file_extension": ".py",
   "mimetype": "text/x-python",
   "name": "python",
   "nbconvert_exporter": "python",
   "pygments_lexer": "ipython3",
   "version": "3.10.10"
  }
 },
 "nbformat": 4,
 "nbformat_minor": 1
}
