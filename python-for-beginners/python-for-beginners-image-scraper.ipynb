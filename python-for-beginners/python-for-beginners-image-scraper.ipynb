{
 "cells": [
  {
   "attachments": {},
   "cell_type": "markdown",
   "id": "bebc1761",
   "metadata": {},
   "source": [
    "# Python For Beginners\n",
    "## Overview\n",
    "\n",
    "+ The Python Interpreter\n",
    "+ Hello World / Variables\n",
    "+ Variable Reassignment\n",
    "+ Numbers\n",
    "+ Lists\n",
    "+ Combining Things\n",
    "+ Libraries\n",
    "+ List Comprehensions"
   ]
  },
  {
   "attachments": {},
   "cell_type": "markdown",
   "id": "e00d87ac",
   "metadata": {},
   "source": [
    "## Using Python Notebooks\n",
    "\n",
    "Python Notebooks are made up of blocks of code called cells. These cells can be run by clicking on the play button on the left of each code block. If the code runs successfully then you will see a green tick appear on the left. "
   ]
  },
  {
   "attachments": {},
   "cell_type": "markdown",
   "id": "557cbbb9",
   "metadata": {},
   "source": [
    "## Some Python Basics"
   ]
  },
  {
   "attachments": {},
   "cell_type": "markdown",
   "id": "1d17665c",
   "metadata": {},
   "source": [
    "### Calculator\n",
    "\n",
    "The Python interpreter can be used as a calculator.\n",
    "\n",
    "**Exercise:** Find the value of `2 + 2` using Python. "
   ]
  },
  {
   "cell_type": "code",
   "execution_count": null,
   "id": "9a4bcc50",
   "metadata": {},
   "outputs": [],
   "source": [
    "# live coding goes here"
   ]
  },
  {
   "attachments": {},
   "cell_type": "markdown",
   "id": "b1414bf4",
   "metadata": {},
   "source": [
    "### Hello World\n",
    "\n",
    "Variables can be used to store values so that they can be accessed or changed later. They are like labelled boxes for storing data. The `print()` command can be used to show the value of a variable."
   ]
  },
  {
   "cell_type": "code",
   "execution_count": null,
   "id": "529fd286",
   "metadata": {},
   "outputs": [],
   "source": [
    "my_text = \"Hello World!\"\n",
    "print(my_text)"
   ]
  },
  {
   "attachments": {},
   "cell_type": "markdown",
   "id": "bec91e8c",
   "metadata": {},
   "source": [
    "**Exercise:** Create a variable containing the text `My name is...` then use the `print()` command to show it."
   ]
  },
  {
   "cell_type": "code",
   "execution_count": null,
   "id": "dde5525c",
   "metadata": {},
   "outputs": [],
   "source": [
    "# live-coding goes here"
   ]
  },
  {
   "attachments": {},
   "cell_type": "markdown",
   "id": "995fad32",
   "metadata": {},
   "source": [
    "### Reassignment\n",
    "\n",
    "We can change the value of variable by using the `=` operator to give it another value. This is known as _reassignment_. Be aware that Notebooks allow you to execute cells in any order, meaning that it can be a bit trickier to ensure others get the same results you do."
   ]
  },
  {
   "cell_type": "code",
   "execution_count": null,
   "id": "f5a358cb",
   "metadata": {},
   "outputs": [],
   "source": [
    "my_text = \"hello!\""
   ]
  },
  {
   "cell_type": "code",
   "execution_count": null,
   "id": "c9fa57f5",
   "metadata": {},
   "outputs": [],
   "source": [
    "print(my_text)"
   ]
  },
  {
   "cell_type": "code",
   "execution_count": null,
   "id": "cc5cf483",
   "metadata": {},
   "outputs": [],
   "source": [
    "my_text = \"goodbye!\""
   ]
  },
  {
   "attachments": {},
   "cell_type": "markdown",
   "id": "3a4f7641",
   "metadata": {},
   "source": [
    "### Numbers\n",
    "\n",
    "Numbers in Python come in the form of whole numbers (Integers) or numbers with decimals places (Floats)."
   ]
  },
  {
   "cell_type": "code",
   "execution_count": null,
   "id": "2110b088",
   "metadata": {},
   "outputs": [],
   "source": [
    "num = 10\n",
    "pi = 3.14"
   ]
  },
  {
   "attachments": {},
   "cell_type": "markdown",
   "id": "a41df52a",
   "metadata": {},
   "source": [
    "### Lists\n",
    "\n",
    "Lists are collections of different data that can be stored in a single variable."
   ]
  },
  {
   "cell_type": "code",
   "execution_count": null,
   "id": "507961bb",
   "metadata": {},
   "outputs": [],
   "source": [
    "my_list = [\"text-1\", \"text-2\", \"text-3\"]\n",
    "print(my_list)"
   ]
  },
  {
   "attachments": {},
   "cell_type": "markdown",
   "id": "0fb25afe",
   "metadata": {},
   "source": [
    "### Combining Things with `+`\n",
    "\n",
    "The `+` operator doesn't just allow us to add numbers. It can also be used to combine some of the different data types in Python.\n",
    "\n",
    "**Exercise:** The code below will take a bit of text called `first_text` and combine it with another text called `second_text`. Afterwards it will then `print()` the combined text. However, the code is out of order. What would be the right order for the code?"
   ]
  },
  {
   "cell_type": "code",
   "execution_count": null,
   "id": "f8a5c472",
   "metadata": {},
   "outputs": [],
   "source": [
    "combined_text = first_part + second_part\n",
    "first_part = \"Hello, my name is\"\n",
    "print(combined_text)\n",
    "second_part = \"name-goes-here.\""
   ]
  },
  {
   "attachments": {},
   "cell_type": "markdown",
   "id": "4f143a39",
   "metadata": {},
   "source": [
    "Likewise, the `+` operator can be used to combine lists."
   ]
  },
  {
   "cell_type": "code",
   "execution_count": null,
   "id": "b1fcd4e6",
   "metadata": {},
   "outputs": [],
   "source": [
    "first_list = [\"a\", \"b\", \"c\"]\n",
    "second_list = [1, 2, 3]\n",
    "\n",
    "combined_list = first_list + second_list\n",
    "print(combined_list)"
   ]
  },
  {
   "attachments": {},
   "cell_type": "markdown",
   "id": "7f5ce584",
   "metadata": {},
   "source": [
    "### Using Libraries\n",
    "\n",
    "+ Code written by other developers\n",
    "+ Good chance someone has tried to solve the same problem as you\n",
    "+ Don't have to reinvent the wheel"
   ]
  },
  {
   "cell_type": "code",
   "execution_count": null,
   "id": "24841e79",
   "metadata": {},
   "outputs": [],
   "source": [
    "%pip install emoji\n",
    "import emoji"
   ]
  },
  {
   "cell_type": "code",
   "execution_count": null,
   "id": "c7c5f035",
   "metadata": {},
   "outputs": [],
   "source": [
    "emojified = emoji.emojize(\"There is a :snake: in my boot!\")\n",
    "print(emojified)"
   ]
  },
  {
   "attachments": {},
   "cell_type": "markdown",
   "id": "b52b8875",
   "metadata": {},
   "source": [
    "### Comprehensions\n",
    "\n",
    "Comprehensions are the \"Pythonic\" way of doing things with lists."
   ]
  },
  {
   "cell_type": "code",
   "execution_count": null,
   "id": "d780219e",
   "metadata": {},
   "outputs": [],
   "source": [
    "my_list = [i for i in range(10)]\n",
    "print(my_list)"
   ]
  },
  {
   "attachments": {},
   "cell_type": "markdown",
   "id": "16cd7f42",
   "metadata": {},
   "source": [
    "## Making an Image Scraper\n",
    "\n",
    "### Libraries"
   ]
  },
  {
   "attachments": {},
   "cell_type": "markdown",
   "id": "ae9fb559",
   "metadata": {},
   "source": [
    "First things first, we need to download some libraries in order to get our code working. Libraries are code that have been written by other developers. A lot of the time, certain common tasks have already been attempted by others. Using libraries saves a lot of time."
   ]
  },
  {
   "cell_type": "code",
   "execution_count": null,
   "id": "526cbd66",
   "metadata": {},
   "outputs": [],
   "source": [
    "%pip install requests\n",
    "%pip install beautifulsoup4\n",
    "\n",
    "import requests\n",
    "from bs4 import BeautifulSoup"
   ]
  },
  {
   "cell_type": "code",
   "execution_count": null,
   "id": "d250d8c8",
   "metadata": {},
   "outputs": [],
   "source": [
    "from PIL import Image\n",
    "import io"
   ]
  },
  {
   "attachments": {},
   "cell_type": "markdown",
   "id": "13ab65c4",
   "metadata": {},
   "source": [
    "### Functions"
   ]
  },
  {
   "cell_type": "code",
   "execution_count": null,
   "id": "9cfa082c",
   "metadata": {},
   "outputs": [],
   "source": [
    "def bytes_to_image(image_data):\n",
    "    \"\"\"\n",
    "    Converts bytes to an Image\n",
    "    \"\"\"\n",
    "    return Image.open(io.BytesIO(image_data))"
   ]
  },
  {
   "attachments": {},
   "cell_type": "markdown",
   "id": "4de0498c",
   "metadata": {},
   "source": [
    "### Getting Stuff from the Web\n",
    "\n",
    "[Unsplash](https://unsplash.com) is a website that provides a lot of free images. The code below is capable of downloading images from Unsplash."
   ]
  },
  {
   "cell_type": "code",
   "execution_count": null,
   "id": "58198083",
   "metadata": {},
   "outputs": [],
   "source": [
    "def photo_downloader(image_theme):\n",
    "    # Create a url for unsplash based on our theme\n",
    "    source_url = \"https://unsplash.com/s/photos/\" + image_theme\n",
    "\n",
    "    # Download the website with the images\n",
    "    response = requests.get(source_url, allow_redirects=True)\n",
    "\n",
    "    # Tell BeautifulSoup to process this as HTML\n",
    "    data = BeautifulSoup(response.text, \"html.parser\")\n",
    "\n",
    "    # Retrieve the chunks of the HTML that contain images\n",
    "    all_found_images = data.find_all(\"figure\", itemprop=\"image\")\n",
    "\n",
    "    image_urls = [image.find(\"a\", rel=\"nofollow\") for image in all_found_images]\n",
    "    image_urls = filter(None, image_urls)\n",
    "\n",
    "    photo_bytes = [\n",
    "        requests.get(image_url[\"href\"], allow_redirects=True).content\n",
    "        for image_url in image_urls\n",
    "    ]\n",
    "\n",
    "    print(f\"Downloaded {len(photo_bytes)} images.\")\n",
    "\n",
    "    return [bytes_to_image(single_bytes) for single_bytes in photo_bytes]"
   ]
  },
  {
   "attachments": {},
   "cell_type": "markdown",
   "id": "3388204c",
   "metadata": {},
   "source": [
    "Now we can run or _call_ the function above by providing an argument. The argument is what will be used as our \"theme\" within the function. For this example I'm using the word \"robots\" but you're free to change it to whatever interests you. I am taking the list that is _returned_ by the function and saving it to a variable called `downloaded_photos`."
   ]
  },
  {
   "cell_type": "code",
   "execution_count": null,
   "id": "3f90a84a",
   "metadata": {},
   "outputs": [],
   "source": [
    "downloaded_photos = photo_downloader(\"robots\")"
   ]
  },
  {
   "attachments": {},
   "cell_type": "markdown",
   "id": "a39fe4dd",
   "metadata": {},
   "source": [
    "Now I can look at the first Image in the `downloaded_photos` list. In the function the photos are originally in the bytes format, but I use another function to convert them to something called `Image` which is a special data type that is offerened by the `PIL` library that was imported earlier. `Image` is useful because it comes with `image.show()` that will display an image."
   ]
  },
  {
   "cell_type": "code",
   "execution_count": null,
   "id": "2657f1a7",
   "metadata": {},
   "outputs": [],
   "source": [
    "downloaded_photos[0].show()"
   ]
  },
  {
   "attachments": {},
   "cell_type": "markdown",
   "id": "c98acb9f",
   "metadata": {},
   "source": [
    "### Saving the Images"
   ]
  },
  {
   "cell_type": "code",
   "execution_count": null,
   "id": "37d15806",
   "metadata": {},
   "outputs": [],
   "source": [
    "import os"
   ]
  },
  {
   "cell_type": "code",
   "execution_count": null,
   "id": "48fd9927",
   "metadata": {},
   "outputs": [],
   "source": [
    "def photo_saver(image: Image, theme: str, count: int, folder_name: str):\n",
    "    # Create a filename for the image\n",
    "    img_filename = os.path.join(folder_name, f\"{theme}-{count:02d}.jpg\")\n",
    "\n",
    "    # creating a image object (main image)\n",
    "    image.save(img_filename)\n",
    "    print(f\"saved {img_filename}\")"
   ]
  },
  {
   "cell_type": "code",
   "execution_count": null,
   "id": "b8004726",
   "metadata": {},
   "outputs": [],
   "source": [
    "# Create a new \"scrapper-pictures\" folder and move to it\n",
    "picture_folder_name = \"scrapper-pictures\"\n",
    "os.makedirs(picture_folder_name, exist_ok=True)\n",
    "\n",
    "for count, img in enumerate(downloaded_photos):\n",
    "    photo_saver(img, \"robots\", count, picture_folder_name)"
   ]
  },
  {
   "cell_type": "code",
   "execution_count": null,
   "id": "550c633d",
   "metadata": {},
   "outputs": [],
   "source": []
  },
  {
   "attachments": {},
   "cell_type": "markdown",
   "id": "5f1162d6",
   "metadata": {},
   "source": [
    "## What's Next\n",
    "\n",
    "+ Python for Machine Learning\n",
    "+ Version Control"
   ]
  },
  {
   "attachments": {},
   "cell_type": "markdown",
   "id": "fbc097fd",
   "metadata": {},
   "source": [
    "## Learning Programming\n",
    "\n",
    "+ You don't need to learn/memorise everything"
   ]
  },
  {
   "attachments": {},
   "cell_type": "markdown",
   "id": "706e2973",
   "metadata": {},
   "source": []
  }
 ],
 "metadata": {
  "kernelspec": {
   "display_name": "",
   "language": "python",
   "name": ""
  },
  "language_info": {
   "codemirror_mode": {
    "name": "ipython",
    "version": 3
   },
   "file_extension": ".py",
   "mimetype": "text/x-python",
   "name": "python",
   "nbconvert_exporter": "python",
   "pygments_lexer": "ipython3",
   "version": "3.11.3"
  }
 },
 "nbformat": 4,
 "nbformat_minor": 5
}
