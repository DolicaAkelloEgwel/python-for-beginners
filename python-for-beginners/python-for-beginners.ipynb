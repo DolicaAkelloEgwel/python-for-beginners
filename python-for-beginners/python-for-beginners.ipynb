{
  "cells": [
    {
      "cell_type": "markdown",
      "metadata": {
        "id": "view-in-github",
        "colab_type": "text"
      },
      "source": [
        "<a href=\"https://colab.research.google.com/gist/DolicaAkelloEgwel/c2a81dead051c310dfcd3cde5c288672/python-for-beginners.ipynb\" target=\"_parent\"><img src=\"https://colab.research.google.com/assets/colab-badge.svg\" alt=\"Open In Colab\"/></a>"
      ]
    },
    {
      "cell_type": "markdown",
      "metadata": {
        "id": "rDUdDn1zUQdP"
      },
      "source": [
        "# Python for Beginners\n",
        "\n",
        "## Jupyter Notebooks\n",
        "\n",
        "Jupyter notebooks kinda encourage bad habits but we're using this today because it saves time and makes things simple.\n",
        "\n",
        "## Part 1: Getting To Know Python\n",
        "### Variables"
      ]
    },
    {
      "cell_type": "code",
      "execution_count": null,
      "metadata": {
        "colab": {
          "base_uri": "https://localhost:8080/",
          "height": 35
        },
        "id": "_6dBQShdUPpy",
        "outputId": "e60064c3-ea2c-440e-c221-08b9ada7c1b1"
      },
      "outputs": [
        {
          "data": {
            "application/vnd.google.colaboratory.intrinsic+json": {
              "type": "string"
            },
            "text/plain": [
              "'Hello, World!'"
            ]
          },
          "execution_count": 1,
          "metadata": {},
          "output_type": "execute_result"
        }
      ],
      "source": [
        "message = \"Hello, World!\"\n",
        "\n",
        "# Jupyter will print a single variable when its name has been typed out at the end of the cell\n",
        "message"
      ]
    },
    {
      "cell_type": "markdown",
      "metadata": {
        "id": "2kpBfSpjUgk-"
      },
      "source": [
        "### Data Types"
      ]
    },
    {
      "cell_type": "code",
      "execution_count": null,
      "metadata": {
        "colab": {
          "base_uri": "https://localhost:8080/"
        },
        "id": "kf-WGCoIUj1z",
        "outputId": "48a237fb-3a7b-4a5b-ecdb-9d23eecd6368"
      },
      "outputs": [
        {
          "name": "stdout",
          "output_type": "stream",
          "text": [
            "3.14\n",
            "10 3.14 John True [1, 2, 3]\n"
          ]
        },
        {
          "data": {
            "text/plain": [
              "True"
            ]
          },
          "execution_count": 2,
          "metadata": {},
          "output_type": "execute_result"
        }
      ],
      "source": [
        "num = 10\n",
        "pi = 3.14\n",
        "name = \"John\"\n",
        "is_true = True\n",
        "my_list = [1, 2, 3]\n",
        "\n",
        "# A print statement allows me to see what's in a variable\n",
        "print(pi)\n",
        "# The comma allows me to print multiple items on one line\n",
        "print(num, pi, name, is_true, my_list) \n",
        "\n",
        "num # This will not be printed\n",
        "is_true # This will be printed"
      ]
    },
    {
      "cell_type": "markdown",
      "metadata": {
        "id": "uF-CvIysVCm2"
      },
      "source": [
        "### Operations"
      ]
    },
    {
      "cell_type": "code",
      "execution_count": null,
      "metadata": {
        "colab": {
          "base_uri": "https://localhost:8080/"
        },
        "id": "T0IU96uXVEVy",
        "outputId": "ecb59313-1597-4718-d6dd-1e8c91ec22eb"
      },
      "outputs": [
        {
          "name": "stdout",
          "output_type": "stream",
          "text": [
            "8\n"
          ]
        }
      ],
      "source": [
        "x = 5\n",
        "y = 3\n",
        "summed = x + y\n",
        "print(summed)\n",
        "\n",
        "is_greater = x > y\n",
        "is_equal = x == y"
      ]
    },
    {
      "cell_type": "markdown",
      "metadata": {
        "id": "hVYZCePsXhsa"
      },
      "source": [
        "### Make the Computer Greet You\n",
        "\n",
        "\n"
      ]
    },
    {
      "cell_type": "code",
      "execution_count": null,
      "metadata": {
        "colab": {
          "base_uri": "https://localhost:8080/"
        },
        "id": "3i-KcH9CVJYy",
        "outputId": "656173da-7265-4517-80aa-600962cad4bb"
      },
      "outputs": [
        {
          "name": "stdout",
          "output_type": "stream",
          "text": [
            "What is your name? Dolica\n",
            "Hello, Dolica! Nice to meet you.\n"
          ]
        }
      ],
      "source": [
        "# Ask the user for their name\n",
        "name = input(\"What is your name? \")\n",
        "\n",
        "# Greet the user using their name\n",
        "print(\"Hello, \" + name + \"! Nice to meet you.\")"
      ]
    },
    {
      "cell_type": "markdown",
      "metadata": {
        "id": "XFGmZNDmg-Xw"
      },
      "source": [
        "### Functions"
      ]
    },
    {
      "cell_type": "code",
      "execution_count": null,
      "metadata": {
        "colab": {
          "base_uri": "https://localhost:8080/"
        },
        "id": "6vRHkMwEg_FW",
        "outputId": "cb5247ac-3ea0-4651-d06e-f7ddf38f76a5"
      },
      "outputs": [
        {
          "name": "stdout",
          "output_type": "stream",
          "text": [
            "Enter your name: Dolica Akello-Egwel\n",
            "Enter your occupation: Creative Data Specialist Technician\n",
            "Your email signature:\n",
            "\n",
            "Best regards,\n",
            "Dolica Akello-Egwel\n",
            "Creative Data Specialist Technician\n"
          ]
        }
      ],
      "source": [
        "# Step 1: Ask the user to enter their name and occupation\n",
        "name = input(\"Enter your name: \")\n",
        "occupation = input(\"Enter your occupation: \")\n",
        "\n",
        "# Step 2: Define the generate_signature function\n",
        "def generate_signature(name, occupation):\n",
        "    signature = \"Best regards,\\n\" + name + \"\\n\" + occupation\n",
        "    return signature\n",
        "\n",
        "# Step 3: Call the generate_signature function with the user's input\n",
        "email_signature = generate_signature(name, occupation)\n",
        "\n",
        "# Step 4: Display the email signature to the user\n",
        "print(\"Your email signature:\\n\")\n",
        "print(email_signature)"
      ]
    },
    {
      "cell_type": "markdown",
      "metadata": {
        "id": "R3OqivhvFV1v"
      },
      "source": [
        "### Built-In Functions"
      ]
    },
    {
      "cell_type": "code",
      "execution_count": null,
      "metadata": {
        "colab": {
          "base_uri": "https://localhost:8080/",
          "height": 222
        },
        "id": "L1HCw5dW8dFv",
        "outputId": "0921f9c7-b9ae-4702-ebdb-25f091a68316"
      },
      "outputs": [
        {
          "name": "stdout",
          "output_type": "stream",
          "text": [
            "<class 'int'>\n"
          ]
        },
        {
          "ename": "TypeError",
          "evalue": "ignored",
          "output_type": "error",
          "traceback": [
            "\u001b[0;31m---------------------------------------------------------------------------\u001b[0m",
            "\u001b[0;31mTypeError\u001b[0m                                 Traceback (most recent call last)",
            "\u001b[0;32m<ipython-input-26-97663fff653b>\u001b[0m in \u001b[0;36m<cell line: 4>\u001b[0;34m()\u001b[0m\n\u001b[1;32m      2\u001b[0m \u001b[0;31m# The type method shows us the type of a variable\u001b[0m\u001b[0;34m\u001b[0m\u001b[0;34m\u001b[0m\u001b[0m\n\u001b[1;32m      3\u001b[0m \u001b[0mprint\u001b[0m\u001b[0;34m(\u001b[0m\u001b[0mtype\u001b[0m\u001b[0;34m(\u001b[0m\u001b[0msum\u001b[0m\u001b[0;34m)\u001b[0m\u001b[0;34m)\u001b[0m\u001b[0;34m\u001b[0m\u001b[0;34m\u001b[0m\u001b[0m\n\u001b[0;32m----> 4\u001b[0;31m \u001b[0msum\u001b[0m\u001b[0;34m(\u001b[0m\u001b[0mnumbers\u001b[0m\u001b[0;34m)\u001b[0m\u001b[0;34m\u001b[0m\u001b[0;34m\u001b[0m\u001b[0m\n\u001b[0m",
            "\u001b[0;31mTypeError\u001b[0m: 'int' object is not callable"
          ]
        }
      ],
      "source": [
        "numbers = [1,2,3,4,5]\n",
        "# The type method shows us the type of a variable\n",
        "print(type(sum))\n",
        "sum(numbers)"
      ]
    },
    {
      "cell_type": "markdown",
      "metadata": {
        "id": "Yc75Qe-BFcPL"
      },
      "source": [
        "#### Naming Variables"
      ]
    },
    {
      "cell_type": "code",
      "execution_count": null,
      "metadata": {
        "colab": {
          "base_uri": "https://localhost:8080/"
        },
        "id": "EbVb7lsv8jm7",
        "outputId": "3fe4dd26-1f31-4df5-b64e-a723f2311a35"
      },
      "outputs": [
        {
          "data": {
            "text/plain": [
              "7"
            ]
          },
          "execution_count": 25,
          "metadata": {},
          "output_type": "execute_result"
        }
      ],
      "source": [
        "proper_sum = sum\n",
        "sum = 3 + 4\n",
        "sum"
      ]
    },
    {
      "cell_type": "markdown",
      "metadata": {
        "id": "AnkfCmWNHe7a"
      },
      "source": [
        "## Part 2: Making an Image Scraper"
      ]
    },
    {
      "cell_type": "code",
      "execution_count": null,
      "metadata": {
        "id": "FYNn6cAWHibG"
      },
      "outputs": [],
      "source": [
        "import requests\n",
        "from bs4 import BeautifulSoup\n",
        "import os"
      ]
    },
    {
      "cell_type": "code",
      "execution_count": 130,
      "metadata": {
        "id": "6T5Lm-6MH0a0"
      },
      "outputs": [],
      "source": [
        "def photo_downloader(theme):\n",
        "  # Create a url for unsplash based on our theme\n",
        "  url = \"https://unsplash.com/s/photos/\" + theme\n",
        "\n",
        "  # Create a request for the URL\n",
        "  request = requests.get(url, allow_redirects=True)\n",
        "\n",
        "  # Send the request text to BeautifulSoup\n",
        "  data = BeautifulSoup(request.text, \"html.parser\")\n",
        "\n",
        "  # Get a list of the images found at that URL\n",
        "  all_images = data.find_all(\"figure\", itemprop=\"image\")\n",
        "\n",
        "  # Create a folder called \"pictures\" if one doesn't already exist\n",
        "  if not os.path.exists(\"pictures\"):\n",
        "    os.makedirs(\"pictures\")\n",
        "\n",
        "  # Move to the \"pictures\" folder\n",
        "  os.chdir(\"pictures\")\n",
        "\n",
        "  # Set a counter to zero\n",
        "  count = 0\n",
        "\n",
        "  # Loop through each of the images\n",
        "  for image in all_images:\n",
        "\n",
        "    # Get the image url object\n",
        "    url = image.find(\"a\", rel=\"nofollow\")\n",
        "\n",
        "    # Check that a URL was found, if not then we can't go any further\n",
        "    if url is not None:\n",
        "      # Get the URL as text\n",
        "      image_url = url[\"href\"]\n",
        "      # Use the Requests library to get the photo data now that we have its URL\n",
        "      photo_bytes = requests.get(image_url, allow_redirects=True)\n",
        "      # Create a name for the image so we can save it\n",
        "      img_name = f\"{theme}-{count:02d}.jpg\" \n",
        "\n",
        "      # Use Python's built-in open method to create a file\n",
        "      with open(img_name, \"wb\") as photo:\n",
        "        # Write the data in our photo_bytes variable to the file\n",
        "        photo.write(photo_bytes.content)\n",
        "        # Increase the counter\n",
        "        count += 1\n",
        "        # Print to the console that an image has been saved successfully\n",
        "        print(\"Saved image \" + img_name)\n",
        "  \n",
        "  print(\"all done\")"
      ]
    },
    {
      "cell_type": "code",
      "execution_count": 154,
      "metadata": {
        "colab": {
          "base_uri": "https://localhost:8080/"
        },
        "id": "Tuclml0NIw-R",
        "outputId": "0f97c849-ca13-458c-9c69-83efe45b7c0c"
      },
      "outputs": [
        {
          "output_type": "stream",
          "name": "stdout",
          "text": [
            "Saved image tarot-00.jpg\n",
            "Saved image tarot-01.jpg\n",
            "Saved image tarot-02.jpg\n",
            "Saved image tarot-03.jpg\n",
            "Saved image tarot-04.jpg\n",
            "Saved image tarot-05.jpg\n",
            "Saved image tarot-06.jpg\n",
            "Saved image tarot-07.jpg\n",
            "Saved image tarot-08.jpg\n",
            "Saved image tarot-09.jpg\n",
            "Saved image tarot-10.jpg\n",
            "Saved image tarot-11.jpg\n",
            "Saved image tarot-12.jpg\n",
            "Saved image tarot-13.jpg\n",
            "Saved image tarot-14.jpg\n",
            "Saved image tarot-15.jpg\n",
            "all done\n"
          ]
        }
      ],
      "source": [
        "photo_downloader(\"tarot\")"
      ]
    },
    {
      "cell_type": "code",
      "execution_count": 155,
      "metadata": {
        "colab": {
          "base_uri": "https://localhost:8080/"
        },
        "id": "ZT9Iy6sgJWju",
        "outputId": "fe177274-8d6c-440c-8d20-cf4156ee134b"
      },
      "outputs": [
        {
          "output_type": "stream",
          "name": "stdout",
          "text": [
            "['tarot-09.jpg', 'tarot-01.jpg', 'tarot-13.jpg', 'tarot-08.jpg', 'tarot-06.jpg', 'tarot-05.jpg', 'tarot-04.jpg', 'tarot-02.jpg', 'tarot-07.jpg', 'tarot-11.jpg', 'tarot-15.jpg', 'tarot-00.jpg', 'tarot-10.jpg', 'tarot-12.jpg', 'tarot-14.jpg', 'tarot-03.jpg']\n"
          ]
        }
      ],
      "source": [
        "import glob\n",
        "# Ask Python to list all the images we have just downloaded\n",
        "saved_image_list = glob.glob(\"*.jpg\")\n",
        "print(saved_image_list)"
      ]
    },
    {
      "cell_type": "code",
      "execution_count": 149,
      "metadata": {
        "id": "7n5wYRh8KB6_"
      },
      "outputs": [],
      "source": [
        "from PIL import Image\n",
        "import random"
      ]
    },
    {
      "cell_type": "code",
      "execution_count": 158,
      "metadata": {
        "id": "k7phEkmYOrp3"
      },
      "outputs": [],
      "source": [
        "image = Image.open(random.choice(saved_image_list))\n",
        "image.show()"
      ]
    }
  ],
  "metadata": {
    "colab": {
      "provenance": [],
      "authorship_tag": "ABX9TyOFfMKu20PHjWSIuKgQvynp",
      "include_colab_link": true
    },
    "kernelspec": {
      "display_name": "Python 3",
      "name": "python3"
    },
    "language_info": {
      "name": "python"
    }
  },
  "nbformat": 4,
  "nbformat_minor": 0
}