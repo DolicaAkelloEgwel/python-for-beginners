{
 "cells": [
  {
   "cell_type": "markdown",
   "metadata": {
    "colab_type": "text",
    "id": "DpII-qgno6EX"
   },
   "source": [
    "# Conditional GAN - MNIST\n",
    "\n",
    "Make Your First GAN With PyTorch, 2020"
   ]
  },
  {
   "cell_type": "code",
   "execution_count": null,
   "metadata": {
    "colab": {
     "base_uri": "https://localhost:8080/",
     "height": 34
    },
    "colab_type": "code",
    "id": "R4cVBs2wlDiv",
    "outputId": "cc9d261e-e056-4a36-be03-30399b0fad9e"
   },
   "outputs": [],
   "source": [
    "# mount Drive to access data files\n",
    "\n",
    "# from google.colab import drive\n",
    "# drive.mount('./mount')"
   ]
  },
  {
   "cell_type": "code",
   "execution_count": null,
   "metadata": {
    "colab": {},
    "colab_type": "code",
    "id": "7bkrfSHHAPUB"
   },
   "outputs": [],
   "source": [
    "# import libraries\n",
    "\n",
    "import torch\n",
    "import torch.nn as nn\n",
    "from torch.utils.data import Dataset\n",
    "\n",
    "import pandas, numpy, random\n",
    "import matplotlib.pyplot as plt"
   ]
  },
  {
   "cell_type": "markdown",
   "metadata": {
    "colab_type": "text",
    "id": "o91c-ALVmw0n"
   },
   "source": [
    "## Dataset Class"
   ]
  },
  {
   "cell_type": "code",
   "execution_count": null,
   "metadata": {
    "colab": {},
    "colab_type": "code",
    "id": "hS9SJ5JI5rIW"
   },
   "outputs": [],
   "source": [
    "# dataset class\n",
    "\n",
    "\n",
    "class MnistDataset(Dataset):\n",
    "    def __init__(self, csv_file):\n",
    "        self.data_df = pandas.read_csv(csv_file, header=None)\n",
    "        pass\n",
    "\n",
    "    def __len__(self):\n",
    "        return len(self.data_df)\n",
    "\n",
    "    def __getitem__(self, index):\n",
    "        # image target (label)\n",
    "        label = self.data_df.iloc[index, 0]\n",
    "        target = torch.zeros((10))\n",
    "        target[label] = 1.0\n",
    "\n",
    "        # image data, normalised from 0-255 to 0-1\n",
    "        image_values = torch.FloatTensor(self.data_df.iloc[index, 1:].values) / 255.0\n",
    "\n",
    "        # return label, image data tensor and target tensor\n",
    "        return label, image_values, target\n",
    "\n",
    "    def plot_image(self, index):\n",
    "        img = self.data_df.iloc[index, 1:].values.reshape(28, 28)\n",
    "        plt.title(\"label = \" + str(self.data_df.iloc[index, 0]))\n",
    "        plt.imshow(img, interpolation=\"none\", cmap=\"Blues\")\n",
    "        pass\n",
    "\n",
    "    pass"
   ]
  },
  {
   "cell_type": "code",
   "execution_count": null,
   "metadata": {
    "colab": {},
    "colab_type": "code",
    "id": "4xznLd7Cke2r"
   },
   "outputs": [],
   "source": [
    "# load data\n",
    "path = \"./mnist_train.csv\"\n",
    "mnist_dataset = MnistDataset(path)"
   ]
  },
  {
   "cell_type": "code",
   "execution_count": null,
   "metadata": {
    "colab": {
     "base_uri": "https://localhost:8080/",
     "height": 281
    },
    "colab_type": "code",
    "id": "CKMHzHy7ltUR",
    "outputId": "e77261f5-21e0-4098-a16a-a2afb6b56ae3"
   },
   "outputs": [],
   "source": [
    "# check data contains images\n",
    "\n",
    "mnist_dataset.plot_image(17)"
   ]
  },
  {
   "cell_type": "markdown",
   "metadata": {
    "colab_type": "text",
    "id": "tmHENpBuZzvh"
   },
   "source": [
    "## Data Functions"
   ]
  },
  {
   "cell_type": "code",
   "execution_count": null,
   "metadata": {
    "colab": {},
    "colab_type": "code",
    "id": "px_g8nYPBD3A"
   },
   "outputs": [],
   "source": [
    "# functions to generate random data\n",
    "\n",
    "\n",
    "def generate_random_image(size):\n",
    "    random_data = torch.rand(size)\n",
    "    return random_data\n",
    "\n",
    "\n",
    "def generate_random_seed(size):\n",
    "    random_data = torch.randn(size)\n",
    "    return random_data\n",
    "\n",
    "\n",
    "# size here must only be an integer\n",
    "def generate_random_one_hot(size):\n",
    "    label_tensor = torch.zeros((size))\n",
    "    random_idx = random.randint(0, size - 1)\n",
    "    label_tensor[random_idx] = 1.0\n",
    "    return label_tensor"
   ]
  },
  {
   "cell_type": "markdown",
   "metadata": {
    "colab_type": "text",
    "id": "AJ_E9wgYQybx"
   },
   "source": [
    "## Discriminator Network"
   ]
  },
  {
   "cell_type": "code",
   "execution_count": null,
   "metadata": {
    "colab": {},
    "colab_type": "code",
    "id": "MrgKlTsRAfSk"
   },
   "outputs": [],
   "source": [
    "# discriminator class\n",
    "\n",
    "\n",
    "class Discriminator(nn.Module):\n",
    "    def __init__(self):\n",
    "        # initialise parent pytorch class\n",
    "        super().__init__()\n",
    "\n",
    "        # define neural network layers\n",
    "        self.model = nn.Sequential(\n",
    "            nn.Linear(784 + 10, 200),\n",
    "            nn.LeakyReLU(0.02),\n",
    "            nn.LayerNorm(200),\n",
    "            nn.Linear(200, 1),\n",
    "            nn.Sigmoid(),\n",
    "        )\n",
    "\n",
    "        # create loss function\n",
    "        self.loss_function = nn.BCELoss()\n",
    "\n",
    "        # create optimiser, simple stochastic gradient descent\n",
    "        self.optimiser = torch.optim.Adam(self.parameters(), lr=0.0001)\n",
    "\n",
    "        # counter and accumulator for progress\n",
    "        self.counter = 0\n",
    "        self.progress = []\n",
    "\n",
    "        pass\n",
    "\n",
    "    def forward(self, image_tensor, label_tensor):\n",
    "        # combine seed and label\n",
    "        inputs = torch.cat((image_tensor, label_tensor))\n",
    "        return self.model(inputs)\n",
    "\n",
    "    def train(self, inputs, label_tensor, targets):\n",
    "        # calculate the output of the network\n",
    "        outputs = self.forward(inputs, label_tensor)\n",
    "\n",
    "        # calculate loss\n",
    "        loss = self.loss_function(outputs, targets)\n",
    "\n",
    "        # increase counter and accumulate error every 10\n",
    "        self.counter += 1\n",
    "        if self.counter % 10 == 0:\n",
    "            self.progress.append(loss.item())\n",
    "            pass\n",
    "        if self.counter % 10000 == 0:\n",
    "            print(\"counter = \", self.counter)\n",
    "            pass\n",
    "\n",
    "        # zero gradients, perform a backward pass, update weights\n",
    "        self.optimiser.zero_grad()\n",
    "        loss.backward()\n",
    "        self.optimiser.step()\n",
    "\n",
    "        pass\n",
    "\n",
    "    def plot_progress(self):\n",
    "        df = pandas.DataFrame(self.progress, columns=[\"loss\"])\n",
    "        df.plot(\n",
    "            ylim=(0),\n",
    "            figsize=(16, 8),\n",
    "            alpha=0.1,\n",
    "            marker=\".\",\n",
    "            grid=True,\n",
    "            yticks=(0, 0.25, 0.5, 1.0, 5.0),\n",
    "        )\n",
    "        pass\n",
    "\n",
    "    pass"
   ]
  },
  {
   "cell_type": "markdown",
   "metadata": {
    "colab_type": "text",
    "id": "IFajrD3xCgsb"
   },
   "source": [
    "## Test Discriminator"
   ]
  },
  {
   "cell_type": "code",
   "execution_count": null,
   "metadata": {
    "colab": {
     "base_uri": "https://localhost:8080/",
     "height": 255
    },
    "colab_type": "code",
    "id": "AXgCZ9DiCl3A",
    "outputId": "5b161bad-0e2c-4b2e-d713-4d5e1b3c049b"
   },
   "outputs": [],
   "source": [
    "%%time\n",
    "# test discriminator can separate real data from random noise\n",
    "\n",
    "D = Discriminator()\n",
    "\n",
    "for label, image_data_tensor, label_tensor in mnist_dataset:\n",
    "    # real data\n",
    "    D.train(image_data_tensor, label_tensor, torch.FloatTensor([1.0]))\n",
    "    # fake data\n",
    "    D.train(\n",
    "        generate_random_image(784),\n",
    "        generate_random_one_hot(10),\n",
    "        torch.FloatTensor([0.0]),\n",
    "    )\n",
    "    pass"
   ]
  },
  {
   "cell_type": "code",
   "execution_count": null,
   "metadata": {
    "colab": {
     "base_uri": "https://localhost:8080/",
     "height": 487
    },
    "colab_type": "code",
    "id": "aBh8AGJFDhcU",
    "outputId": "706d8c7d-4b52-4f5a-977b-2d7e207962a5"
   },
   "outputs": [],
   "source": [
    "# plot discriminator loss\n",
    "\n",
    "D.plot_progress()"
   ]
  },
  {
   "cell_type": "code",
   "execution_count": null,
   "metadata": {
    "colab": {
     "base_uri": "https://localhost:8080/",
     "height": 153
    },
    "colab_type": "code",
    "id": "MUMJn6efDkH5",
    "outputId": "22d6e506-7758-466a-c06d-c59c063d43fe"
   },
   "outputs": [],
   "source": [
    "# manually run discriminator to check it can tell real data from fake\n",
    "\n",
    "for i in range(4):\n",
    "    label, image_data_tensor, label_tensor = mnist_dataset[random.randint(0, 60000)]\n",
    "    print(D.forward(image_data_tensor, label_tensor).item())\n",
    "    pass\n",
    "\n",
    "for i in range(4):\n",
    "    print(D.forward(generate_random_image(784), generate_random_one_hot(10)).item())\n",
    "    pass"
   ]
  },
  {
   "cell_type": "markdown",
   "metadata": {
    "colab_type": "text",
    "id": "SsE9-KrguowG"
   },
   "source": [
    "## Generator Network"
   ]
  },
  {
   "cell_type": "code",
   "execution_count": null,
   "metadata": {
    "colab": {},
    "colab_type": "code",
    "id": "j-JwJlKDh_Ej"
   },
   "outputs": [],
   "source": [
    "# generator class\n",
    "\n",
    "\n",
    "class Generator(nn.Module):\n",
    "    def __init__(self):\n",
    "        # initialise parent pytorch class\n",
    "        super().__init__()\n",
    "\n",
    "        # define neural network layers\n",
    "        self.model = nn.Sequential(\n",
    "            nn.Linear(100 + 10, 200),\n",
    "            nn.LeakyReLU(0.02),\n",
    "            nn.LayerNorm(200),\n",
    "            nn.Linear(200, 784),\n",
    "            nn.Sigmoid(),\n",
    "        )\n",
    "\n",
    "        # create optimiser, simple stochastic gradient descent\n",
    "        self.optimiser = torch.optim.Adam(self.parameters(), lr=0.0001)\n",
    "\n",
    "        # counter and accumulator for progress\n",
    "        self.counter = 0\n",
    "        self.progress = []\n",
    "\n",
    "        pass\n",
    "\n",
    "    def forward(self, seed_tensor, label_tensor):\n",
    "        # combine seed and label\n",
    "        inputs = torch.cat((seed_tensor, label_tensor))\n",
    "        return self.model(inputs)\n",
    "\n",
    "    def train(self, D, inputs, label_tensor, targets):\n",
    "        # calculate the output of the network\n",
    "        g_output = self.forward(inputs, label_tensor)\n",
    "\n",
    "        # pass onto Discriminator\n",
    "        d_output = D.forward(g_output, label_tensor)\n",
    "\n",
    "        # calculate error\n",
    "        loss = D.loss_function(d_output, targets)\n",
    "\n",
    "        # increase counter and accumulate error every 10\n",
    "        self.counter += 1\n",
    "        if self.counter % 10 == 0:\n",
    "            self.progress.append(loss.item())\n",
    "            pass\n",
    "\n",
    "        # zero gradients, perform a backward pass, update weights\n",
    "        self.optimiser.zero_grad()\n",
    "        loss.backward()\n",
    "        self.optimiser.step()\n",
    "\n",
    "        pass\n",
    "\n",
    "    def plot_images(self, label):\n",
    "        label_tensor = torch.zeros((10))\n",
    "        label_tensor[label] = 1.0\n",
    "        # plot a 3 column, 2 row array of sample images\n",
    "        f, axarr = plt.subplots(2, 3, figsize=(16, 8))\n",
    "        for i in range(2):\n",
    "            for j in range(3):\n",
    "                axarr[i, j].imshow(\n",
    "                    G.forward(generate_random_seed(100), label_tensor)\n",
    "                    .detach()\n",
    "                    .cpu()\n",
    "                    .numpy()\n",
    "                    .reshape(28, 28),\n",
    "                    interpolation=\"none\",\n",
    "                    cmap=\"Blues\",\n",
    "                )\n",
    "                pass\n",
    "            pass\n",
    "        pass\n",
    "\n",
    "    def plot_progress(self):\n",
    "        df = pandas.DataFrame(self.progress, columns=[\"loss\"])\n",
    "        df.plot(\n",
    "            ylim=(0),\n",
    "            figsize=(16, 8),\n",
    "            alpha=0.1,\n",
    "            marker=\".\",\n",
    "            grid=True,\n",
    "            yticks=(0, 0.25, 0.5, 1.0, 5.0),\n",
    "        )\n",
    "        pass\n",
    "\n",
    "    pass"
   ]
  },
  {
   "cell_type": "markdown",
   "metadata": {
    "colab_type": "text",
    "id": "SwjycPNXxF7G"
   },
   "source": [
    "## Test Generator Output"
   ]
  },
  {
   "cell_type": "code",
   "execution_count": null,
   "metadata": {
    "colab": {
     "base_uri": "https://localhost:8080/",
     "height": 282
    },
    "colab_type": "code",
    "id": "84vbfjGRwodN",
    "outputId": "9b7e4bea-e0b1-4318-f754-c0d87fbc49df"
   },
   "outputs": [],
   "source": [
    "# check the generator output is of the right type and shape\n",
    "\n",
    "G = Generator()\n",
    "\n",
    "output = G.forward(generate_random_seed(100), generate_random_one_hot(10))\n",
    "\n",
    "img = output.detach().numpy().reshape(28, 28)\n",
    "\n",
    "plt.imshow(img, interpolation=\"none\", cmap=\"Blues\")"
   ]
  },
  {
   "cell_type": "markdown",
   "metadata": {
    "colab_type": "text",
    "id": "5k9SRwIkxTLi"
   },
   "source": [
    "## Train GAN"
   ]
  },
  {
   "cell_type": "code",
   "execution_count": null,
   "metadata": {
    "colab": {},
    "colab_type": "code",
    "id": "wO1iVIkwPZeJ"
   },
   "outputs": [],
   "source": [
    "# create Discriminator and Generator\n",
    "\n",
    "D = Discriminator()\n",
    "G = Generator()"
   ]
  },
  {
   "cell_type": "code",
   "execution_count": null,
   "metadata": {
    "colab": {},
    "colab_type": "code",
    "id": "radA76P9xWr1"
   },
   "outputs": [],
   "source": [
    "%%time\n",
    "\n",
    "# train Discriminator and Generator\n",
    "# this took around 5 hours for me on the CPU\n",
    "\n",
    "epochs = 12\n",
    "\n",
    "for epoch in range(epochs):\n",
    "    print(\"epoch = \", epoch + 1)\n",
    "\n",
    "    # train Discriminator and Generator\n",
    "\n",
    "    for label, image_data_tensor, label_tensor in mnist_dataset:\n",
    "        # train discriminator on true\n",
    "        D.train(image_data_tensor, label_tensor, torch.FloatTensor([1.0]))\n",
    "\n",
    "        # random 1-hot label for generator\n",
    "        random_label = generate_random_one_hot(10)\n",
    "\n",
    "        # train discriminator on false\n",
    "        # use detach() so gradients in G are not calculated\n",
    "        D.train(\n",
    "            G.forward(generate_random_seed(100), random_label).detach(),\n",
    "            random_label,\n",
    "            torch.FloatTensor([0.0]),\n",
    "        )\n",
    "\n",
    "        # different random 1-hot label for generator\n",
    "        random_label = generate_random_one_hot(10)\n",
    "\n",
    "        # train generator\n",
    "        G.train(D, generate_random_seed(100), random_label, torch.FloatTensor([1.0]))\n",
    "\n",
    "        pass\n",
    "\n",
    "    pass"
   ]
  },
  {
   "cell_type": "code",
   "execution_count": null,
   "metadata": {
    "colab": {
     "base_uri": "https://localhost:8080/",
     "height": 483
    },
    "colab_type": "code",
    "id": "WfGwR21QxYtV",
    "outputId": "9aae03cb-3852-4334-d5fd-abff33b90f6d"
   },
   "outputs": [],
   "source": [
    "# plot discriminator error\n",
    "\n",
    "D.plot_progress()"
   ]
  },
  {
   "cell_type": "code",
   "execution_count": null,
   "metadata": {
    "colab": {
     "base_uri": "https://localhost:8080/",
     "height": 483
    },
    "colab_type": "code",
    "id": "SIx0tJBixbGM",
    "outputId": "b18af6ad-df43-4761-ed4d-729da65933c2"
   },
   "outputs": [],
   "source": [
    "# plot generator error\n",
    "\n",
    "G.plot_progress()"
   ]
  },
  {
   "cell_type": "markdown",
   "metadata": {
    "colab_type": "text",
    "id": "vddYtD84xkmI"
   },
   "source": [
    "## Run Generator"
   ]
  },
  {
   "cell_type": "code",
   "execution_count": null,
   "metadata": {
    "colab": {
     "base_uri": "https://localhost:8080/",
     "height": 483
    },
    "colab_type": "code",
    "id": "mePLPy3Yxj9A",
    "outputId": "af5de962-d032-476d-8d50-8de3f14b22c5"
   },
   "outputs": [],
   "source": [
    "# plot several outputs from the trained generator\n",
    "\n",
    "G.plot_images(9)"
   ]
  },
  {
   "cell_type": "code",
   "execution_count": null,
   "metadata": {
    "colab": {
     "base_uri": "https://localhost:8080/",
     "height": 483
    },
    "colab_type": "code",
    "id": "65PMge6mz8nJ",
    "outputId": "fdcd6527-9799-43c4-9cb1-9d9780377137"
   },
   "outputs": [],
   "source": [
    "# plot several outputs from the trained generator\n",
    "\n",
    "G.plot_images(3)"
   ]
  },
  {
   "cell_type": "code",
   "execution_count": null,
   "metadata": {
    "colab": {
     "base_uri": "https://localhost:8080/",
     "height": 483
    },
    "colab_type": "code",
    "id": "FYffhvL-3Uqr",
    "outputId": "6301bd62-04cd-400c-809e-a8bf59374a12"
   },
   "outputs": [],
   "source": [
    "# plot several outputs from the trained generator\n",
    "\n",
    "G.plot_images(1)"
   ]
  },
  {
   "cell_type": "code",
   "execution_count": null,
   "metadata": {
    "colab": {
     "base_uri": "https://localhost:8080/",
     "height": 483
    },
    "colab_type": "code",
    "id": "Jk-JGUZAWaGj",
    "outputId": "20fb9e3a-1847-4309-c0b7-b67dec4fae93"
   },
   "outputs": [],
   "source": [
    "# plot several outputs from the trained generator\n",
    "\n",
    "G.plot_images(5)"
   ]
  },
  {
   "cell_type": "code",
   "execution_count": null,
   "metadata": {
    "colab": {},
    "colab_type": "code",
    "id": "GfCaq-XslxVn"
   },
   "outputs": [],
   "source": []
  }
 ],
 "metadata": {
  "colab": {
   "collapsed_sections": [],
   "name": "16_cgan_mnist.ipynb",
   "provenance": []
  },
  "kernelspec": {
   "display_name": "",
   "name": ""
  },
  "language_info": {
   "codemirror_mode": {
    "name": "ipython",
    "version": 3
   },
   "file_extension": ".py",
   "mimetype": "text/x-python",
   "name": "python",
   "nbconvert_exporter": "python",
   "pygments_lexer": "ipython3",
   "version": "3.11.4"
  }
 },
 "nbformat": 4,
 "nbformat_minor": 0
}
