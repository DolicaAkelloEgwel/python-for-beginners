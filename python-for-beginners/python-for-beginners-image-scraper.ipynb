{
 "cells": [
  {
   "attachments": {},
   "cell_type": "markdown",
   "id": "bebc1761",
   "metadata": {},
   "source": [
    "# Python For Beginners\n",
    "## Image Scraper Tutorial"
   ]
  },
  {
   "attachments": {},
   "cell_type": "markdown",
   "id": "557cbbb9",
   "metadata": {},
   "source": [
    "### Some Python Basics"
   ]
  },
  {
   "attachments": {},
   "cell_type": "markdown",
   "id": "1d17665c",
   "metadata": {},
   "source": [
    "### Calculator\n",
    "\n",
    "The Python interpreter can be used as a calculator."
   ]
  },
  {
   "cell_type": "code",
   "execution_count": null,
   "id": "9a4bcc50",
   "metadata": {},
   "outputs": [],
   "source": [
    "2 + 2"
   ]
  },
  {
   "attachments": {},
   "cell_type": "markdown",
   "id": "b1414bf4",
   "metadata": {},
   "source": [
    "### Hello World\n",
    "\n",
    "Variables can be used to store values so that they can be accessed or changed later. The `print()` command can be used to show the value of a variable."
   ]
  },
  {
   "cell_type": "code",
   "execution_count": null,
   "id": "529fd286",
   "metadata": {},
   "outputs": [],
   "source": [
    "my_text = \"Hello World!\"\n",
    "print(my_text)"
   ]
  },
  {
   "attachments": {},
   "cell_type": "markdown",
   "id": "bec91e8c",
   "metadata": {},
   "source": [
    "Try it yourself. "
   ]
  },
  {
   "cell_type": "code",
   "execution_count": null,
   "id": "dde5525c",
   "metadata": {},
   "outputs": [],
   "source": [
    "# live-coding goes here"
   ]
  },
  {
   "attachments": {},
   "cell_type": "markdown",
   "id": "995fad32",
   "metadata": {},
   "source": [
    "### Reassignment\n",
    "\n",
    "We can change the value of variable by using the `=` operator to change what it contains. Be that Notebooks allow you to execute cells in any order."
   ]
  },
  {
   "cell_type": "code",
   "execution_count": null,
   "id": "f5a358cb",
   "metadata": {},
   "outputs": [],
   "source": [
    "my_text = \"hello!\""
   ]
  },
  {
   "cell_type": "code",
   "execution_count": null,
   "id": "c9fa57f5",
   "metadata": {},
   "outputs": [],
   "source": [
    "print(my_text)"
   ]
  },
  {
   "cell_type": "code",
   "execution_count": null,
   "id": "cc5cf483",
   "metadata": {},
   "outputs": [],
   "source": [
    "my_text = \"goodbye!\""
   ]
  },
  {
   "attachments": {},
   "cell_type": "markdown",
   "id": "3a4f7641",
   "metadata": {},
   "source": [
    "### Numbers\n",
    "\n",
    "Numbers in Python come in the form of whole numbers (Integers) or numbers with decimals places (Floats)."
   ]
  },
  {
   "cell_type": "code",
   "execution_count": null,
   "id": "2110b088",
   "metadata": {},
   "outputs": [],
   "source": [
    "num = 10\n",
    "pi = 3.14"
   ]
  },
  {
   "attachments": {},
   "cell_type": "markdown",
   "id": "a41df52a",
   "metadata": {},
   "source": [
    "### Lists\n",
    "\n",
    "Lists are collections of different data that can be stored in a single variable."
   ]
  },
  {
   "cell_type": "code",
   "execution_count": null,
   "id": "507961bb",
   "metadata": {},
   "outputs": [],
   "source": [
    "my_list = [\"text-1\", \"text-2\", \"text-3\"]\n",
    "print(my_list)"
   ]
  },
  {
   "attachments": {},
   "cell_type": "markdown",
   "id": "0fb25afe",
   "metadata": {},
   "source": [
    "### Combining Things"
   ]
  },
  {
   "cell_type": "code",
   "execution_count": null,
   "id": "f8a5c472",
   "metadata": {},
   "outputs": [],
   "source": [
    "first_bit = \"Hello, my name is \"\n",
    "second_bit = \"name-goes-here.\"\n",
    "\n",
    "combined_text = first_bit + second_bit\n",
    "print(combined_text)"
   ]
  },
  {
   "cell_type": "code",
   "execution_count": null,
   "id": "b1fcd4e6",
   "metadata": {},
   "outputs": [],
   "source": [
    "first_list = [\"a\", \"b\", \"c\"]\n",
    "second_list = [1, 2, 3]\n",
    "\n",
    "combined_list = first_list + second_list\n",
    "print(combined_list)"
   ]
  },
  {
   "attachments": {},
   "cell_type": "markdown",
   "id": "7f5ce584",
   "metadata": {},
   "source": [
    "### Using Libraries"
   ]
  },
  {
   "cell_type": "code",
   "execution_count": null,
   "id": "24841e79",
   "metadata": {},
   "outputs": [],
   "source": [
    "%pip install emoji\n",
    "import emoji"
   ]
  },
  {
   "cell_type": "code",
   "execution_count": null,
   "id": "c7c5f035",
   "metadata": {},
   "outputs": [],
   "source": [
    "emojified = emoji.emojize(\"There is a :snake: in my boot!\")\n",
    "print(emojified)"
   ]
  },
  {
   "attachments": {},
   "cell_type": "markdown",
   "id": "ae9fb559",
   "metadata": {},
   "source": [
    "First things first, we need to download some libraries in order to get our code working. Libraries are code that have been written by other developers. A lot of the time, certain common tasks have already been attempted by others. Using libraries saves a lot of time."
   ]
  },
  {
   "cell_type": "code",
   "execution_count": null,
   "id": "526cbd66",
   "metadata": {},
   "outputs": [],
   "source": [
    "%pip install requests\n",
    "%pip install beautifulsoup4\n",
    "\n",
    "import requests\n",
    "from bs4 import BeautifulSoup"
   ]
  },
  {
   "attachments": {},
   "cell_type": "markdown",
   "id": "4de0498c",
   "metadata": {},
   "source": [
    "[Unsplash](https://unsplash.com) is a website that provides a lot of free images. The code below is capable of downloading images from Unsplash."
   ]
  },
  {
   "cell_type": "code",
   "execution_count": null,
   "id": "d250d8c8",
   "metadata": {},
   "outputs": [],
   "source": [
    "from PIL import Image\n",
    "import io\n",
    "\n",
    "\n",
    "def _bytes_to_image(image_data):\n",
    "    return Image.open(io.BytesIO(image_data))"
   ]
  },
  {
   "cell_type": "code",
   "execution_count": null,
   "id": "58198083",
   "metadata": {},
   "outputs": [],
   "source": [
    "def photo_downloader(theme: str):\n",
    "    # Create a url for unsplash based on our theme\n",
    "    source_url = \"https://unsplash.com/s/photos/\" + theme\n",
    "\n",
    "    # Download the website with the imagesT\n",
    "    response = requests.get(source_url, allow_redirects=True)\n",
    "\n",
    "    # Tell BeautifulSoup to process this as HTML\n",
    "    data = BeautifulSoup(response.text, \"html.parser\")\n",
    "\n",
    "    # Retrieve the chunks of the HTML that contain images\n",
    "    all_found_images = data.find_all(\"figure\", itemprop=\"image\")\n",
    "\n",
    "    image_urls = [image.find(\"a\", rel=\"nofollow\") for image in all_found_images]\n",
    "    image_urls = filter(None, image_urls)\n",
    "\n",
    "    photo_bytes = [\n",
    "        requests.get(image_url[\"href\"], allow_redirects=True).content\n",
    "        for image_url in image_urls\n",
    "    ]\n",
    "\n",
    "    print(f\"Downloaded {len(photo_bytes)} images.\")\n",
    "\n",
    "    return [_bytes_to_image(single_bytes) for single_bytes in photo_bytes]"
   ]
  },
  {
   "cell_type": "code",
   "execution_count": null,
   "id": "3f90a84a",
   "metadata": {},
   "outputs": [],
   "source": [
    "downloaded_photos = photo_downloader(\"robots\")\n",
    "downloaded_photos[0].show()"
   ]
  },
  {
   "cell_type": "code",
   "execution_count": null,
   "id": "37d15806",
   "metadata": {},
   "outputs": [],
   "source": [
    "import os\n",
    "import shutil"
   ]
  },
  {
   "cell_type": "code",
   "execution_count": null,
   "id": "48fd9927",
   "metadata": {},
   "outputs": [],
   "source": [
    "def photo_saver(image: Image, theme: str, count: int, folder_name: str):\n",
    "    # Create a filename for the image\n",
    "    img_filename = os.path.join(folder_name, f\"{theme}-{count:02d}.jpg\")\n",
    "\n",
    "    # creating a image object (main image)\n",
    "    image.save(img_filename)\n",
    "    print(f\"saved {img_filename}\")"
   ]
  },
  {
   "cell_type": "code",
   "execution_count": null,
   "id": "b8004726",
   "metadata": {},
   "outputs": [],
   "source": [
    "# Create a new \"scrapper-pictures\" folder and move to it\n",
    "picture_folder_name = \"testtt\"\n",
    "os.makedirs(picture_folder_name, exist_ok=True)\n",
    "\n",
    "for count, img in enumerate(downloaded_photos):\n",
    "    photo_saver(img, \"robots\", count, picture_folder_name)"
   ]
  },
  {
   "cell_type": "code",
   "execution_count": null,
   "id": "550c633d",
   "metadata": {},
   "outputs": [],
   "source": []
  }
 ],
 "metadata": {
  "kernelspec": {
   "display_name": "",
   "language": "python",
   "name": ""
  },
  "language_info": {
   "codemirror_mode": {
    "name": "ipython",
    "version": 3
   },
   "file_extension": ".py",
   "mimetype": "text/x-python",
   "name": "python",
   "nbconvert_exporter": "python",
   "pygments_lexer": "ipython3",
   "version": "3.11.3"
  }
 },
 "nbformat": 4,
 "nbformat_minor": 5
}
