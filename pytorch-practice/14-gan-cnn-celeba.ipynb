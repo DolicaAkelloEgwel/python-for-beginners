{
 "cells": [
  {
   "cell_type": "code",
   "execution_count": null,
   "metadata": {},
   "outputs": [],
   "source": [
    "import torch\n",
    "import torch.nn as nn\n",
    "from torch.utils.data import Dataset\n",
    "\n",
    "import h5py\n",
    "import pandas, numpy, random\n",
    "import matplotlib.pyplot as plt"
   ]
  },
  {
   "cell_type": "code",
   "execution_count": null,
   "metadata": {},
   "outputs": [],
   "source": [
    "if torch.cuda.is_available():\n",
    "    torch.set_default_tensor_type(torch.cuda.FloatTensor)\n",
    "    print(\"using cuda:\", torch.cuda.get_device_name(0))\n",
    "    pass\n",
    "\n",
    "device = torch.device(\"cuda\" if torch.cuda.is_available() else \"cpu\")\n",
    "device"
   ]
  },
  {
   "cell_type": "code",
   "execution_count": null,
   "metadata": {},
   "outputs": [],
   "source": [
    "def generate_random_image(size):\n",
    "    random_data = torch.rand(size)\n",
    "    return random_data\n",
    "\n",
    "\n",
    "def generate_random_seed(size):\n",
    "    random_data = torch.randn(size)\n",
    "    return random_data"
   ]
  },
  {
   "cell_type": "code",
   "execution_count": null,
   "metadata": {},
   "outputs": [],
   "source": [
    "class View(nn.Module):\n",
    "    def __init__(self, shape):\n",
    "        super().__init__()\n",
    "        self.shape = (shape,)\n",
    "\n",
    "    def forward(self, x):\n",
    "        return x.view(*self.shape)"
   ]
  },
  {
   "cell_type": "code",
   "execution_count": null,
   "metadata": {},
   "outputs": [],
   "source": [
    "def crop_centre(img, new_width, new_height):\n",
    "    height, width, _ = img.shape\n",
    "    startx = width // 2 - new_width // 2\n",
    "    starty = height // 2 - new_height // 2\n",
    "    return img[starty : starty + new_height, startx : startx + new_width, :]"
   ]
  },
  {
   "cell_type": "code",
   "execution_count": null,
   "metadata": {},
   "outputs": [],
   "source": [
    "class CelebADataset(Dataset):\n",
    "    def __init__(self, file):\n",
    "        self.file_object = h5py.File(file, \"r\")\n",
    "        self.dataset = self.file_object[\"img_align_celeba\"]\n",
    "\n",
    "    def __len__(self):\n",
    "        return len(self.dataset)\n",
    "\n",
    "    def __getitem__(self, index):\n",
    "        if index >= len(self.dataset):\n",
    "            raise IndexError()\n",
    "        img = numpy.array(self.dataset[str(index) + \".jpg\"])\n",
    "        # crop to 128x128 square\n",
    "        img = crop_centre(img, 128, 128)\n",
    "        return torch.cuda.FloatTensor(img).permute(2, 0, 1).view(1, 3, 128, 128) / 255.0\n",
    "\n",
    "    def plot_image(self, index):\n",
    "        img = numpy.array(self.dataset[str(index) + \".jpg\"])\n",
    "        # crop to 128x128 square\n",
    "        img = crop_centre(img, 128, 128)\n",
    "        plt.imshow(img, interpolation=\"nearest\")"
   ]
  },
  {
   "cell_type": "code",
   "execution_count": null,
   "metadata": {},
   "outputs": [],
   "source": [
    "path = \"celeba_aligned_small.h5py\"\n",
    "\n",
    "if torch.cuda.is_available() and \"Tesla\" in torch.cuda.get_device_name(0):\n",
    "    from google.colab import drive\n",
    "\n",
    "    drive.mount(\"/content/gdrive\")\n",
    "    path = \"/content/gdrive/MyDrive/Colab Notebooks/\" + path\n",
    "else:\n",
    "    path = \"./\" + path\n",
    "\n",
    "celeba_dataset = CelebADataset(path)"
   ]
  },
  {
   "cell_type": "code",
   "execution_count": null,
   "metadata": {},
   "outputs": [],
   "source": [
    "celeba_dataset.plot_image(43)"
   ]
  },
  {
   "cell_type": "code",
   "execution_count": null,
   "metadata": {},
   "outputs": [],
   "source": [
    "class Discriminator(nn.Module):\n",
    "    def __init__(self):\n",
    "        # initialise parent pytorch class\n",
    "        super().__init__()\n",
    "\n",
    "        # define neural network layers\n",
    "        self.model = nn.Sequential(\n",
    "            # expect input of shape (1,3,128,128)\n",
    "            nn.Conv2d(3, 256, kernel_size=8, stride=2),\n",
    "            nn.BatchNorm2d(256),\n",
    "            nn.LeakyReLU(0.2),\n",
    "            nn.Conv2d(256, 256, kernel_size=8, stride=2),\n",
    "            nn.BatchNorm2d(256),\n",
    "            nn.LeakyReLU(0.2),\n",
    "            nn.Conv2d(256, 3, kernel_size=8, stride=2),\n",
    "            nn.LeakyReLU(0.2),\n",
    "            View(3 * 10 * 10),\n",
    "            nn.Linear(3 * 10 * 10, 1),\n",
    "            nn.Sigmoid(),\n",
    "        )\n",
    "\n",
    "        # create loss function\n",
    "        self.loss_function = nn.BCELoss()\n",
    "\n",
    "        # create optimiser, simple stochastic gradient descent\n",
    "        self.optimiser = torch.optim.Adam(self.parameters(), lr=0.0001)\n",
    "\n",
    "        # counter and accumulator for progress\n",
    "        self.counter = 0\n",
    "        self.progress = []\n",
    "\n",
    "    def forward(self, inputs):\n",
    "        # simply run model\n",
    "        return self.model(inputs)\n",
    "\n",
    "    def train(self, inputs, targets):\n",
    "        # calculate the output of the network\n",
    "        outputs = self.forward(inputs)\n",
    "\n",
    "        # calculate loss\n",
    "        loss = self.loss_function(outputs, targets)\n",
    "\n",
    "        # increase counter and accumulate error every 10\n",
    "        self.counter += 1\n",
    "        if self.counter % 10 == 0:\n",
    "            self.progress.append(loss.item())\n",
    "        if self.counter % 1000 == 0:\n",
    "            print(\"counter = \", self.counter)\n",
    "\n",
    "        # zero gradients, perform a backward pass, update weights\n",
    "        self.optimiser.zero_grad()\n",
    "        loss.backward()\n",
    "        self.optimiser.step()\n",
    "\n",
    "    def plot_progress(self):\n",
    "        df = pandas.DataFrame(self.progress, columns=[\"loss\"])\n",
    "        df.plot(\n",
    "            ylim=(0),\n",
    "            figsize=(16, 8),\n",
    "            alpha=0.1,\n",
    "            marker=\".\",\n",
    "            grid=True,\n",
    "            yticks=(0, 0.25, 0.5, 1.0, 5.0),\n",
    "        )"
   ]
  },
  {
   "cell_type": "code",
   "execution_count": null,
   "metadata": {},
   "outputs": [],
   "source": [
    "%%time\n",
    "# test discriminator can separate real data from random noise\n",
    "\n",
    "D = Discriminator()\n",
    "# move model to cuda device\n",
    "D.to(device)\n",
    "\n",
    "for image_data_tensor in celeba_dataset:\n",
    "    # real data\n",
    "    D.train(image_data_tensor, torch.cuda.FloatTensor([1.0]))\n",
    "    # fake data\n",
    "    D.train(generate_random_image((1, 3, 128, 128)), torch.cuda.FloatTensor([0.0]))"
   ]
  },
  {
   "cell_type": "code",
   "execution_count": null,
   "metadata": {},
   "outputs": [],
   "source": [
    "D.plot_progress()"
   ]
  },
  {
   "cell_type": "code",
   "execution_count": null,
   "metadata": {},
   "outputs": [],
   "source": [
    "for i in range(4):\n",
    "    image_data_tensor = celeba_dataset[random.randint(0, 20000)]\n",
    "    print(D.forward(image_data_tensor).item())\n",
    "\n",
    "for i in range(4):\n",
    "    print(D.forward(generate_random_image((1, 3, 128, 128))).item())"
   ]
  },
  {
   "cell_type": "code",
   "execution_count": null,
   "metadata": {},
   "outputs": [],
   "source": [
    "class Generator(nn.Module):\n",
    "    def __init__(self):\n",
    "        # initialise parent pytorch class\n",
    "        super().__init__()\n",
    "\n",
    "        # define neural network layers\n",
    "        self.model = nn.Sequential(\n",
    "            # input is a 1d array\n",
    "            nn.Linear(100, 3 * 11 * 11),\n",
    "            nn.LeakyReLU(0.2),\n",
    "            # reshape to 4d\n",
    "            View((1, 3, 11, 11)),\n",
    "            nn.ConvTranspose2d(3, 256, kernel_size=8, stride=2),\n",
    "            nn.BatchNorm2d(256),\n",
    "            nn.LeakyReLU(0.2),\n",
    "            nn.ConvTranspose2d(256, 256, kernel_size=8, stride=2),\n",
    "            nn.BatchNorm2d(256),\n",
    "            nn.LeakyReLU(0.2),\n",
    "            nn.ConvTranspose2d(256, 3, kernel_size=8, stride=2, padding=1),\n",
    "            nn.BatchNorm2d(3),\n",
    "            # output should be (1,3,128,128)\n",
    "            nn.Sigmoid(),\n",
    "        )\n",
    "\n",
    "        # create optimiser, simple stochastic gradient descent\n",
    "        self.optimiser = torch.optim.Adam(self.parameters(), lr=0.0001)\n",
    "\n",
    "        # counter and accumulator for progress\n",
    "        self.counter = 0\n",
    "        self.progress = []\n",
    "\n",
    "    def forward(self, inputs):\n",
    "        # simply run model\n",
    "        return self.model(inputs)\n",
    "\n",
    "    def train(self, D, inputs, targets):\n",
    "        # calculate the output of the network\n",
    "        g_output = self.forward(inputs)\n",
    "\n",
    "        # pass onto Discriminator\n",
    "        d_output = D.forward(g_output)\n",
    "\n",
    "        # calculate error\n",
    "        loss = D.loss_function(d_output, targets)\n",
    "\n",
    "        # increase counter and accumulate error every 10\n",
    "        self.counter += 1\n",
    "        if self.counter % 10 == 0:\n",
    "            self.progress.append(loss.item())\n",
    "\n",
    "        # zero gradients, perform a backward pass, update weights\n",
    "        self.optimiser.zero_grad()\n",
    "        loss.backward()\n",
    "        self.optimiser.step()\n",
    "\n",
    "    def plot_progress(self):\n",
    "        df = pandas.DataFrame(self.progress, columns=[\"loss\"])\n",
    "        df.plot(\n",
    "            ylim=(0),\n",
    "            figsize=(16, 8),\n",
    "            alpha=0.1,\n",
    "            marker=\".\",\n",
    "            grid=True,\n",
    "            yticks=(0, 0.25, 0.5, 1.0, 5.0),\n",
    "        )"
   ]
  },
  {
   "cell_type": "code",
   "execution_count": null,
   "metadata": {},
   "outputs": [],
   "source": [
    "# check the generator output is of the right type and shape\n",
    "\n",
    "G = Generator()\n",
    "# move model to cuda device\n",
    "G.to(device)\n",
    "\n",
    "output = G.forward(generate_random_seed(100))\n",
    "\n",
    "img = output.detach().permute(0, 2, 3, 1).view(128, 128, 3).cpu().numpy()\n",
    "\n",
    "plt.imshow(img, interpolation=\"none\", cmap=\"Blues\")"
   ]
  },
  {
   "cell_type": "code",
   "execution_count": null,
   "metadata": {},
   "outputs": [],
   "source": [
    "%%time\n",
    "\n",
    "# create Discriminator and Generator\n",
    "\n",
    "D = Discriminator()\n",
    "G = Generator()\n",
    "D.to(device)\n",
    "G.to(device)\n",
    "\n",
    "epochs = 1\n",
    "\n",
    "for epoch in range(epochs):\n",
    "    print(\"epoch = \", epoch + 1)\n",
    "\n",
    "    # train Discriminator and Generator\n",
    "\n",
    "    for image_data_tensor in celeba_dataset:\n",
    "        # train discriminator on true\n",
    "        D.train(image_data_tensor, torch.cuda.FloatTensor([1.0]))\n",
    "\n",
    "        # train discriminator on false\n",
    "        # use detach() so gradients in G are not calculated\n",
    "        D.train(\n",
    "            G.forward(generate_random_seed(100)).detach(), torch.cuda.FloatTensor([0.0])\n",
    "        )\n",
    "\n",
    "        # train generator\n",
    "        G.train(D, generate_random_seed(100), torch.cuda.FloatTensor([1.0]))"
   ]
  },
  {
   "cell_type": "code",
   "execution_count": null,
   "metadata": {},
   "outputs": [],
   "source": [
    "D.plot_progress()"
   ]
  },
  {
   "cell_type": "code",
   "execution_count": null,
   "metadata": {},
   "outputs": [],
   "source": [
    "G.plot_progress()"
   ]
  },
  {
   "cell_type": "code",
   "execution_count": null,
   "metadata": {},
   "outputs": [],
   "source": [
    "f, axarr = plt.subplots(2, 3, figsize=(16, 8))\n",
    "for i in range(2):\n",
    "    for j in range(3):\n",
    "        output = G.forward(generate_random_seed(100))\n",
    "        img = output.detach().permute(0, 2, 3, 1).view(128, 128, 3).cpu().numpy()\n",
    "        axarr[i, j].imshow(img, interpolation=\"none\", cmap=\"Blues\")"
   ]
  },
  {
   "cell_type": "code",
   "execution_count": null,
   "metadata": {},
   "outputs": [],
   "source": [
    "torch.cuda.memory_allocated(device) / (1024 * 1024 * 1024)"
   ]
  },
  {
   "cell_type": "code",
   "execution_count": null,
   "metadata": {},
   "outputs": [],
   "source": [
    "torch.cuda.max_memory_allocated(device) / (1024 * 1024 * 1024)"
   ]
  }
 ],
 "metadata": {
  "language_info": {
   "name": "python"
  },
  "orig_nbformat": 4
 },
 "nbformat": 4,
 "nbformat_minor": 2
}
