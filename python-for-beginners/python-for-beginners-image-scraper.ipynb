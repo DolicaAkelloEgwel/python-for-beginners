{
 "cells": [
  {
   "attachments": {},
   "cell_type": "markdown",
   "metadata": {
    "colab_type": "text",
    "id": "view-in-github"
   },
   "source": [
    "<a href=\"https://colab.research.google.com/github/DolicaAkelloEgwel/python-slides/blob/main/python-for-beginners/python-for-beginners-image-scraper.ipynb\" target=\"_parent\"><img src=\"https://colab.research.google.com/assets/colab-badge.svg\" alt=\"Open In Colab\"/></a>"
   ]
  },
  {
   "attachments": {},
   "cell_type": "markdown",
   "id": "bebc1761",
   "metadata": {
    "id": "bebc1761"
   },
   "source": [
    "# Python For Beginners\n",
    "# Overview\n",
    "\n",
    "+ The Python Interpreter\n",
    "+ Hello World / Variables\n",
    "+ Variable Reassignment\n",
    "+ Numbers\n",
    "+ Lists\n",
    "+ Combining Things\n",
    "+ Libraries\n",
    "+ List Comprehensions"
   ]
  },
  {
   "attachments": {},
   "cell_type": "markdown",
   "id": "e00d87ac",
   "metadata": {
    "id": "e00d87ac"
   },
   "source": [
    "# Using Python Notebooks\n",
    "\n",
    "Python Notebooks are made up of blocks of code called cells. These cells can be run by clicking on the play button on the left of each code block. If the code runs successfully then you will see a green tick appear on the left. If there is any output then it will appear beneath the cell.\n",
    "\n",
    "Python Notebooks are handy resources for teaching as they allow me to combine explanation with examples. But do keep in mind that they do not play especially well with version control and for a more serious project you will probably want to learn how to write standalone Python files."
   ]
  },
  {
   "attachments": {},
   "cell_type": "markdown",
   "id": "557cbbb9",
   "metadata": {
    "id": "557cbbb9"
   },
   "source": [
    "# Some Python Basics"
   ]
  },
  {
   "attachments": {},
   "cell_type": "markdown",
   "id": "1d17665c",
   "metadata": {
    "id": "1d17665c"
   },
   "source": [
    "# Calculator\n",
    "\n",
    "The Python interpreter can be used as a calculator.\n",
    "\n",
    "**Exercise:** Find the value of `2 + 2` using Python."
   ]
  },
  {
   "cell_type": "code",
   "execution_count": null,
   "id": "9a4bcc50",
   "metadata": {
    "colab": {
     "base_uri": "https://localhost:8080/"
    },
    "id": "9a4bcc50",
    "outputId": "9520d7d7-65e2-4da6-dcd5-857c0c40e7c5"
   },
   "outputs": [],
   "source": [
    "# live coding goes here"
   ]
  },
  {
   "attachments": {},
   "cell_type": "markdown",
   "id": "e10a6976",
   "metadata": {},
   "source": [
    "# Comments\n",
    "\n",
    "Comments are lines of text that are ignored by the Python interpreter. In Python you write comments with the `#` symbol. They can be used to indicate what a certain part of the code is doing to a fellow coder or your future self. "
   ]
  },
  {
   "cell_type": "code",
   "execution_count": null,
   "id": "47f83ce9",
   "metadata": {},
   "outputs": [],
   "source": [
    "# I am about to add some numbers\n",
    "1 + 1  # The numbers are being added\n",
    "# I have just added some numbers"
   ]
  },
  {
   "attachments": {},
   "cell_type": "markdown",
   "id": "b1414bf4",
   "metadata": {
    "id": "b1414bf4"
   },
   "source": [
    "# Hello World\n",
    "\n",
    "Variables can be used to store values so that they can be used again or changed later. They are like labelled boxes for storing data. The `print()` command can be used to show the value of a variable."
   ]
  },
  {
   "cell_type": "code",
   "execution_count": null,
   "id": "529fd286",
   "metadata": {
    "colab": {
     "base_uri": "https://localhost:8080/"
    },
    "id": "529fd286",
    "outputId": "b458ae99-874a-458b-ac61-fade86ebf319"
   },
   "outputs": [],
   "source": [
    "my_text = \"Hello World!\"\n",
    "print(my_text)"
   ]
  },
  {
   "attachments": {},
   "cell_type": "markdown",
   "id": "bec91e8c",
   "metadata": {
    "id": "bec91e8c"
   },
   "source": [
    "**Exercise:** Create a variable called `greeting` containing the text `My name is [name goes here]` then use the `print()` command to show it."
   ]
  },
  {
   "cell_type": "code",
   "execution_count": null,
   "id": "dde5525c",
   "metadata": {
    "id": "dde5525c"
   },
   "outputs": [],
   "source": [
    "# live coding goes here"
   ]
  },
  {
   "attachments": {},
   "cell_type": "markdown",
   "id": "995fad32",
   "metadata": {
    "id": "995fad32"
   },
   "source": [
    "# Reassignment\n",
    "\n",
    "We can change the value of variable by using the `=` operator to give it another value. This is known as _reassignment_. Be aware that Notebooks allow you to execute cells in any order, meaning that it can be a bit trickier to ensure others get the same results you do."
   ]
  },
  {
   "cell_type": "code",
   "execution_count": null,
   "id": "f5a358cb",
   "metadata": {
    "id": "f5a358cb"
   },
   "outputs": [],
   "source": [
    "my_text = \"hello!\""
   ]
  },
  {
   "cell_type": "code",
   "execution_count": null,
   "id": "c9fa57f5",
   "metadata": {
    "colab": {
     "base_uri": "https://localhost:8080/"
    },
    "id": "c9fa57f5",
    "outputId": "a910da61-29f0-4971-ca00-bd005faf20f4"
   },
   "outputs": [],
   "source": [
    "print(my_text)"
   ]
  },
  {
   "cell_type": "code",
   "execution_count": null,
   "id": "cc5cf483",
   "metadata": {
    "id": "cc5cf483"
   },
   "outputs": [],
   "source": [
    "my_text = \"goodbye!\""
   ]
  },
  {
   "attachments": {},
   "cell_type": "markdown",
   "id": "3a4f7641",
   "metadata": {
    "id": "3a4f7641"
   },
   "source": [
    "# Numbers\n",
    "\n",
    "Numbers in Python come in the form of whole numbers (Integers) or numbers with decimals places (Floats)."
   ]
  },
  {
   "cell_type": "code",
   "execution_count": null,
   "id": "2110b088",
   "metadata": {
    "id": "2110b088"
   },
   "outputs": [],
   "source": [
    "num = 10\n",
    "pi = 3.14"
   ]
  },
  {
   "attachments": {},
   "cell_type": "markdown",
   "id": "a41df52a",
   "metadata": {
    "id": "a41df52a"
   },
   "source": [
    "# Lists\n",
    "\n",
    "Lists are collections of different data that can be stored in a single variable."
   ]
  },
  {
   "cell_type": "code",
   "execution_count": null,
   "id": "507961bb",
   "metadata": {
    "colab": {
     "base_uri": "https://localhost:8080/"
    },
    "id": "507961bb",
    "outputId": "c1881638-aa2b-4a75-fbc0-0b46830ee90c"
   },
   "outputs": [],
   "source": [
    "my_list = [\"text-1\", \"text-2\", \"text-3\"]\n",
    "print(my_list)"
   ]
  },
  {
   "cell_type": "code",
   "execution_count": null,
   "id": "125eddcf",
   "metadata": {
    "colab": {
     "base_uri": "https://localhost:8080/"
    },
    "id": "125eddcf",
    "outputId": "2fe9490d-dc2c-4bd1-da9f-2946ff3468d6"
   },
   "outputs": [],
   "source": [
    "print(my_list[0])"
   ]
  },
  {
   "attachments": {},
   "cell_type": "markdown",
   "id": "cabadccb",
   "metadata": {},
   "source": [
    "# Loops\n",
    "\n",
    "Loops allow you to repeat a certain action. They are especially helpful for doing things with lists."
   ]
  },
  {
   "cell_type": "code",
   "execution_count": null,
   "id": "ec582aa6",
   "metadata": {},
   "outputs": [],
   "source": [
    "cool_list = [1, 2, 3, 4, 5]\n",
    "for num in cool_list:\n",
    "    print(num)"
   ]
  },
  {
   "attachments": {},
   "cell_type": "markdown",
   "id": "0fb25afe",
   "metadata": {
    "id": "0fb25afe"
   },
   "source": [
    "# Combining Things with `+`\n",
    "\n",
    "The `+` operator doesn't just allow us to add numbers. It can also be used to combine some of the different data types in Python. Below you can see that it can be used to combine lists."
   ]
  },
  {
   "cell_type": "code",
   "execution_count": null,
   "id": "b1fcd4e6",
   "metadata": {
    "colab": {
     "base_uri": "https://localhost:8080/"
    },
    "id": "b1fcd4e6",
    "outputId": "7412d674-9ff0-4190-b6ac-82f2ad1d60ae"
   },
   "outputs": [],
   "source": [
    "first_list = [\"a\", \"b\", \"c\"]\n",
    "second_list = [1, 2, 3]\n",
    "\n",
    "combined_list = first_list + second_list\n",
    "print(combined_list)"
   ]
  },
  {
   "attachments": {},
   "cell_type": "markdown",
   "id": "a3830572",
   "metadata": {
    "id": "a3830572"
   },
   "source": [
    "**Exercise**: What will I get from the code below?"
   ]
  },
  {
   "cell_type": "code",
   "execution_count": null,
   "id": "8dedf476",
   "metadata": {
    "colab": {
     "base_uri": "https://localhost:8080/"
    },
    "id": "8dedf476",
    "outputId": "2b3748a8-1581-45d0-880b-25c4732abf6a"
   },
   "outputs": [],
   "source": [
    "print(second_list + first_list)"
   ]
  },
  {
   "attachments": {},
   "cell_type": "markdown",
   "id": "c4e6697e",
   "metadata": {
    "id": "c4e6697e"
   },
   "source": [
    "**Exercise:** The code below will take a bit of text called `first_text` and combine it with another text called `second_text`. Afterwards it will then `print()` the combined text. However, the lines in the code are out of order. What would be the right order for the code?\n",
    "\n",
    "```python\n",
    "combined_text = first_part + second_part\n",
    "first_part = \"Hello, my name is \"\n",
    "print(combined_text)\n",
    "second_part = \"name-goes-here.\"\n",
    "```"
   ]
  },
  {
   "cell_type": "code",
   "execution_count": null,
   "id": "f8a5c472",
   "metadata": {
    "id": "f8a5c472"
   },
   "outputs": [],
   "source": [
    "# live coding goes here"
   ]
  },
  {
   "attachments": {},
   "cell_type": "markdown",
   "id": "b52b8875",
   "metadata": {
    "id": "b52b8875"
   },
   "source": [
    "# Extra: Comprehensions\n",
    "\n",
    "Comprehensions are the \"Pythonic\" way of doing things with lists. You don't have to do it this way but you may find it interesting..."
   ]
  },
  {
   "cell_type": "code",
   "execution_count": null,
   "id": "d780219e",
   "metadata": {
    "colab": {
     "base_uri": "https://localhost:8080/"
    },
    "id": "d780219e",
    "outputId": "a4f5ef9e-5dac-481d-bd25-fd6508484b33"
   },
   "outputs": [],
   "source": [
    "my_list = [i for i in range(5)]\n",
    "print(my_list)"
   ]
  },
  {
   "attachments": {},
   "cell_type": "markdown",
   "id": "7f5ce584",
   "metadata": {
    "id": "7f5ce584"
   },
   "source": [
    "# Using Libraries\n",
    "\n",
    "+ Code written by other developers\n",
    "+ Good chance someone has tried to solve the same problem as you\n",
    "+ Don't have to reinvent the wheel\n",
    "\n",
    "I found this `emoji` library after a quick search on Google. You can find out more about it [here](https://github.com/carpedm20/emoji).\n",
    "\n",
    "In Python Notebooks you install a library with the command `%pip install a-helpful-library` but in the terminal/console it's just `pip install a-helpful-library`."
   ]
  },
  {
   "cell_type": "code",
   "execution_count": null,
   "id": "24841e79",
   "metadata": {
    "colab": {
     "base_uri": "https://localhost:8080/"
    },
    "id": "24841e79",
    "outputId": "dbe984e9-ac95-46dc-bf1e-75a272c2fde1"
   },
   "outputs": [],
   "source": [
    "%pip install emoji\n",
    "import emoji"
   ]
  },
  {
   "attachments": {},
   "cell_type": "markdown",
   "id": "51456055",
   "metadata": {},
   "source": [
    "Now we can use the `emojize` command that is given to us by the `emoji` library."
   ]
  },
  {
   "cell_type": "code",
   "execution_count": null,
   "id": "c7c5f035",
   "metadata": {
    "colab": {
     "base_uri": "https://localhost:8080/"
    },
    "id": "c7c5f035",
    "outputId": "aa49a24d-033b-4158-e8d3-eeeb7a729e18"
   },
   "outputs": [],
   "source": [
    "emojified_text = emoji.emojize(\"There is a :snake: in my boot!\")\n",
    "print(emojified_text)"
   ]
  },
  {
   "attachments": {},
   "cell_type": "markdown",
   "id": "16cd7f42",
   "metadata": {
    "id": "16cd7f42"
   },
   "source": [
    "# Making an Image Scraper\n",
    "\n",
    "For this portion of the workshop we'll use Python to download some images from the website Unsplash. We will then use some libraries to add \"glitchy\" effects to them.\n",
    "\n",
    "# Setting Up Libraries"
   ]
  },
  {
   "attachments": {},
   "cell_type": "markdown",
   "id": "ae9fb559",
   "metadata": {
    "id": "ae9fb559"
   },
   "source": [
    "First things first, we need to download some libraries in order to download images from the web.\n",
    "\n",
    "+ `requests` - Can get stuff from the web\n",
    "+ `BeautifulSoup` - Can use the \"stuff\" we get from the web and pick up the HTML in it"
   ]
  },
  {
   "cell_type": "code",
   "execution_count": null,
   "id": "526cbd66",
   "metadata": {
    "colab": {
     "base_uri": "https://localhost:8080/"
    },
    "id": "526cbd66",
    "outputId": "23899c5e-05dd-4bbc-8144-338bbca5ea42"
   },
   "outputs": [],
   "source": [
    "%pip install requests\n",
    "%pip install beautifulsoup4\n",
    "\n",
    "import requests\n",
    "from bs4 import BeautifulSoup"
   ]
  },
  {
   "attachments": {},
   "cell_type": "markdown",
   "id": "4de0498c",
   "metadata": {
    "id": "4de0498c"
   },
   "source": [
    "# Getting Stuff from the Web\n",
    "\n",
    "[Unsplash](https://unsplash.com) is a website that provides a lot of free images. The code below is capable of downloading images from Unsplash."
   ]
  },
  {
   "cell_type": "code",
   "execution_count": null,
   "id": "58198083",
   "metadata": {
    "id": "58198083"
   },
   "outputs": [],
   "source": [
    "def photo_downloader(image_theme):\n",
    "    \"\"\"Downloads photos from Unsplash based on a theme then converts them to the PIL Image format.\n",
    "\n",
    "    Args:\n",
    "        image_theme: The theme for the type of photo that should be downloaded.\n",
    "\n",
    "    Returns:\n",
    "        list: A list of photos in the bytes format.\n",
    "    \"\"\"\n",
    "    # Create a url for unsplash based on our theme\n",
    "    source_url = \"https://unsplash.com/s/photos/\" + image_theme\n",
    "\n",
    "    # Download the website with the pictures\n",
    "    response = requests.get(source_url, allow_redirects=True)\n",
    "\n",
    "    # Tell BeautifulSoup to process the website that we have just downloaded as HTML\n",
    "    data = BeautifulSoup(response.text, \"html.parser\")\n",
    "\n",
    "    # Retrieve the chunks of the HTML that contain photos\n",
    "    all_found_photos = data.find_all(\"figure\", itemprop=\"image\")\n",
    "\n",
    "    # Retrieve the photo URLs\n",
    "    photo_urls = [image.find(\"a\", rel=\"nofollow\") for image in all_found_photos]\n",
    "    photo_urls = filter(None, photo_urls)\n",
    "\n",
    "    # Download the photos - the requests library will do this in bytes format\n",
    "    photo_bytes = [\n",
    "        requests.get(photo_url[\"href\"], allow_redirects=True).content\n",
    "        for photo_url in photo_urls\n",
    "    ]\n",
    "\n",
    "    # Use a command called len to determine the length of the list - this is equivalent to how many photos were downloaded\n",
    "    print(f\"Downloaded {len(photo_bytes)} images.\")\n",
    "\n",
    "    # Return the list of photos\n",
    "    return photo_bytes"
   ]
  },
  {
   "attachments": {},
   "cell_type": "markdown",
   "id": "3388204c",
   "metadata": {
    "id": "3388204c"
   },
   "source": [
    "Now we can run or _call_ the function above by providing an argument. The argument is what will be used as our \"theme\" within the function. For this example I'm using the word \"robots\" but you're free to change it to whatever interests you. I am taking the list that is _returned_ by the function and saving it to a variable called `photo_bytes`."
   ]
  },
  {
   "cell_type": "code",
   "execution_count": null,
   "id": "3f90a84a",
   "metadata": {
    "id": "3f90a84a"
   },
   "outputs": [],
   "source": [
    "photo_bytes = photo_downloader(\"robots\")\n",
    "print(type(photo_bytes[0]))"
   ]
  },
  {
   "attachments": {},
   "cell_type": "markdown",
   "id": "523b28c0",
   "metadata": {},
   "source": [
    "The bytes format can't be displayed and the other libraries that can do things with images don't know how to read it. To work around this, we need a function that convert from bytes to a different format.\n",
    "\n",
    "Pillow or PIL is a fork of the Python Imaging Library. It provides a certain format for images called (drumroll) `Image`. To make a function that convert from bytes to `Image` we'll need some extra imports."
   ]
  },
  {
   "cell_type": "code",
   "execution_count": null,
   "id": "d250d8c8",
   "metadata": {
    "id": "d250d8c8"
   },
   "outputs": [],
   "source": [
    "from PIL import Image\n",
    "import io"
   ]
  },
  {
   "attachments": {},
   "cell_type": "markdown",
   "id": "13ab65c4",
   "metadata": {
    "id": "13ab65c4"
   },
   "source": [
    "# Functions\n",
    "\n",
    "Functions are bits of code that are repeated."
   ]
  },
  {
   "cell_type": "code",
   "execution_count": null,
   "id": "9cfa082c",
   "metadata": {
    "id": "9cfa082c"
   },
   "outputs": [],
   "source": [
    "def bytes_to_image(image_data):\n",
    "    \"\"\"Converts bytes to an Image.\n",
    "\n",
    "    Args:\n",
    "        image_data: The photo in the bytes format.\n",
    "\n",
    "    Returns:\n",
    "        Image: The converted PIL Image object.\n",
    "    \"\"\"\n",
    "    return Image.open(io.BytesIO(image_data))"
   ]
  },
  {
   "attachments": {},
   "cell_type": "markdown",
   "id": "a31dbdff",
   "metadata": {
    "id": "a31dbdff"
   },
   "source": [
    "Beneath the function _header_ I have placed a special type of comment called a **docstring**. Docstrings are longer comments that describe what a function does. They do not affect how a function behaves, but they make your code much easier to understand."
   ]
  },
  {
   "attachments": {},
   "cell_type": "markdown",
   "id": "ed4f254d",
   "metadata": {},
   "source": [
    "Now I can convert all the photos in the list using the new function."
   ]
  },
  {
   "cell_type": "code",
   "execution_count": null,
   "id": "56f5e091",
   "metadata": {},
   "outputs": [],
   "source": [
    "downloaded_photos = [bytes_to_image(img_bytes) for img_bytes in photo_bytes]"
   ]
  },
  {
   "attachments": {},
   "cell_type": "markdown",
   "id": "a39fe4dd",
   "metadata": {
    "id": "a39fe4dd"
   },
   "source": [
    "Now I can look at the first photo that was downloaded because `PIL` Images have a `.show()` command."
   ]
  },
  {
   "cell_type": "code",
   "execution_count": null,
   "id": "2657f1a7",
   "metadata": {
    "id": "2657f1a7"
   },
   "outputs": [],
   "source": [
    "downloaded_photos[0].show()"
   ]
  },
  {
   "attachments": {},
   "cell_type": "markdown",
   "id": "c98acb9f",
   "metadata": {
    "id": "c98acb9f"
   },
   "source": [
    "# Saving the Images\n",
    "\n",
    "The `os` library can help with the saving part of the program. It can be used to create folders on your computer. As it is part of the Python Standard Library, it doesn't need to be installed. It's already included with a Python installation."
   ]
  },
  {
   "cell_type": "code",
   "execution_count": null,
   "id": "37d15806",
   "metadata": {
    "id": "37d15806"
   },
   "outputs": [],
   "source": [
    "import os"
   ]
  },
  {
   "cell_type": "code",
   "execution_count": null,
   "id": "b8004726",
   "metadata": {
    "id": "b8004726"
   },
   "outputs": [],
   "source": [
    "# Pick a name for the folder in which the images will be saved\n",
    "picture_folder_name = \"scrapper-pictures\"\n",
    "# Create a new \"scrapper-pictures\" folder\n",
    "os.makedirs(picture_folder_name, exist_ok=True)"
   ]
  },
  {
   "attachments": {},
   "cell_type": "markdown",
   "id": "f7802f34",
   "metadata": {
    "id": "f7802f34"
   },
   "source": [
    "Now we can use a method for The `Image` library also has a built-in save tool. This can be used to save the photos that were downloaded."
   ]
  },
  {
   "cell_type": "code",
   "execution_count": null,
   "id": "48fd9927",
   "metadata": {
    "id": "48fd9927"
   },
   "outputs": [],
   "source": [
    "def photo_saver(image, theme, count, folder_name):\n",
    "    \"\"\"Saves a PIL Image to the disk.\n",
    "\n",
    "    Args:\n",
    "        image: The PIL Image to save.\n",
    "        theme: The image theme.\n",
    "        count: The image count.\n",
    "        folder_name: The name of the folder that the image will be saved to.\n",
    "    \"\"\"\n",
    "    # Create a filename for the image - using os.path helps ensure that things go well no matter what type of system you're using\n",
    "    img_filename = os.path.join(folder_name, f\"{theme}-{count:02d}.jpg\")\n",
    "\n",
    "    # Save the image using the filename we have created\n",
    "    image.save(img_filename)\n",
    "\n",
    "    # Print a message for assurance that something happened\n",
    "    print(f\"Saved {img_filename}\")"
   ]
  },
  {
   "cell_type": "code",
   "execution_count": null,
   "id": "701b91f1",
   "metadata": {
    "id": "701b91f1"
   },
   "outputs": [],
   "source": [
    "# Go through the downloaded images one by one and save them into the folder that was just created\n",
    "for count, img in enumerate(downloaded_photos):\n",
    "    photo_saver(img, \"robots\", count, picture_folder_name)"
   ]
  },
  {
   "attachments": {},
   "cell_type": "markdown",
   "id": "7553400c",
   "metadata": {
    "id": "7553400c"
   },
   "source": [
    "# Extra: Applying a Glitch Effect\n",
    "\n",
    "![](glitched-image-example.jpg)\n",
    "\n",
    "A library called `glitch-this` can be used for adding glitchy effects to images. Here is a link to its documentation.\n",
    "\n",
    "Like before it's installed using the command `%pip install glitch-this`."
   ]
  },
  {
   "cell_type": "code",
   "execution_count": null,
   "id": "8415b44b",
   "metadata": {
    "id": "8415b44b"
   },
   "outputs": [],
   "source": [
    "%pip install glitch-this\n",
    "from glitch_this import ImageGlitcher"
   ]
  },
  {
   "attachments": {},
   "cell_type": "markdown",
   "id": "bb226056",
   "metadata": {
    "id": "bb226056"
   },
   "source": [
    "When the `ImageGlitcher` has been imported we can now use it to create (or _initialise_) a variable for glitching photos."
   ]
  },
  {
   "cell_type": "code",
   "execution_count": null,
   "id": "d9e1aaa0",
   "metadata": {
    "id": "d9e1aaa0"
   },
   "outputs": [],
   "source": [
    "glitcher = ImageGlitcher()"
   ]
  },
  {
   "attachments": {},
   "cell_type": "markdown",
   "id": "67527422",
   "metadata": {
    "id": "67527422"
   },
   "source": [
    "Python comes with a library called `random` that can choose a random item from a list. Because it is included with Python there is no need to install it with `pip`."
   ]
  },
  {
   "cell_type": "code",
   "execution_count": null,
   "id": "2c68ddea",
   "metadata": {
    "id": "2c68ddea"
   },
   "outputs": [],
   "source": [
    "import random"
   ]
  },
  {
   "attachments": {},
   "cell_type": "markdown",
   "id": "c3791c9f",
   "metadata": {
    "id": "c3791c9f"
   },
   "source": [
    "Now let's pick a random photo from our list of downloaded photos and `show()` it."
   ]
  },
  {
   "cell_type": "code",
   "execution_count": null,
   "id": "89ef95a1",
   "metadata": {
    "id": "89ef95a1"
   },
   "outputs": [],
   "source": [
    "random_photo = random.choice(downloaded_photos)\n",
    "random_photo.show()"
   ]
  },
  {
   "attachments": {},
   "cell_type": "markdown",
   "id": "8ca8f3df",
   "metadata": {
    "id": "8ca8f3df"
   },
   "source": [
    "Now we can apply the glitch effect to the random photo and see what it looks like afterwards.\n",
    "\n",
    "The documentation goes into more detail about what the different parameters for the `glitch_image` command are doing."
   ]
  },
  {
   "cell_type": "code",
   "execution_count": null,
   "id": "bbfdf6fe",
   "metadata": {
    "id": "bbfdf6fe"
   },
   "outputs": [],
   "source": [
    "glitched_image = glitcher.glitch_image(random_photo, 3.5, color_offset=True)\n",
    "glitched_image.show()"
   ]
  },
  {
   "attachments": {},
   "cell_type": "markdown",
   "id": "3cb73e6d",
   "metadata": {
    "id": "3cb73e6d"
   },
   "source": [
    "Now to make things more interesting we can warp the image even further by using another library called `pixelsort`."
   ]
  },
  {
   "cell_type": "code",
   "execution_count": null,
   "id": "c165a239",
   "metadata": {
    "id": "c165a239"
   },
   "outputs": [],
   "source": [
    "%pip install pixelsort\n",
    "from pixelsort import pixelsort"
   ]
  },
  {
   "cell_type": "code",
   "execution_count": null,
   "id": "77859621",
   "metadata": {
    "id": "77859621"
   },
   "outputs": [],
   "source": [
    "sort_image = pixelsort(\n",
    "    glitched_image, sorting_function=\"intensity\", interval_function=\"edges\"\n",
    ")"
   ]
  },
  {
   "cell_type": "code",
   "execution_count": null,
   "id": "73e7f253",
   "metadata": {
    "id": "73e7f253"
   },
   "outputs": [],
   "source": [
    "sort_image = sort_image.convert(\"RGB\")\n",
    "sort_image.save(\"glitched-image.jpg\")\n",
    "sort_image.show()"
   ]
  },
  {
   "attachments": {},
   "cell_type": "markdown",
   "id": "546d889c",
   "metadata": {
    "id": "546d889c"
   },
   "source": [
    "# Recap\n",
    "\n",
    "+ Python Fundamentals\n",
    "+ Using Python to download things\n",
    "+ Going from one type of data to another\n",
    "+ Using several libraries together to create more interesting programs\n",
    "+ Python as a tool for adding effects to photos"
   ]
  },
  {
   "attachments": {},
   "cell_type": "markdown",
   "id": "8061ff9a",
   "metadata": {},
   "source": [
    "# Feedback\n",
    "\n",
    "Please fill in the course feedback form.\n",
    "\n",
    "https://moodle.arts.ac.uk/mod/feedback/view.php?id=951280\n",
    "\n",
    "![](feedback-qr-code.png)"
   ]
  },
  {
   "attachments": {},
   "cell_type": "markdown",
   "id": "fbc097fd",
   "metadata": {
    "id": "fbc097fd"
   },
   "source": [
    "# Tips for Learning Programming\n",
    "\n",
    "+ You absolutey _don't_ need to learn/memorise everything\n",
    "+ Most people remember a handful of things they use the most and look up the rest\n",
    "+ Making mistakes is normal - [even the pros do it](https://github.com/MrMEEE/bumblebee-Old-and-abbandoned/issues/123)"
   ]
  },
  {
   "attachments": {},
   "cell_type": "markdown",
   "id": "5f1162d6",
   "metadata": {
    "id": "5f1162d6"
   },
   "source": [
    "# What's Next\n",
    "\n",
    "+ Python for Machine Learning (Come back in the next academic year...)\n",
    "+ Version control / good coding practices"
   ]
  }
 ],
 "metadata": {
  "colab": {
   "include_colab_link": true,
   "provenance": []
  },
  "kernelspec": {
   "display_name": "",
   "language": "python",
   "name": ""
  },
  "language_info": {
   "codemirror_mode": {
    "name": "ipython",
    "version": 3
   },
   "file_extension": ".py",
   "mimetype": "text/x-python",
   "name": "python",
   "nbconvert_exporter": "python",
   "pygments_lexer": "ipython3",
   "version": "3.11.3"
  }
 },
 "nbformat": 4,
 "nbformat_minor": 5
}
