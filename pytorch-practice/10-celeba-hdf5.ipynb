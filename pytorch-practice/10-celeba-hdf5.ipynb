{
 "cells": [
  {
   "cell_type": "code",
   "execution_count": null,
   "metadata": {},
   "outputs": [],
   "source": [
    "import torchvision.datasets"
   ]
  },
  {
   "cell_type": "code",
   "execution_count": null,
   "metadata": {},
   "outputs": [],
   "source": [
    "import h5py\n",
    "import zipfile\n",
    "import imageio\n",
    "import os"
   ]
  },
  {
   "cell_type": "code",
   "execution_count": null,
   "metadata": {},
   "outputs": [],
   "source": [
    "hdf5_file = \"celeba_aligned_small.h5py\"\n",
    "total_images = 20000\n",
    "\n",
    "with h5py.File(hdf5_file, \"w\") as hf:\n",
    "    count = 0\n",
    "\n",
    "    with zipfile.ZipFile(\"./img_align_celeba.zip\", \"r\") as zf:\n",
    "        for i in zf.namelist():\n",
    "            if i[-4:] == \".jpg\":\n",
    "                # extract image\n",
    "                ofile = zf.extract(i)\n",
    "                img = imageio.imread(ofile)\n",
    "                os.remove(ofile)\n",
    "\n",
    "                # add image data to HDF5 file with new name\n",
    "                hf.create_dataset(\n",
    "                    \"img_align_celeba/\" + str(count) + \".jpg\",\n",
    "                    data=img,\n",
    "                    compression=\"gzip\",\n",
    "                    compression_opts=9,\n",
    "                )\n",
    "\n",
    "                count = count + 1\n",
    "                if count % 1000 == 0:\n",
    "                    print(\"images done .. \", count)\n",
    "                    pass\n",
    "\n",
    "                # stop when total_images reached\n",
    "                if count == total_images:\n",
    "                    break\n",
    "                pass\n",
    "\n",
    "            pass\n",
    "        pass"
   ]
  }
 ],
 "metadata": {
  "kernelspec": {
   "display_name": "",
   "language": "python",
   "name": ""
  },
  "language_info": {
   "codemirror_mode": {
    "name": "ipython",
    "version": 3
   },
   "file_extension": ".py",
   "mimetype": "text/x-python",
   "name": "python",
   "nbconvert_exporter": "python",
   "pygments_lexer": "ipython3",
   "version": "3.11.4"
  },
  "orig_nbformat": 4
 },
 "nbformat": 4,
 "nbformat_minor": 2
}
