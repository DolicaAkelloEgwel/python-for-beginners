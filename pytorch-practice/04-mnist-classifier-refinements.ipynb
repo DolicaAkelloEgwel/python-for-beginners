{
 "cells": [
  {
   "cell_type": "code",
   "execution_count": null,
   "metadata": {},
   "outputs": [],
   "source": [
    "import torch\n",
    "import torch.nn as nn\n",
    "from torch.utils.data import Dataset\n",
    "\n",
    "import pandas\n",
    "import matplotlib.pyplot as plt"
   ]
  },
  {
   "cell_type": "code",
   "execution_count": null,
   "metadata": {},
   "outputs": [],
   "source": [
    "import helpers"
   ]
  },
  {
   "cell_type": "code",
   "execution_count": null,
   "metadata": {},
   "outputs": [],
   "source": [
    "mnist_dataset = helpers.MnistDataset()"
   ]
  },
  {
   "cell_type": "code",
   "execution_count": null,
   "metadata": {},
   "outputs": [],
   "source": [
    "mnist_dataset.plot_image(9)"
   ]
  },
  {
   "cell_type": "code",
   "execution_count": null,
   "metadata": {},
   "outputs": [],
   "source": [
    "mnist_dataset[400]"
   ]
  },
  {
   "cell_type": "code",
   "execution_count": null,
   "metadata": {},
   "outputs": [],
   "source": [
    "class Classifier(nn.Module):\n",
    "    def __init__(self):\n",
    "        # initialise parent pytorch class\n",
    "        super().__init__()\n",
    "\n",
    "        # define neural network layers\n",
    "        self.model = nn.Sequential(\n",
    "            nn.Linear(784, 200),\n",
    "            nn.LeakyReLU(0.02),\n",
    "            nn.LayerNorm(200),\n",
    "            nn.Linear(200, 10),\n",
    "            nn.Sigmoid(),\n",
    "        )\n",
    "\n",
    "        # create loss function\n",
    "        self.loss_function = nn.BCELoss()\n",
    "\n",
    "        # create optimiser, using simple stochastic gradient descent\n",
    "        self.optimiser = torch.optim.Adam(self.parameters())\n",
    "\n",
    "        # counter and accumulator for progress\n",
    "        self.counter = 0\n",
    "        self.progress = []\n",
    "\n",
    "        pass\n",
    "\n",
    "    def forward(self, inputs):\n",
    "        # simply run model\n",
    "        return self.model(inputs)\n",
    "\n",
    "    def train(self, inputs, targets):\n",
    "        # calculate the output of the network\n",
    "        outputs = self.forward(inputs)\n",
    "\n",
    "        # calculate loss\n",
    "        loss = self.loss_function(outputs, targets)\n",
    "\n",
    "        # increase counter and accumulate error every 10\n",
    "        self.counter += 1\n",
    "        if self.counter % 10 == 0:\n",
    "            self.progress.append(loss.item())\n",
    "            pass\n",
    "        if self.counter % 10000 == 0:\n",
    "            print(\"counter = \", self.counter)\n",
    "            pass\n",
    "\n",
    "        # zero gradients, perform a backward pass, and update the weights\n",
    "        self.optimiser.zero_grad()\n",
    "        loss.backward()\n",
    "        self.optimiser.step()\n",
    "\n",
    "        pass\n",
    "\n",
    "    def plot_progress(self):\n",
    "        df = pandas.DataFrame(self.progress, columns=[\"loss\"])\n",
    "        df.plot(\n",
    "            ylim=(0, 1.0),\n",
    "            figsize=(16, 8),\n",
    "            alpha=0.1,\n",
    "            marker=\".\",\n",
    "            grid=True,\n",
    "            yticks=(0, 0.25, 0.5),\n",
    "        )\n",
    "        pass\n",
    "\n",
    "    pass"
   ]
  },
  {
   "cell_type": "code",
   "execution_count": null,
   "metadata": {},
   "outputs": [],
   "source": [
    "%%time\n",
    "# create neural network\n",
    "\n",
    "classifier = Classifier()\n",
    "\n",
    "# train network on MNIST data set\n",
    "\n",
    "epochs = 3\n",
    "\n",
    "for i in range(epochs):\n",
    "    print(\"training epoch\", i + 1, \"of\", epochs)\n",
    "    for label, image_data_tensor, target_tensor in mnist_dataset:\n",
    "        classifier.train(image_data_tensor, target_tensor)\n",
    "        pass\n",
    "    pass"
   ]
  },
  {
   "cell_type": "code",
   "execution_count": null,
   "metadata": {},
   "outputs": [],
   "source": [
    "classifier.plot_progress()"
   ]
  },
  {
   "cell_type": "code",
   "execution_count": null,
   "metadata": {},
   "outputs": [],
   "source": [
    "record = 19\n",
    "mnist_dataset.plot_image(record)"
   ]
  },
  {
   "cell_type": "code",
   "execution_count": null,
   "metadata": {},
   "outputs": [],
   "source": [
    "image_data = mnist_dataset[record][1]\n",
    "output = classifier.forward(image_data)\n",
    "pandas.DataFrame(output.detach().numpy()).plot(kind=\"bar\", legend=False, ylim=(0, 1))"
   ]
  },
  {
   "cell_type": "code",
   "execution_count": null,
   "metadata": {},
   "outputs": [],
   "source": [
    "score = 0\n",
    "items = 0\n",
    "\n",
    "for label, image_data_tensor, target_tensor in mnist_dataset:\n",
    "    answer = classifier.forward(image_data_tensor).detach().numpy()\n",
    "    if answer.argmax() == label:\n",
    "        score += 1\n",
    "        pass\n",
    "    items += 1\n",
    "    pass\n",
    "\n",
    "print(score, items, score / items)"
   ]
  }
 ],
 "metadata": {
  "kernelspec": {
   "display_name": "",
   "language": "python",
   "name": ""
  },
  "language_info": {
   "codemirror_mode": {
    "name": "ipython",
    "version": 3
   },
   "file_extension": ".py",
   "mimetype": "text/x-python",
   "name": "python",
   "nbconvert_exporter": "python",
   "pygments_lexer": "ipython3",
   "version": "3.11.4"
  },
  "orig_nbformat": 4
 },
 "nbformat": 4,
 "nbformat_minor": 2
}
